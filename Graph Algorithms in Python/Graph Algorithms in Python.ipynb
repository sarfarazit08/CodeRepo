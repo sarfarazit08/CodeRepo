{
 "cells": [
  {
   "cell_type": "markdown",
   "metadata": {},
   "source": [
    "# 1 - Course Overview"
   ]
  },
  {
   "cell_type": "markdown",
   "metadata": {},
   "source": [
    "+ **Introduction** to the graph data structure and its representaion and traversal\n",
    "+ **Ordering** of dependent nodes using topological sort\n",
    "+ **Shortest path** algorithms in weighted and unweighted graphs\n",
    "+ **Spanning tree** algorithms to connect all nodes in a graph"
   ]
  },
  {
   "cell_type": "markdown",
   "metadata": {},
   "source": [
    "# 2 - Graph Data Structure"
   ]
  },
  {
   "cell_type": "markdown",
   "metadata": {},
   "source": [
    "### Overview:\n",
    "\n",
    "+ Graphs are excellent tools for modelling complex relationships\n",
    "+ An adjacency matrix is the most common way of representing a graph\n",
    "+ Adjacency lists and Adjacency sets are alternative data representations\n",
    "+ There are 2 fundamental ways of traversing a graph.\n",
    "    1. Depth First\n",
    "    2. Breadth First"
   ]
  },
  {
   "cell_type": "markdown",
   "metadata": {},
   "source": [
    "## Graphs for Modeling Relationships\n",
    "\n",
    "+ Interconnections/Relationships between entities are represented in the form of graph.\n",
    "\n",
    "##### Usecases:\n",
    "\n",
    "| Entities | Relationships | Examples |\n",
    "|-|-|-|\n",
    "|People| Social, Professional| Facebook, LinkedIn|\n",
    "|Locations | Means of transportation (Road, Rail, Air) | Google Maps |\n",
    "|Phones (Mobile, landlines)| Mobile Networks| AT&T, Airtel |\n",
    "\n",
    "##### Neural Network Computation Graph\n",
    "\n",
    "+ The **Vertices** in the computation graph are neurons (simple building blocks). \n",
    "+ The **Edges** in the computation graph are data items called **Tensors**."
   ]
  },
  {
   "cell_type": "markdown",
   "metadata": {},
   "source": [
    "## Directed and Undirected Graphs, Trees and Forests"
   ]
  },
  {
   "cell_type": "markdown",
   "metadata": {},
   "source": [
    "### Graph(V,E)\n",
    "\n",
    "+ A set of vertices(v) and edges(E)\n",
    "    + **Directed Graph**: Relationship goes one way only. (one way road, Twitter followers)\n",
    "    + **Undirected Graph**: Relationship goes both ways (Facebook followers)\n",
    "+ **Adjacent nodes**: a single edge connects them\n",
    "+ **Degree**: The number edges connected to a node gives the degree of a node.\n",
    "    + **In-Degree**: edges that flow into a vertex give in-degree of a node.\n",
    "    + **Out-Degree**: edges that emanate from a vertex give out-degree of a node.\n",
    "+ **Path**: The series of connected edges from a node to another node represent a path.\n",
    "+ **Cyclic Graph**: Starting from a node if you traverse the edges and come back to the same node without traversing the same edge twice then that path represnts a cycle in a graph. Based on directed and undirected graph it could be :\n",
    "    + **Directed Cyclic Graph**\n",
    "    + **Undirected Cyclic Graph**\n",
    "+ **Acyclic Graph**: Starting from a node if you traverse the edges and can't reach the same node again then it represnts an acyclic graph.\n",
    "+ **Connected Graph**: Every node is connected to every other node via a series of edges. So, there is a path from every node to every other node.\n",
    "+ **Disconnected Graph**: Not every node is connected to every other node via a series of edges. So, there will be some isolated node(s) and it can't be reached from another node(s)."
   ]
  },
  {
   "cell_type": "markdown",
   "metadata": {},
   "source": [
    "### Tree"
   ]
  },
  {
   "cell_type": "markdown",
   "metadata": {},
   "source": [
    "+ Such a graph which is fully connected but have no cycle(s) in it is called a _Tree_. \n",
    "+ Trees are used for **Hierarchical Relationships**. \n",
    "+ Relationship in a tree called **Parent-Child** relationship.\n",
    "+ The top most node in the tree represents **root node**.\n",
    "    + Binary Tree: Every node has 2 or fewer node in the lower hierarchy. "
   ]
  },
  {
   "cell_type": "markdown",
   "metadata": {},
   "source": [
    "### Forest "
   ]
  },
  {
   "cell_type": "markdown",
   "metadata": {
    "collapsed": true
   },
   "source": [
    "+ Set of disjoint trees (fully connected, acyclic graph) represent a forest."
   ]
  },
  {
   "cell_type": "markdown",
   "metadata": {},
   "source": [
    "### Directed Acyclic Graphs (DAGs)"
   ]
  },
  {
   "cell_type": "markdown",
   "metadata": {},
   "source": [
    "+ Common applications :\n",
    "    + Scheduling tasks\n",
    "    + Evaluating Expressions\n",
    "+ E.g., Neural Network Computation Graph"
   ]
  },
  {
   "cell_type": "markdown",
   "metadata": {},
   "source": [
    "# Graph Representation\n",
    "\n",
    "Three ways to represent graphs in code:\n",
    "+ Adjacency Matrices\n",
    "+ Adjacency Lists\n",
    "+ Adjacency Sets"
   ]
  },
  {
   "cell_type": "markdown",
   "metadata": {},
   "source": [
    "### Adjacency Matrices"
   ]
  },
  {
   "cell_type": "markdown",
   "metadata": {},
   "source": [
    "+ Adjacency matrix of a graph with N nodes is an N x N matrix\n",
    "+ Adjacency matrix of an **Undirected graph is Symmetric**\n",
    "+ Adjacency matrix of a **Directed graph is Asymmetric**"
   ]
  },
  {
   "cell_type": "markdown",
   "metadata": {},
   "source": [
    "**Adjacency matrix of an Undirected Graph**"
   ]
  },
  {
   "cell_type": "code",
   "execution_count": 1,
   "metadata": {},
   "outputs": [
    {
     "name": "stdout",
     "output_type": "stream",
     "text": [
      "Adjacent to :  0 [1, 2]\n",
      "Adjacent to :  1 [0]\n",
      "Adjacent to :  2 [0, 3]\n",
      "Adjacent to :  3 [2]\n",
      "Indegree :  0 2\n",
      "Indegree :  1 1\n",
      "Indegree :  2 2\n",
      "Indegree :  3 1\n",
      "Edge weight :  0   1  weight :  1.0\n",
      "Edge weight :  0   2  weight :  1.0\n",
      "Edge weight :  1   0  weight :  1.0\n",
      "Edge weight :  2   0  weight :  1.0\n",
      "Edge weight :  2   3  weight :  1.0\n",
      "Edge weight :  3   2  weight :  1.0\n",
      "0 --> 1\n",
      "0 --> 2\n",
      "1 --> 0\n",
      "2 --> 0\n",
      "2 --> 3\n",
      "3 --> 2\n"
     ]
    }
   ],
   "source": [
    "from graph_adjacency_matrix import *\n",
    "\n",
    "g = AdjacencyMatrixGraph(4)\n",
    "\n",
    "g.add_edge(0,1)\n",
    "g.add_edge(0,2)\n",
    "g.add_edge(2,3)\n",
    "\n",
    "for i in range(4):\n",
    "    print(\"Adjacent to : \", i, g.get_adjacent_vertices(i))\n",
    "    \n",
    "\n",
    "for i in range(4):\n",
    "    print(\"Indegree : \", i, g.get_indegree(i))\n",
    "\n",
    "\n",
    "for i in range(4):\n",
    "    for j in g.get_adjacent_vertices(i):\n",
    "        print(\"Edge weight : \", i, \" \", j, \" weight : \", g.get_edge_weight(i,j))\n",
    "\n",
    "g.display()"
   ]
  },
  {
   "cell_type": "markdown",
   "metadata": {},
   "source": [
    "**Adjacency matrix of an Directed Graph**"
   ]
  },
  {
   "cell_type": "code",
   "execution_count": 2,
   "metadata": {},
   "outputs": [
    {
     "name": "stdout",
     "output_type": "stream",
     "text": [
      "Adjacent to :  0 [1, 2]\n",
      "Adjacent to :  1 []\n",
      "Adjacent to :  2 [3]\n",
      "Adjacent to :  3 []\n",
      "Indegree :  0 0\n",
      "Indegree :  1 1\n",
      "Indegree :  2 1\n",
      "Indegree :  3 1\n",
      "Edge weight :  0   1  weight :  1.0\n",
      "Edge weight :  0   2  weight :  1.0\n",
      "Edge weight :  2   3  weight :  1.0\n",
      "0 --> 1\n",
      "0 --> 2\n",
      "2 --> 3\n"
     ]
    }
   ],
   "source": [
    "from graph_adjacency_matrix import *\n",
    "\n",
    "g = AdjacencyMatrixGraph(4, directed = True)\n",
    "\n",
    "g.add_edge(0,1)\n",
    "g.add_edge(0,2)\n",
    "g.add_edge(2,3)\n",
    "\n",
    "for i in range(4):\n",
    "    print(\"Adjacent to : \", i, g.get_adjacent_vertices(i))\n",
    "    \n",
    "\n",
    "for i in range(4):\n",
    "    print(\"Indegree : \", i, g.get_indegree(i))\n",
    "\n",
    "\n",
    "for i in range(4):\n",
    "    for j in g.get_adjacent_vertices(i):\n",
    "        print(\"Edge weight : \", i, \" \", j, \" weight : \", g.get_edge_weight(i,j))\n",
    "\n",
    "g.display()"
   ]
  },
  {
   "cell_type": "markdown",
   "metadata": {},
   "source": [
    "### Adjacency List"
   ]
  },
  {
   "cell_type": "markdown",
   "metadata": {},
   "source": [
    "+ Each node maintains a **linked list** of adjacent nodes\n",
    "+ Two types\n",
    "    + Adjacency list for an Undirected Graph\n",
    "    + Adjacency list for a Directed Graph\n",
    "+ Flaws in Adjacency List\n",
    "    + In a list, order matters thus, the same graph can have multiple representations\n",
    "    + Deletion of node is inefficient, requires iterations through all adjacency lists\n",
    "\n",
    "And because of all these flaws we need **Adjacency Sets**."
   ]
  },
  {
   "cell_type": "markdown",
   "metadata": {},
   "source": [
    "### Adjacency Set"
   ]
  },
  {
   "cell_type": "markdown",
   "metadata": {},
   "source": [
    "+ Each node maintains a **set** of adjacent nodes\n",
    "+ Adjacency set for an Undirected Graph and Directed Graph is same."
   ]
  },
  {
   "cell_type": "markdown",
   "metadata": {},
   "source": [
    "**Adjacency Set of an Undirected Graph**"
   ]
  },
  {
   "cell_type": "code",
   "execution_count": 3,
   "metadata": {},
   "outputs": [
    {
     "name": "stdout",
     "output_type": "stream",
     "text": [
      "Adjacent to :  0 [1, 2]\n",
      "Adjacent to :  1 [0]\n",
      "Adjacent to :  2 [0, 3]\n",
      "Adjacent to :  3 [2]\n",
      "Indegree :  0 2\n",
      "Indegree :  1 1\n",
      "Indegree :  2 2\n",
      "Indegree :  3 1\n",
      "Edge weight :  0   1  weight :  1\n",
      "Edge weight :  0   2  weight :  1\n",
      "Edge weight :  1   0  weight :  1\n",
      "Edge weight :  2   0  weight :  1\n",
      "Edge weight :  2   3  weight :  1\n",
      "Edge weight :  3   2  weight :  1\n",
      "0 --> 1\n",
      "0 --> 2\n",
      "1 --> 0\n",
      "2 --> 0\n",
      "2 --> 3\n",
      "3 --> 2\n"
     ]
    }
   ],
   "source": [
    "from graph_adjacency_set import *\n",
    "\n",
    "g = AdjacencySetGraph(4, directed = False)\n",
    "\n",
    "g.add_edge(0,1,1)\n",
    "g.add_edge(0,2,1)\n",
    "g.add_edge(2,3,1)\n",
    "\n",
    "for i in range(4):\n",
    "    print(\"Adjacent to : \", i, g.get_adjacent_vertices(i))\n",
    "    \n",
    "\n",
    "for i in range(4):\n",
    "    print(\"Indegree : \", i, g.get_indegree(i))\n",
    "\n",
    "\n",
    "for i in range(4):\n",
    "    for j in g.get_adjacent_vertices(i):\n",
    "        print(\"Edge weight : \", i, \" \", j, \" weight : \", g.get_edge_weight(i,j))\n",
    "\n",
    "g.display()"
   ]
  },
  {
   "cell_type": "markdown",
   "metadata": {
    "collapsed": true
   },
   "source": [
    "**Adjacency Set of an Directed Graph**"
   ]
  },
  {
   "cell_type": "code",
   "execution_count": 4,
   "metadata": {},
   "outputs": [
    {
     "name": "stdout",
     "output_type": "stream",
     "text": [
      "Adjacent to :  0 [1, 2]\n",
      "Adjacent to :  1 []\n",
      "Adjacent to :  2 [3]\n",
      "Adjacent to :  3 []\n",
      "Indegree :  0 0\n",
      "Indegree :  1 1\n",
      "Indegree :  2 1\n",
      "Indegree :  3 1\n",
      "Edge weight :  0   1  weight :  1\n",
      "Edge weight :  0   2  weight :  1\n",
      "Edge weight :  2   3  weight :  1\n",
      "0 --> 1\n",
      "0 --> 2\n",
      "2 --> 3\n"
     ]
    }
   ],
   "source": [
    "from graph_adjacency_set import *\n",
    "\n",
    "g = AdjacencySetGraph(4, directed = True)\n",
    "\n",
    "g.add_edge(0,1,1)\n",
    "g.add_edge(0,2,1)\n",
    "g.add_edge(2,3,1)\n",
    "\n",
    "for i in range(4):\n",
    "    print(\"Adjacent to : \", i, g.get_adjacent_vertices(i))\n",
    "    \n",
    "\n",
    "for i in range(4):\n",
    "    print(\"Indegree : \", i, g.get_indegree(i))\n",
    "\n",
    "\n",
    "for i in range(4):\n",
    "    for j in g.get_adjacent_vertices(i):\n",
    "        print(\"Edge weight : \", i, \" \", j, \" weight : \", g.get_edge_weight(i,j))\n",
    "\n",
    "g.display()"
   ]
  },
  {
   "cell_type": "markdown",
   "metadata": {},
   "source": [
    "# Comparing Graph Representation"
   ]
  },
  {
   "cell_type": "markdown",
   "metadata": {},
   "source": [
    "|Parameters|Adjacency Matrix|Adjacency List|Adjacency Set|\n",
    "|-|-|-|-|\n",
    "| |Makes sense for small, densly connected graphs| Useful for large, sparsely connected graphs, saves on storage space|Always preferred over Adjacency Set|\n",
    "|Space required|O(v^2)| O(E+V)|O(E+V)|\n",
    "|Checking if edge is present| O(1) | O(degree V)|O(ln(degree V))|\n",
    "|Iteration over edges|O(V) | O(degree V)|O(degree V)|"
   ]
  },
  {
   "cell_type": "markdown",
   "metadata": {},
   "source": [
    "# Depth-First and Breadth-First Graph Traversal"
   ]
  },
  {
   "cell_type": "markdown",
   "metadata": {},
   "source": [
    "+ Two ways of Traversing Graphs\n",
    "    + _Breadth First_: All nodes at same distance from origin visited together\n",
    "    + _Depth First_: All nodes in certain direction from origin visited together\n",
    "    \n",
    "+ E.g., Two ways of Conveying Information\n",
    "    + \"Answer First\" (like Headlines in newspapers)\n",
    "    + \"Drop the mic\" (like Punchlines in comedy)\n",
    "    \n",
    "+ Tree Traversal is easier to understand than graph traversal"
   ]
  },
  {
   "cell_type": "markdown",
   "metadata": {},
   "source": [
    "### Breadth-first tree traversal\n",
    "\n",
    "+ Start from the root node\n",
    "+ Nodes are visted level-by-level\n",
    "\n",
    "### Depth-first tree traversal\n",
    "\n",
    "+ Start from the root node\n",
    "+ Choose a direction to traverse\n",
    "+ Nodes are visted in a certain choosen direction first"
   ]
  },
  {
   "cell_type": "markdown",
   "metadata": {},
   "source": [
    "### Traversal Algorithms\n",
    "\n",
    "| Traversing a Tree | Traversing a Graph |\n",
    "|-|-|\n",
    "| One node is designated root | No designated root |\n",
    "| Only one specific path from root to any node | Multiple paths possible between any pair of nodes |\n",
    "| No Cycles | Cycles possible |\n",
    "| Any node will be visisted exactly once | Nodes could be visited multiple times (could lead to infinite loop) |\n",
    "| No need to track which nodes already visited | Essential to track which nodes already visited |\n",
    "| No unconnected nodes possible | Unconnected nodes possible |\n",
    "| No need to track which nodes already visited | Algorithm can't terminate until all nodes have been visited|\n",
    "\n",
    "**Note**: Graph Traversal, unlike Tree Traversal, explicitly needs to ensure that each node is visited exactly once."
   ]
  },
  {
   "cell_type": "markdown",
   "metadata": {},
   "source": [
    "### Breadth-first traversal of an Undirected Graph - Demo"
   ]
  },
  {
   "cell_type": "code",
   "execution_count": 5,
   "metadata": {},
   "outputs": [
    {
     "name": "stdout",
     "output_type": "stream",
     "text": [
      "Visited :  2\n",
      "Visited :  1\n",
      "Visited :  3\n",
      "Visited :  4\n",
      "Visited :  7\n",
      "Visited :  0\n",
      "Visited :  5\n",
      "Visited :  6\n",
      "Visited :  8\n"
     ]
    }
   ],
   "source": [
    "from graph_breadth_first import *\n",
    "\n",
    "g = AdjacencyMatrixGraph(9) \n",
    "\n",
    "g.add_edge(0,1)\n",
    "g.add_edge(1,2)\n",
    "g.add_edge(2,7)\n",
    "g.add_edge(2,4)\n",
    "g.add_edge(2,3)\n",
    "g.add_edge(1,5)\n",
    "g.add_edge(5,6)\n",
    "g.add_edge(6,3)\n",
    "g.add_edge(3,4)\n",
    "g.add_edge(6,8)\n",
    "\n",
    "breadth_first(g,2)"
   ]
  },
  {
   "cell_type": "markdown",
   "metadata": {},
   "source": [
    "### Breadth-first traversal of an Directed Graph - Demo"
   ]
  },
  {
   "cell_type": "code",
   "execution_count": 6,
   "metadata": {},
   "outputs": [
    {
     "name": "stdout",
     "output_type": "stream",
     "text": [
      "Visited :  0\n",
      "Visited :  1\n",
      "Visited :  2\n",
      "Visited :  5\n",
      "Visited :  3\n",
      "Visited :  4\n",
      "Visited :  7\n",
      "Visited :  6\n",
      "Visited :  8\n"
     ]
    }
   ],
   "source": [
    "from graph_breadth_first import *\n",
    "\n",
    "g = AdjacencyMatrixGraph(9, directed = True) \n",
    "\n",
    "g.add_edge(0,1)\n",
    "g.add_edge(1,2)\n",
    "g.add_edge(2,7)\n",
    "g.add_edge(2,4)\n",
    "g.add_edge(2,3)\n",
    "g.add_edge(1,5)\n",
    "g.add_edge(5,6)\n",
    "g.add_edge(6,3)\n",
    "g.add_edge(3,4)\n",
    "g.add_edge(6,8)\n",
    "\n",
    "breadth_first(g,0)"
   ]
  },
  {
   "cell_type": "markdown",
   "metadata": {},
   "source": [
    "### Depth-first traversal of an Undirected Graph - Demo"
   ]
  },
  {
   "cell_type": "code",
   "execution_count": 7,
   "metadata": {},
   "outputs": [
    {
     "name": "stdout",
     "output_type": "stream",
     "text": [
      "Visited :  0\n",
      "Visited :  1\n",
      "Visited :  2\n",
      "Visited :  3\n",
      "Visited :  4\n",
      "Visited :  6\n",
      "Visited :  5\n",
      "Visited :  8\n",
      "Visited :  7\n"
     ]
    }
   ],
   "source": [
    "import numpy as np\n",
    "from graph_depth_first import *\n",
    "\n",
    "g = AdjacencyMatrixGraph(9) \n",
    "\n",
    "g.add_edge(0,1)\n",
    "g.add_edge(1,2)\n",
    "g.add_edge(2,7)\n",
    "g.add_edge(2,4)\n",
    "g.add_edge(2,3)\n",
    "g.add_edge(1,5)\n",
    "g.add_edge(5,6)\n",
    "g.add_edge(6,3)\n",
    "g.add_edge(3,4)\n",
    "g.add_edge(6,8)\n",
    "\n",
    "visited = np.zeros(g.numVertices)\n",
    "\n",
    "depth_first(g,visited)"
   ]
  },
  {
   "cell_type": "markdown",
   "metadata": {},
   "source": [
    "### Depth-first traversal of an Directed Graph - Demo"
   ]
  },
  {
   "cell_type": "code",
   "execution_count": 8,
   "metadata": {},
   "outputs": [
    {
     "name": "stdout",
     "output_type": "stream",
     "text": [
      "Visited :  0\n",
      "Visited :  1\n",
      "Visited :  2\n",
      "Visited :  3\n",
      "Visited :  4\n",
      "Visited :  7\n",
      "Visited :  5\n",
      "Visited :  6\n",
      "Visited :  8\n"
     ]
    }
   ],
   "source": [
    "import numpy as np\n",
    "from graph_depth_first import *\n",
    "\n",
    "g = AdjacencyMatrixGraph(9, directed = True) \n",
    "\n",
    "g.add_edge(0,1)\n",
    "g.add_edge(1,2)\n",
    "g.add_edge(2,7)\n",
    "g.add_edge(2,4)\n",
    "g.add_edge(2,3)\n",
    "g.add_edge(1,5)\n",
    "g.add_edge(5,6)\n",
    "g.add_edge(6,3)\n",
    "g.add_edge(3,4)\n",
    "g.add_edge(6,8)\n",
    "\n",
    "visited = np.zeros(g.numVertices)\n",
    "\n",
    "depth_first(g,visited)"
   ]
  },
  {
   "cell_type": "markdown",
   "metadata": {},
   "source": [
    "### Summary\n",
    "\n",
    "+ Graphs are excellent tools for modelling complex relationships\n",
    "+ An adjacency matrix is most common way of representing a graph\n",
    "+ Adjacency list and Ajdacency sets are alternative data representations\n",
    "+ The two fundamental ways of traversing a graph are\n",
    "    + Depth-first\n",
    "    + Breadth-first"
   ]
  },
  {
   "cell_type": "markdown",
   "metadata": {
    "collapsed": true
   },
   "source": [
    "# 3 - Understanding Topological Sort"
   ]
  },
  {
   "cell_type": "markdown",
   "metadata": {
    "collapsed": true
   },
   "source": [
    "### The Power of Directed Acyclic Graphs"
   ]
  },
  {
   "cell_type": "markdown",
   "metadata": {},
   "source": [
    "+ A directed graph with no cycle is called a Directed Acyclic Graph (DAG)\n",
    "+ Common applications:\n",
    "    + Scheduling tasks\n",
    "    + Evaluating Expressions\n",
    "    + Building Neural Network Models"
   ]
  },
  {
   "cell_type": "markdown",
   "metadata": {
    "collapsed": true
   },
   "source": [
    "**TenserFlow (TF)** is a great library for Machine Learning which is optimized for building Neural Networks.\n",
    "\n",
    "+ Everything is a graph in TF\n",
    "+ Edges are called Tensors\n",
    "+ Nodes represent operations or data point\n",
    "+ One node can send its output to multiple nodes \n",
    "+ Or recieve inputs from multiple nodes\n",
    "+ If two nodes are directly connected in the graph then they've **Direct Dependency**\n",
    "+ If two nodes are not directly connected but with a series of edges in the graph then they've **Indirect Dependency**\n",
    "+ There are no cycles in the graph"
   ]
  },
  {
   "cell_type": "markdown",
   "metadata": {
    "collapsed": true
   },
   "source": [
    "## Topological Sort Algorithm"
   ]
  },
  {
   "cell_type": "markdown",
   "metadata": {
    "collapsed": true
   },
   "source": [
    "A **Topological Sort** is any ordering of all the graphs's (the DAG's) vertices that satisfies all precedence relationships.\n",
    "\n",
    "+ A graph can have more than one Topological Sort\n",
    "+ Applies to Directed Acyclic Graph (DAG)\n",
    "+ DAGs model precedence relationships\n",
    "+ There is **no** Topological Sort possible for Cyclic Graph"
   ]
  },
  {
   "cell_type": "markdown",
   "metadata": {},
   "source": [
    "### Topological Sort Algorithm Implementation\n",
    "\n",
    "1. \"Comes-before\" implementation\n",
    "2. \"Comes-after\" implementation (use of \"In-degree\")\n",
    "\n",
    "**In-degree**: The in-degree of a node is the number of directed edges that **directly flow** into that node."
   ]
  },
  {
   "cell_type": "markdown",
   "metadata": {
    "collapsed": true
   },
   "source": [
    "**Implementation Steps:**\n",
    "\n",
    "1. If no node has in-degree = 0, \n",
    "   + the **graph is cyclic** and is not **DAG**\n",
    "   + Topological Sort is not possible\n",
    "2. Start the Topologial Sort procedure by visiting any one node that has in-degree = 0 (zero).\n",
    "3. Remove the visited node from the original graph\n",
    "4. Decrement the in-degree of all nodes that \"comes after\" the removed node.\n",
    "5. Repeat the steps 2 and 3 until left with a single final node\n",
    "6. It's totally possible for a graph to have more than one Topological Sort Order."
   ]
  },
  {
   "cell_type": "markdown",
   "metadata": {
    "collapsed": true
   },
   "source": [
    "**Points to remember:**\n",
    "\n",
    "+ Time Complexity : O(V+E)\n",
    "+ Each edge visited exactly once\n",
    "+ Each verted visited eactly once\n",
    "+ Multiple Topological Sort Solutions possible"
   ]
  },
  {
   "cell_type": "markdown",
   "metadata": {
    "collapsed": true
   },
   "source": [
    "### Topological Sort Implementation - Demo"
   ]
  },
  {
   "cell_type": "markdown",
   "metadata": {},
   "source": [
    "##### Directed Acyclic Graph"
   ]
  },
  {
   "cell_type": "code",
   "execution_count": 9,
   "metadata": {},
   "outputs": [
    {
     "name": "stdout",
     "output_type": "stream",
     "text": [
      "[0, 1, 2, 5, 3, 7, 4, 6, 8]\n"
     ]
    }
   ],
   "source": [
    "from topological_sort import *\n",
    "from graph_adjacency_matrix import *\n",
    "\n",
    "g = AdjacencyMatrixGraph(9, directed=True) # DAG\n",
    "\n",
    "g.add_edge(0,1)\n",
    "g.add_edge(1,2)\n",
    "g.add_edge(2,7)\n",
    "g.add_edge(2,4)\n",
    "g.add_edge(2,3)\n",
    "g.add_edge(1,5)\n",
    "g.add_edge(5,6)\n",
    "g.add_edge(3,6)\n",
    "g.add_edge(3,4)\n",
    "g.add_edge(6,8)\n",
    "\n",
    "topological_sort(g)"
   ]
  },
  {
   "cell_type": "markdown",
   "metadata": {
    "collapsed": true
   },
   "source": [
    "##### Directed Cyclic Graph"
   ]
  },
  {
   "cell_type": "code",
   "execution_count": 10,
   "metadata": {},
   "outputs": [
    {
     "name": "stdout",
     "output_type": "stream",
     "text": [
      "The Graph is cylic.\n",
      "[]\n"
     ]
    }
   ],
   "source": [
    "from topological_sort import *\n",
    "from graph_adjacency_matrix import *\n",
    "\n",
    "g = AdjacencyMatrixGraph(9, directed=True) # DAG\n",
    "\n",
    "g.add_edge(0,1)\n",
    "g.add_edge(1,2)\n",
    "g.add_edge(2,0)\n",
    "g.add_edge(2,7)\n",
    "g.add_edge(2,4)\n",
    "g.add_edge(2,3)\n",
    "g.add_edge(1,5)\n",
    "g.add_edge(5,6)\n",
    "g.add_edge(3,6)\n",
    "g.add_edge(3,4)\n",
    "g.add_edge(6,8)\n",
    "\n",
    "topological_sort(g)"
   ]
  },
  {
   "cell_type": "markdown",
   "metadata": {
    "collapsed": true
   },
   "source": [
    "# 4 - Working with Shortest Path Algorithms"
   ]
  },
  {
   "cell_type": "markdown",
   "metadata": {
    "collapsed": true
   },
   "source": [
    "3 Common Graph Problems:\n",
    "\n",
    "|Problems| Solutions|\n",
    "|-|-|\n",
    "|1. Establishing Precedence|Topological Sort|\n",
    "|2. Getting from point A to point B|Shortest Path Algorithm|\n",
    "|3. Covering all nodes in a graph|Minimum Spanning Tree Algorithm|\n",
    "\n",
    "### Overview\n",
    "\n",
    "+ Shortest path algorithms are widely used in transportation and scheduling\n",
    "+ Such algorithms focus on the most efficient route between a pair of nodes\n",
    "+ Edge weights determine the cost of a path in such algorithms\n",
    "+ If all edge weights are equal, use the **Unweighted Shortest Path Algorithm**\n",
    "+ IF edge weights are unequal, use **Dijkstra's Algorithm**\n",
    "\n",
    "#### Distance Table\n",
    "\n",
    "+ Algorithm operates through a data structure called the **distance table.**\n",
    "+ It contains:\n",
    "    1. _Node_: Holds all the nodes of the graph\n",
    "    2. _Distance_: Holds the shortest distance from the source node\n",
    "    3. _Preceding Node_: Holds the preceding node in the shortest path from source node to that particular node\n",
    "+ Distance Table changes based on the source node selected to find shortest distance path\n",
    "+ Cost of shortest distance path = no. of hops between the nodes in question\n",
    "\n",
    "#### Buidling the Distance Table\n",
    "\n",
    "1. At outset, all we know is that source node is at distance = 0 from itself.\n",
    "2. Start at the source, initialize a queue of nodes (nodes that we've not visited so far)\n",
    "3. Add immediate neighbors of source node to the queue\n",
    "4. Update distance table for those immediate neighbors\n",
    "5. if you still have nodes in the queue to process, repeat this by dequeuing the first node from the left ones\n",
    "6. Add immediate neighbors to queue for the node left after dequeue\n",
    "7. Update distance table for those immediate neighbors\n",
    "8. Repeat steps 5, 6 and 7 until all the immediate neighbors covered (no processing is needed)\n",
    "\n",
    "#### Backtracking\n",
    "\n",
    "+ We use **Backtracking** on distance table to find out the **Shortest Distance Path**\n",
    "    + **Note**: To Trace the Shortest Path, backtrack from Destination Node to Source Node.\n",
    "+ Cost of shortest distance path = no. of hops between the nodes in question\n",
    "+ LIFO (Last-In-First-Out) or STACK data structure is used for Backtracking\n",
    "+ If stack unwind does not end at source node, no path exists! "
   ]
  },
  {
   "cell_type": "markdown",
   "metadata": {
    "collapsed": true
   },
   "source": [
    "### Unweighted Shortest Path Algorithm\n",
    "\n",
    "|Data| Data Structure|\n",
    "|-|-|\n",
    "|Distance Table| 3 - column array|\n",
    "|Backtracking| Stack|\n",
    "\n",
    "\n",
    "|Graph Representation| Running time|\n",
    "|-|-|\n",
    "|Adjacency Matrix| O(V^2)|\n",
    "|Adjacency List/ Adjacency Set| O(E+V) |\n"
   ]
  },
  {
   "cell_type": "markdown",
   "metadata": {},
   "source": [
    "### Calculate the Shortest Path for Unweighted Graphs (Undirected)"
   ]
  },
  {
   "cell_type": "code",
   "execution_count": 11,
   "metadata": {},
   "outputs": [
    {
     "name": "stdout",
     "output_type": "stream",
     "text": [
      "Shortest path : [0, 1, 3, 5]\n",
      "Shortest path : [0, 7, 6]\n",
      "Shortest path : [7, 0, 1, 4]\n"
     ]
    }
   ],
   "source": [
    "from graph_adjacency_set import *\n",
    "from shortest_path import *\n",
    "\n",
    "g = AdjacencySetGraph(8, directed= False)\n",
    "\n",
    "g.add_edge(0,1,1)\n",
    "g.add_edge(1,2,1)\n",
    "g.add_edge(1,3,1)\n",
    "g.add_edge(2,3,1)\n",
    "g.add_edge(1,4,1)\n",
    "g.add_edge(3,5,1)\n",
    "g.add_edge(5,4,1)\n",
    "g.add_edge(3,6,1)\n",
    "g.add_edge(6,7,1)\n",
    "g.add_edge(0,7,1)\n",
    "\n",
    "shortest_path(graph=g,source=0,destination=5)\n",
    "shortest_path(graph=g,source=0,destination=6)\n",
    "shortest_path(graph=g,source=7,destination=4)"
   ]
  },
  {
   "cell_type": "markdown",
   "metadata": {},
   "source": [
    "### Calculate the Shortest Path for Unweighted Graphs (Directed)"
   ]
  },
  {
   "cell_type": "code",
   "execution_count": 12,
   "metadata": {},
   "outputs": [
    {
     "name": "stdout",
     "output_type": "stream",
     "text": [
      "Shortest path : [0, 1, 3, 5]\n",
      "Shortest path : [0, 1, 3, 6]\n",
      "There is no path from 7 to 4\n"
     ]
    }
   ],
   "source": [
    "from graph_adjacency_set import *\n",
    "from shortest_path import *\n",
    "\n",
    "g = AdjacencySetGraph(8, directed= True)\n",
    "\n",
    "g.add_edge(0,1,1)\n",
    "g.add_edge(1,2,1)\n",
    "g.add_edge(1,3,1)\n",
    "g.add_edge(2,3,1)\n",
    "g.add_edge(1,4,1)\n",
    "g.add_edge(3,5,1)\n",
    "g.add_edge(5,4,1)\n",
    "g.add_edge(3,6,1)\n",
    "g.add_edge(6,7,1)\n",
    "g.add_edge(0,7,1)\n",
    "\n",
    "shortest_path(graph=g,source=0,destination=5)\n",
    "shortest_path(graph=g,source=0,destination=6)\n",
    "shortest_path(graph=g,source=7,destination=4)"
   ]
  },
  {
   "cell_type": "markdown",
   "metadata": {},
   "source": [
    "### Dijkstra's Algorithm to find shortest path in a Weighted Graph"
   ]
  },
  {
   "cell_type": "markdown",
   "metadata": {},
   "source": [
    "**Unweighted Shortest Path Algorithm Vs. Dijkstra's Algorithm**\n",
    "\n",
    "|Parameters|Dijkstra's Algorithm (Weighted)|Unweighted Shortest Path Algorithm|\n",
    "|--|--|--|\n",
    "|Enqueuing Neighbors| Decreasing Order Of Weight| Any Order|\n",
    "|Calculating Distance| Sum Of Weights| Number of Hops|\n",
    "|Visited Nodes|Re-calculate distance to visited nodes, Update if needed| Don't update distance to visited nodes|\n",
    "|Enqueuing visited nodes| Re-enqueue if distance was updated| Never re-enqueue visited nodes|"
   ]
  },
  {
   "cell_type": "markdown",
   "metadata": {},
   "source": [
    "**Buiding Distance Table in Dijkstra's Algorithm**\n",
    "\n",
    "1. At outset, all we know is that source node is at distance 0(zero) from itself.\n",
    "2. Start at the origin, initialize a queue (Priority Queue) of nodes to be processed.\n",
    "3. Enqueue immediate neighbors in decreasing order of distance.\n",
    "4. Enqueuing based on distance => Use of Priority Queue.\n",
    "5. Update distance table for those immediate neighbors\n",
    "6. Distance of the nodes is given by weights of edges\n",
    "7. Update the Distance Table and Priority Queue accordingly\n",
    "8. Deque the head node of the priority queue and then process the queue\n",
    "9. Add immediate neighbors to queue and update distance table for them\n",
    "10. Repeat the steps 8 and 9 until no node left to process in Distance Table\n",
    "11. If immediate neighbors already visited - check if need to re-enqueue\n",
    "12. No need to update the Shortest Path if the distance is shortest in the Distance Table for the visited node.\n",
    "\n",
    "**Note**: To Trace the Shortest Path, backtrack from Destination Node to Source Node.\n",
    "\n",
    "**Data and Data Structure for Dijkstra's Algorithm**\n",
    "\n",
    "|Data|Data Structure|\n",
    "|-|-|\n",
    "|Distance Table|3-column array (or Dictionary and 1-column Array)|\n",
    "|Backtracking|Stack|\n",
    "|Enqueuing neighbors|Priority Queue(Binary Heap or Array)|\n",
    "\n",
    "**Running Time for Dijkstra's Algorithm**\n",
    "\n",
    "|Queue Data Structure| Running Time|\n",
    "|-|-|\n",
    "|Binary Heap|O(E ln(V))|\n",
    "|Array| O(E+V^2)|"
   ]
  },
  {
   "cell_type": "markdown",
   "metadata": {},
   "source": [
    "# Implementation of Dijkstra's Algorithm in Python"
   ]
  },
  {
   "cell_type": "markdown",
   "metadata": {},
   "source": [
    "### Undirected - Weighted Graph"
   ]
  },
  {
   "cell_type": "code",
   "execution_count": 13,
   "metadata": {},
   "outputs": [
    {
     "name": "stdout",
     "output_type": "stream",
     "text": [
      "Shortest path : [0, 1, 2, 3, 6]\n",
      "Shortest path : [4, 5, 3, 6, 7]\n",
      "Shortest path : [7, 6, 3, 2, 1, 0]\n"
     ]
    }
   ],
   "source": [
    "from graph_adjacency_matrix import *\n",
    "from dijkstra import *\n",
    "\n",
    "g = AdjacencyMatrixGraph(8, directed= False)\n",
    "\n",
    "g.add_edge(0,1,1)\n",
    "g.add_edge(1,2,2)\n",
    "g.add_edge(1,3,6)\n",
    "g.add_edge(2,3,2)\n",
    "g.add_edge(1,4,3)\n",
    "g.add_edge(3,5,1)\n",
    "g.add_edge(5,4,5)\n",
    "g.add_edge(3,6,1)\n",
    "g.add_edge(6,7,1)\n",
    "g.add_edge(0,7,8)\n",
    "\n",
    "shortest_path(graph=g,source=0,destination=6)\n",
    "shortest_path(graph=g,source=4,destination=7)\n",
    "shortest_path(graph=g,source=7,destination=0)"
   ]
  },
  {
   "cell_type": "markdown",
   "metadata": {},
   "source": [
    "### Directed - Weighted Graph"
   ]
  },
  {
   "cell_type": "code",
   "execution_count": 14,
   "metadata": {},
   "outputs": [
    {
     "name": "stdout",
     "output_type": "stream",
     "text": [
      "Shortest path : [0, 1, 2, 3, 6]\n",
      "There is no path from 4 to 7\n",
      "There is no path from 7 to 0\n"
     ]
    }
   ],
   "source": [
    "from graph_adjacency_matrix import *\n",
    "from dijkstra import *\n",
    "\n",
    "g = AdjacencyMatrixGraph(8, directed= True)\n",
    "\n",
    "g.add_edge(0,1,1)\n",
    "g.add_edge(1,2,2)\n",
    "g.add_edge(1,3,6)\n",
    "g.add_edge(2,3,2)\n",
    "g.add_edge(1,4,3)\n",
    "g.add_edge(3,5,1)\n",
    "g.add_edge(5,4,5)\n",
    "g.add_edge(3,6,1)\n",
    "g.add_edge(6,7,1)\n",
    "g.add_edge(0,7,8)\n",
    "\n",
    "shortest_path(graph=g,source=0,destination=6)\n",
    "shortest_path(graph=g,source=4,destination=7)\n",
    "shortest_path(graph=g,source=7,destination=0)"
   ]
  },
  {
   "cell_type": "markdown",
   "metadata": {},
   "source": [
    "**Note**: Dijkstra's Algorithm implementation needs Adjacency Graph Set for Weighted Graph to correctly find the shortest distance path. The above solution is considering the weight = 1."
   ]
  },
  {
   "cell_type": "markdown",
   "metadata": {},
   "source": [
    "### Summary\n",
    "\n",
    "+ Shortest path algorithms are widely used in Transportation and Scheduling\n",
    "+ Such algorithms focus on the most efficient route between a pair of nodes\n",
    "+ Edge weights determine the cost of a path in such algorithms\n",
    "+ If all edge weights are equal, use the unweighted shortest path algorithm\n",
    "+ If edge weights are unequal, use the Dijkstra's algorithm"
   ]
  },
  {
   "cell_type": "markdown",
   "metadata": {},
   "source": [
    "# Working With Spanning Tree Algorithms\n",
    "\n",
    "### Overview\n",
    "\n",
    "+ Spanning tree algorithms seek to find the shortest way to cover all nodes\n",
    "+ Such algorithms are used when start and end nodes do not matter\n",
    "    + **Prim's algorithm** works for connected (Undirected) Graph\n",
    "    + **Kruskal's algorithm** works even for disconnected (Undirected) graphs\n",
    "\n",
    "E.g., Planning Railway Lines\n",
    "\n",
    "### Spanning Tree of a Graph\n",
    "\n",
    "+ Any tree that includes all of the vertices of the graph\n",
    "+ Given a graph with 'N' vertices, any spanning tree has 'N-1' edges\n",
    "+ **Multiple spanning trees** can exist for the same graph\n",
    "+ **Minimum Spanning Tree** of a Graph has the minimum cost (minimum sum of weights of the edges of the spanning tree)"
   ]
  },
  {
   "cell_type": "markdown",
   "metadata": {},
   "source": [
    "# Prim's Algorithm\n",
    "\n",
    "Prim's algorithm is a **greedy agorithm** to find a minimal spanning tree for a **weighted undirected graph**. It finds a **Local Optimum** minimal spanning tree.\n",
    "\n",
    "1. Start anywhere, pick a node at random\n",
    "2. Find lowest weight edge out of that node connecting an unvisited node\n",
    "3. Add that edge to the result (Result Set)\n",
    "4. Find lowest weight edge out of either node connecting an unvisited node\n",
    "5. Add that edge to the result (Result Set)\n",
    "6. Repeate the steps 4 and 5 until all vertices in the tree is visited and added in the Result Set\n",
    "7. This result set represents all the connected vertices with the minimum weights of the edges - a Minimum Spanning Tree\n",
    "\n",
    "#### Benefits and Drawbacks of Prims Algorithm\n",
    "\n",
    "+ Algorithm considers edges in contiguous order\n",
    "    + Benefit : Intermediate result is a tree as well\n",
    "    + Drawback : Does not work for disconnected graphs\n",
    "+ Implementation heavily drawn from Dijkstra's algorithm\n",
    "    + Distance table, but with edge weight as the distance\n",
    "    + Requires priority queue to find edge with least cost\n",
    "    \n",
    "#### Running Time for Prim's Algorithm\n",
    "\n",
    "|Queue Data Structure| Running Time|\n",
    "|-|-|\n",
    "|Binary Heap|O(E ln(V))|\n",
    "|Array| O(E+V^2)|"
   ]
  },
  {
   "cell_type": "markdown",
   "metadata": {},
   "source": [
    "### Implementation of Prim's Algorithm"
   ]
  },
  {
   "cell_type": "code",
   "execution_count": 15,
   "metadata": {},
   "outputs": [
    {
     "name": "stdout",
     "output_type": "stream",
     "text": [
      "-------Test Run : 1------\n",
      "1->4\n",
      "0->7\n",
      "1->0\n",
      "1->2\n",
      "3->5\n",
      "6->3\n",
      "7->6\n",
      "-------Test Run : 2------\n",
      "7->0\n",
      "0->1\n",
      "3->2\n",
      "3->6\n",
      "5->4\n",
      "3->5\n",
      "6->7\n"
     ]
    }
   ],
   "source": [
    "from graph_adjacency_matrix import *\n",
    "from prim import *\n",
    "\n",
    "g = AdjacencyMatrixGraph(8, directed= False)\n",
    "\n",
    "g.add_edge(0,1,1)\n",
    "g.add_edge(1,2,2)\n",
    "g.add_edge(1,3,2)\n",
    "g.add_edge(2,3,2)\n",
    "g.add_edge(1,4,3)\n",
    "g.add_edge(3,5,1)\n",
    "g.add_edge(5,4,3)\n",
    "g.add_edge(3,6,1)\n",
    "g.add_edge(6,7,1)\n",
    "g.add_edge(0,7,1)\n",
    "\n",
    "print(\"-------Test Run : 1------\")\n",
    "spanning_tree(graph=g,source=1)\n",
    "print(\"-------Test Run : 2------\")\n",
    "spanning_tree(graph=g,source=3)"
   ]
  },
  {
   "cell_type": "markdown",
   "metadata": {},
   "source": [
    "# Kruskal's Algorithm\n",
    "\n",
    "Kruskal's algorithm is a **greedy algorithm** to find a **minimal spanning tree** for a **weighted undirected graph**. The graph can be unconnected. \n",
    "\n",
    "1. Sort edges in the increasing order of weights (use priority queue)\n",
    "2. Initialize empty result (empty set of edges which will hold minimum spanning tree)\n",
    "3. Find shortest edge not currently in result (dequeue from priority queue)\n",
    "4. Reject if cycle is introduced else add to result set (this is greedy step)\n",
    "5. Stop when N-1 edges in result (N = number of vertices in graph)\n",
    "\n",
    "#### Benefits and Drawbacks of Prims Algorithm\n",
    "\n",
    "+ Algorithm does not consider edges in contiguous order\n",
    "    + Benefit: Works for disconnected graphs too\n",
    "    + Drawback : Intermediate result is not necessarily a tree\n",
    "+ Sorting the edges dominates the running time : O(E ln(V))"
   ]
  },
  {
   "cell_type": "markdown",
   "metadata": {},
   "source": [
    "### Implementation of Kruskal's Algorithm"
   ]
  },
  {
   "cell_type": "code",
   "execution_count": 16,
   "metadata": {},
   "outputs": [
    {
     "name": "stdout",
     "output_type": "stream",
     "text": [
      "Visited vertices  {0, 1, 2, 3, 4, 5, 6, 7}\n",
      "Minimum Spanning Tree:\n",
      "0->1\n",
      "0->7\n",
      "1->2\n",
      "3->5\n",
      "3->6\n",
      "4->5\n",
      "6->7\n"
     ]
    }
   ],
   "source": [
    "from graph_adjacency_matrix import *\n",
    "from kruskal import *\n",
    "\n",
    "g = AdjacencyMatrixGraph(8, directed= False)\n",
    "\n",
    "g.add_edge(0,1,1)\n",
    "g.add_edge(1,2,2)\n",
    "g.add_edge(1,3,2)\n",
    "g.add_edge(2,3,2)\n",
    "g.add_edge(1,4,3)\n",
    "g.add_edge(3,5,1)\n",
    "g.add_edge(5,4,2)\n",
    "g.add_edge(3,6,1)\n",
    "g.add_edge(6,7,1)\n",
    "g.add_edge(0,7,1)\n",
    "\n",
    "spanning_tree(graph=g)"
   ]
  },
  {
   "cell_type": "markdown",
   "metadata": {},
   "source": [
    "### The End"
   ]
  }
 ],
 "metadata": {
  "kernelspec": {
   "display_name": "Python 3",
   "language": "python",
   "name": "python3"
  },
  "language_info": {
   "codemirror_mode": {
    "name": "ipython",
    "version": 3
   },
   "file_extension": ".py",
   "mimetype": "text/x-python",
   "name": "python",
   "nbconvert_exporter": "python",
   "pygments_lexer": "ipython3",
   "version": "3.6.3"
  }
 },
 "nbformat": 4,
 "nbformat_minor": 2
}
