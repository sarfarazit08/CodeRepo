{
 "cells": [
  {
   "cell_type": "markdown",
   "metadata": {},
   "source": [
    "Attendance Data for 2 year to from APR14 - MAR16 is taken for the analysis to answer following questions:\n",
    "* Average Working hours\n",
    "* Longest and Least Working hour\n",
    "* Total Working hours and Vacation Hours\n",
    "* No of working days and Holidays\n",
    "etc."
   ]
  },
  {
   "cell_type": "code",
   "execution_count": 1,
   "metadata": {
    "collapsed": true
   },
   "outputs": [],
   "source": [
    "#Attendance Data from APR14 - MAR16 (2 years)\n",
    "Attendance_Data <- read.csv((\"./data/attendance_data.csv\"), header = TRUE)"
   ]
  },
  {
   "cell_type": "code",
   "execution_count": 2,
   "metadata": {
    "collapsed": false
   },
   "outputs": [
    {
     "data": {
      "text/html": [
       "731"
      ],
      "text/latex": [
       "731"
      ],
      "text/markdown": [
       "731"
      ],
      "text/plain": [
       "[1] 731"
      ]
     },
     "metadata": {},
     "output_type": "display_data"
    }
   ],
   "source": [
    "#DateRecords <- as.Date(Attendance_Data$Date, format = \"%d-%b-%y\")\n",
    "\n",
    "#Attendance\n",
    "Attendance <- subset(Attendance_Data$Total.Attendance.Hours, Attendance_Data$Total.Attendance.Hours >= 0 )\n",
    "\n",
    "#Total Days in these 2 years \n",
    "All_Days <- length(Attendance)\n",
    "All_Days"
   ]
  },
  {
   "cell_type": "code",
   "execution_count": 3,
   "metadata": {
    "collapsed": false
   },
   "outputs": [
    {
     "data": {
      "text/plain": [
       "\n",
       "    Earned Leave          Holiday Optional Holiday          Present \n",
       "              39               21                1              463 \n",
       "      Weekly Off \n",
       "             207 "
      ]
     },
     "metadata": {},
     "output_type": "display_data"
    }
   ],
   "source": [
    "#Finding Individual Attendance Status\n",
    "Attendance_Status <- table(Attendance_Data$Status)\n",
    "Attendance_Status"
   ]
  },
  {
   "cell_type": "code",
   "execution_count": 4,
   "metadata": {
    "collapsed": false
   },
   "outputs": [
    {
     "data": {
      "text/html": [
       "463"
      ],
      "text/latex": [
       "463"
      ],
      "text/markdown": [
       "463"
      ],
      "text/plain": [
       "[1] 463"
      ]
     },
     "metadata": {},
     "output_type": "display_data"
    }
   ],
   "source": [
    "#Creating a Subset of Working Hours\n",
    "Working_Hours <- subset(Attendance_Data$Total.Attendance.Hours, Attendance_Data$Status == \"Present\")\n",
    "\n",
    "#Total Work Days in these 2 years \n",
    "Working_Days <- length(Working_Hours)\n",
    "Working_Days"
   ]
  },
  {
   "cell_type": "code",
   "execution_count": 5,
   "metadata": {
    "collapsed": false
   },
   "outputs": [
    {
     "data": {
      "text/html": [
       "268"
      ],
      "text/latex": [
       "268"
      ],
      "text/markdown": [
       "268"
      ],
      "text/plain": [
       "[1] 268"
      ]
     },
     "metadata": {},
     "output_type": "display_data"
    }
   ],
   "source": [
    "#Creating a Subset of Non-Working Hours\n",
    "Non_Working_Hours <- subset(Attendance_Data$Total.Attendance.Hours, Attendance_Data$Status != \"Present\")\n",
    "\n",
    "#Total Non-Work Days in these 2 years \n",
    "Non_Working_Days <- length(Non_Working_Hours)\n",
    "Non_Working_Days"
   ]
  },
  {
   "cell_type": "code",
   "execution_count": 6,
   "metadata": {
    "collapsed": false
   },
   "outputs": [
    {
     "data": {
      "text/html": [
       "63.3378932968536"
      ],
      "text/latex": [
       "63.3378932968536"
      ],
      "text/markdown": [
       "63.3378932968536"
      ],
      "text/plain": [
       "[1] 63.33789"
      ]
     },
     "metadata": {},
     "output_type": "display_data"
    }
   ],
   "source": [
    "#Percentage of Work Effort\n",
    "Percentage_Working_Days <- (Working_Days/All_Days) * 100\n",
    "Percentage_Working_Days"
   ]
  },
  {
   "cell_type": "code",
   "execution_count": 7,
   "metadata": {
    "collapsed": false
   },
   "outputs": [
    {
     "data": {
      "text/html": [
       "4421.45"
      ],
      "text/latex": [
       "4421.45"
      ],
      "text/markdown": [
       "4421.45"
      ],
      "text/plain": [
       "[1] 4421.45"
      ]
     },
     "metadata": {},
     "output_type": "display_data"
    }
   ],
   "source": [
    "#Total Working Hours\n",
    "Total_Working_Hours <- sum(Working_Hours)\n",
    "Total_Working_Hours"
   ]
  },
  {
   "cell_type": "code",
   "execution_count": 8,
   "metadata": {
    "collapsed": false
   },
   "outputs": [
    {
     "data": {
      "text/html": [
       "14.57"
      ],
      "text/latex": [
       "14.57"
      ],
      "text/markdown": [
       "14.57"
      ],
      "text/plain": [
       "[1] 14.57"
      ]
     },
     "metadata": {},
     "output_type": "display_data"
    }
   ],
   "source": [
    "#Maximum effort in a Single day\n",
    "maximum_working_hour <- max(Working_Hours)\n",
    "maximum_working_hour"
   ]
  },
  {
   "cell_type": "code",
   "execution_count": 9,
   "metadata": {
    "collapsed": false
   },
   "outputs": [
    {
     "data": {
      "text/html": [
       "3.77"
      ],
      "text/latex": [
       "3.77"
      ],
      "text/markdown": [
       "3.77"
      ],
      "text/plain": [
       "[1] 3.77"
      ]
     },
     "metadata": {},
     "output_type": "display_data"
    }
   ],
   "source": [
    "#Minimum effort in a Single day\n",
    "minimum_working_hour <- min(Working_Hours)\n",
    "minimum_working_hour"
   ]
  },
  {
   "cell_type": "code",
   "execution_count": 10,
   "metadata": {
    "collapsed": false
   },
   "outputs": [
    {
     "data": {
      "text/html": [
       "9.55"
      ],
      "text/latex": [
       "9.55"
      ],
      "text/markdown": [
       "9.55"
      ],
      "text/plain": [
       "[1] 9.55"
      ]
     },
     "metadata": {},
     "output_type": "display_data"
    }
   ],
   "source": [
    "#Statistical Informations\n",
    "Mean <- mean(Working_Hours, 2)\n",
    "Mean"
   ]
  },
  {
   "cell_type": "code",
   "execution_count": 11,
   "metadata": {
    "collapsed": false
   },
   "outputs": [
    {
     "data": {
      "text/html": [
       "9.55"
      ],
      "text/latex": [
       "9.55"
      ],
      "text/markdown": [
       "9.55"
      ],
      "text/plain": [
       "[1] 9.55"
      ]
     },
     "metadata": {},
     "output_type": "display_data"
    }
   ],
   "source": [
    "Median <- median (Working_Hours, 2)\n",
    "Median"
   ]
  },
  {
   "cell_type": "code",
   "execution_count": 12,
   "metadata": {
    "collapsed": false
   },
   "outputs": [
    {
     "data": {
      "text/html": [
       "8.35"
      ],
      "text/latex": [
       "8.35"
      ],
      "text/markdown": [
       "8.35"
      ],
      "text/plain": [
       "[1] 8.35"
      ]
     },
     "metadata": {},
     "output_type": "display_data"
    }
   ],
   "source": [
    "Mode <- as.numeric( names(sort(-table(Working_Hours)))[1])\n",
    "Mode"
   ]
  },
  {
   "cell_type": "code",
   "execution_count": 13,
   "metadata": {
    "collapsed": false
   },
   "outputs": [
    {
     "data": {
      "text/html": [
       "1.34165701129078"
      ],
      "text/latex": [
       "1.34165701129078"
      ],
      "text/markdown": [
       "1.34165701129078"
      ],
      "text/plain": [
       "[1] 1.341657"
      ]
     },
     "metadata": {},
     "output_type": "display_data"
    }
   ],
   "source": [
    "Sd <- sd(Working_Hours)\n",
    "Sd"
   ]
  },
  {
   "cell_type": "code",
   "execution_count": 18,
   "metadata": {
    "collapsed": false,
    "scrolled": false
   },
   "outputs": [
    {
     "data": {
      "image/png": "[encoded data removed]",
      "text/plain": [
       "Plot with title \"Scatter Plot (TYPE b) - Working hours (APR14 - MAR16)\""
      ]
     },
     "metadata": {},
     "output_type": "display_data"
    }
   ],
   "source": [
    "par(mfrow = c(3,2) ) \n",
    "\n",
    "#Histogram and Density Plot of Working Effort\n",
    "hist(Working_Hours, prob = TRUE, col = \"gold\", breaks = 100, \n",
    "     ylab =\"Frequency\" , xlab= \"Working Hours\", \n",
    "     main = \"Working Hours[APR14 - MAR16]\")\n",
    "\n",
    "#Density Plot\n",
    "lines(density(Working_Hours), lwd = 1, col = \"red\")\n",
    "\n",
    "#Indicating Mean, Median, Mode Lines in the Histogram\n",
    "abline(v = c(Mean,Median,Mode), col = c(\"brown\", \"green\", \"blue\"),lwd = c( 1,1,1))\n",
    "\n",
    "#Including Legend in the historgram \n",
    "legend(x = \"topright\", c(\"Density Plot\", \"Mean\", \"Median\", \"Mode\"),\n",
    "       col = c(\"red\", \"brown\", \"green\", \"blue\"), lwd = c(1,1,1,1))\n",
    "\n",
    "boxplot(Working_Hours,outline=FALSE, main = \"Boxplot - Working hours (APR14 - MAR16)\")\n",
    "\n",
    "plot(Working_Hours, xlab= \"No. of days\" , ylab= \"Working Hours\", main = \"Scatter Plot - Working hours (APR14 - MAR16)\")\n",
    "plot(Working_Hours, xlab= \"No. of days\" , ylab= \"Working Hours\", type=\"l\", col=\"orange\", main = \"Scatter Plot (TYPE I) - Working hours (APR14 - MAR16)\",lwd=1)\n",
    "plot(Working_Hours, xlab= \"No. of days\" , ylab= \"Working Hours\", type=\"h\", col=\"orange\", main = \"Scatter Plot (TYPE h) - Working hours (APR14 - MAR16)\",lwd=1)\n",
    "plot(Working_Hours, xlab= \"No. of days\" , ylab= \"Working Hours\", type=\"b\", col=\"orange\", main = \"Scatter Plot (TYPE b) - Working hours (APR14 - MAR16)\",lwd=1)\n",
    "#curve(dnorm(x, mean=mean(WorkingHours), sd=sd(WorkingHours)), add=TRUE, col=\"darkblue\", lwd=1)"
   ]
  },
  {
   "cell_type": "code",
   "execution_count": null,
   "metadata": {
    "collapsed": true
   },
   "outputs": [],
   "source": []
  }
 ],
 "metadata": {
  "kernelspec": {
   "display_name": "R",
   "language": "R",
   "name": "ir"
  },
  "language_info": {
   "codemirror_mode": "r",
   "file_extension": ".r",
   "mimetype": "text/x-r-source",
   "name": "R",
   "pygments_lexer": "r",
   "version": "3.3.2"
  }
 },
 "nbformat": 4,
 "nbformat_minor": 2
}
