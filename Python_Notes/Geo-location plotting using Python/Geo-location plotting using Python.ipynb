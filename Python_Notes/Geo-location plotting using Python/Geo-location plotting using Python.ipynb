{
 "cells": [
  {
   "cell_type": "code",
   "execution_count": 1,
   "metadata": {},
   "outputs": [],
   "source": [
    "import folium\n",
    "import pandas"
   ]
  },
  {
   "cell_type": "code",
   "execution_count": 2,
   "metadata": {},
   "outputs": [],
   "source": [
    "data = pandas.read_csv(\"./data/Volcanoes.txt\")\n",
    "lat = list(data[\"LAT\"])\n",
    "lon = list(data[\"LON\"])\n",
    "elev = list(data[\"ELEV\"])\n",
    "\n",
    "def color_producer(elevation):\n",
    "    if elevation < 1000:\n",
    "        return 'green'\n",
    "    elif 1000 <= elevation < 3000:\n",
    "        return 'orange'\n",
    "    else:\n",
    "        return 'red'\n",
    "\n",
    "map = folium.Map(location=[38.58, -99.09], zoom_start=4, tiles=\"Mapbox Bright\")\n",
    "\n",
    "fgv = folium.FeatureGroup(name=\"Volcanoes\")\n",
    "\n",
    "for lt, ln, el in zip(lat, lon, elev):\n",
    "    fgv.add_child(folium.CircleMarker(location=[lt, ln], radius = 5, popup=str(el)+\" m\",\n",
    "    fill_color=color_producer(el), fill=True,  color = 'grey', fill_opacity=0.7))\n",
    "\n",
    "fgp = folium.FeatureGroup(name=\"Population\")\n",
    "\n",
    "fgp.add_child(folium.GeoJson(data=open('./data/world.json', 'r', encoding='utf-8-sig').read(),\n",
    "style_function=lambda x: {'fillColor':'green' if x['properties']['POP2005'] < 10000000\n",
    "else 'orange' if 10000000 <= x['properties']['POP2005'] < 20000000 else 'red'}))\n",
    "\n",
    "map.add_child(fgv)\n",
    "map.add_child(fgp)\n",
    "map.add_child(folium.LayerControl())\n",
    "\n",
    "map.save(\"./data/Map.html\")"
   ]
  },
  {
   "cell_type": "code",
   "execution_count": 3,
   "metadata": {},
   "outputs": [
    {
     "data": {
      "text/html": [
       "\n",
       "        <iframe\n",
       "            width=\"900\"\n",
       "            height=\"480\"\n",
       "            src=\"./data/Map.html\"\n",
       "            frameborder=\"0\"\n",
       "            allowfullscreen\n",
       "        ></iframe>\n",
       "        "
      ],
      "text/plain": [
       "<IPython.lib.display.IFrame at 0x7f87fd636550>"
      ]
     },
     "execution_count": 3,
     "metadata": {},
     "output_type": "execute_result"
    }
   ],
   "source": [
    "from IPython.display import IFrame\n",
    "IFrame('./data/Map.html', width=900, height=480)"
   ]
  },
  {
   "cell_type": "code",
   "execution_count": null,
   "metadata": {},
   "outputs": [],
   "source": []
  }
 ],
 "metadata": {
  "kernelspec": {
   "display_name": "Python 3",
   "language": "python",
   "name": "python3"
  },
  "language_info": {
   "codemirror_mode": {
    "name": "ipython",
    "version": 3
   },
   "file_extension": ".py",
   "mimetype": "text/x-python",
   "name": "python",
   "nbconvert_exporter": "python",
   "pygments_lexer": "ipython3",
   "version": "3.6.4"
  }
 },
 "nbformat": 4,
 "nbformat_minor": 2
}
