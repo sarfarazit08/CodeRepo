{
 "cells": [
  {
   "cell_type": "markdown",
   "metadata": {},
   "source": [
    "# Openweathermap API\n",
    "\n",
    "The api provided by **openweathermap** is used here along with the generated `API Key` to get the weather information."
   ]
  },
  {
   "cell_type": "code",
   "execution_count": 76,
   "metadata": {
    "collapsed": false
   },
   "outputs": [],
   "source": [
    "from urllib import request\n",
    "import json\n",
    "\n",
    "def WeatherInfo(zipcode,country_code):\n",
    "    APIKey = 'e84701b1dd761787ba28ce7e7c358ca9'\n",
    "    url = 'http://api.openweathermap.org/data/2.5/weather?zip={},{}&appid={}'.format(zipcode,country_code,APIKey)\n",
    "    print(url)\n",
    "    try:        \n",
    "        result = request.urlopen(url).read().decode(\"utf-8\")\n",
    "        json_result = json.loads(result)        \n",
    "        temp_k = float(json_result['main']['temp'],)\n",
    "        temp_c = temp_k - 273.15\n",
    "        return temp_c\n",
    "    except Exception as e:\n",
    "        return 'Some error occured. {}'.format(e.args)"
   ]
  },
  {
   "cell_type": "code",
   "execution_count": 77,
   "metadata": {
    "collapsed": false
   },
   "outputs": [
    {
     "name": "stdout",
     "output_type": "stream",
     "text": [
      "http://api.openweathermap.org/data/2.5/weather?zip=90051,US&appid=e84701b1dd761787ba28ce7e7c358ca9\n",
      "Temperature : 8.56 ºC\n",
      "http://api.openweathermap.org/data/2.5/weather?zip=89128,US&appid=e84701b1dd761787ba28ce7e7c358ca9\n",
      "Temperature : 3.88 ºC\n"
     ]
    }
   ],
   "source": [
    "print('Temperature : {:0.2f} ºC'.format(WeatherInfo('90051','US')))\n",
    "print('Temperature : {:0.2f} ºC'.format(WeatherInfo('89128','US')))"
   ]
  },
  {
   "cell_type": "markdown",
   "metadata": {},
   "source": [
    "# Twitter Sentiment Analysis\n",
    "\n",
    "Here I'm using a twitter API and the respective key and token to make a call to API.\n",
    "Through this API I'm going to analyze the sentiment of people on twitte."
   ]
  },
  {
   "cell_type": "code",
   "execution_count": 87,
   "metadata": {
    "collapsed": false
   },
   "outputs": [
    {
     "name": "stdout",
     "output_type": "stream",
     "text": [
      "RT @ANI: #WATCH Live from Patna: PM Narendra Modi at Centenary Celebrations of Patna University https://t.co/AstzZFDhMo\n",
      "Sentiment(polarity=0.13636363636363635, subjectivity=0.5)\n",
      "Modi will give you a passport, but who will give you a visa? https://t.co/USerKTRVWA\n",
      "Sentiment(polarity=0.0, subjectivity=0.0)\n",
      "RT @VinodDua_: मोदी सरकार अब आपसे पानी की भी फीस वसूलने की तैयारी कर रही है !! https://t.co/nIwCeUTHd9\n",
      "Sentiment(polarity=0.0, subjectivity=0.0)\n",
      "Kanpur Police book 22 traders for posters comparing #Modi with #Kim-Jong-un!\r",
      "Is irreverence to netas criminal in UP? https://t.co/rqnILYQbcB\n",
      "Sentiment(polarity=-0.4, subjectivity=0.55)\n",
      "RT @pbhushan1: Modi was loudly aggressive on Cong ka Damad, Vadra's windfall.But he's been silent on BJP ka Beta JayShah's windfall https:/…\n",
      "Sentiment(polarity=0.05, subjectivity=0.45)\n",
      "RT @ANI: Bihar is a state which is blessed with both 'Gyan' and 'Ganga.' This land has a unique legacy: PM Modi\n",
      "Sentiment(polarity=0.375, subjectivity=1.0)\n",
      "Retweeted Ashok Goel (@AshokGoelBJP):\n",
      "\n",
      "Modi Govt clears 7th pay recommendations for central and state university... https://t.co/EKvv2HqG3I\n",
      "Sentiment(polarity=0.0, subjectivity=0.25)\n",
      "@NewsStoryIndia \n",
      "What is \"news\"?\n",
      "CM's car stolen?; Uddhav takes dig at Modi?!\n",
      "I ask:Art.84C. \"such qualification\"? What? Where?\n",
      "Never news!\n",
      "Sentiment(polarity=0.0, subjectivity=0.5)\n",
      "RT @AshokGoelBJP: Modi Govt clears 7th pay recommendations for central and state university benefiting 7.58 lakh teachers &amp; other equivalen…\n",
      "Sentiment(polarity=-0.0625, subjectivity=0.3125)\n",
      "RT @AshokGoelBJP: Modi Govt clears 7th pay recommendations for central and state university benefiting 7.58 lakh teachers &amp; other equivalen…\n",
      "Sentiment(polarity=-0.0625, subjectivity=0.3125)\n",
      "RT @AshokGoelBJP: Modi Govt clears 7th pay recommendations for central and state university benefiting 7.58 lakh teachers &amp; other equivalen…\n",
      "Sentiment(polarity=-0.0625, subjectivity=0.3125)\n",
      "RT @AshokGoelBJP: Modi Govt clears 7th pay recommendations for central and state university benefiting 7.58 lakh teachers &amp; other equivalen…\n",
      "Sentiment(polarity=-0.0625, subjectivity=0.3125)\n",
      "RT @AshokGoelBJP: Modi Govt clears 7th pay recommendations for central and state university benefiting 7.58 lakh teachers &amp; other equivalen…\n",
      "Sentiment(polarity=-0.0625, subjectivity=0.3125)\n",
      "RT @kapsology: Women in Gujarat blessing Modi. https://t.co/hhmcRMGvpr\n",
      "Sentiment(polarity=0.0, subjectivity=0.0)\n"
     ]
    }
   ],
   "source": [
    "import tweepy\n",
    "from textblob import TextBlob\n",
    "\n",
    "# Consumer Key (API Key)\tvm54GWjSLGfGKmsFCq3C6ghfx\n",
    "# Consumer Secret (API Secret)\tFYxrF7wdFL8gFs1tzJp7rkKeRh7h5dWzKrL7AWICxDw5XAPrTs\n",
    "# Access Token\t617874261-L2aYVoEmfzAZxtjB1i5pa1bc1MuYaMKuLNmGHD5D\n",
    "# Access Token Secret\tWRToy8lBHBthZEGPz6Xj9FU99kLV3ZTXpqAGRnTZjcVNr\n",
    "\n",
    "\n",
    "consumer_key = 'vm54GWjSLGfGKmsFCq3C6ghfx'\n",
    "consumer_secret = 'FYxrF7wdFL8gFs1tzJp7rkKeRh7h5dWzKrL7AWICxDw5XAPrTs'\n",
    "\n",
    "access_token = '617874261-L2aYVoEmfzAZxtjB1i5pa1bc1MuYaMKuLNmGHD5D'\n",
    "access_token_secret = 'WRToy8lBHBthZEGPz6Xj9FU99kLV3ZTXpqAGRnTZjcVNr'\n",
    "\n",
    "auth =  tweepy.OAuthHandler(consumer_key, consumer_secret) \n",
    "auth.set_access_token(access_token, access_token_secret) \n",
    "\n",
    "api = tweepy.API(auth) \n",
    "\n",
    "public_tweets = api.search('modi') \n",
    " \n",
    "for tweet in public_tweets:\n",
    "    print(tweet.text)\n",
    "    analysis = TextBlob(tweet.text) \n",
    "    print (analysis.sentiment)    "
   ]
  },
  {
   "cell_type": "code",
   "execution_count": null,
   "metadata": {
    "collapsed": true
   },
   "outputs": [],
   "source": []
  }
 ],
 "metadata": {
  "kernelspec": {
   "display_name": "Python 3",
   "language": "python",
   "name": "python3"
  },
  "language_info": {
   "codemirror_mode": {
    "name": "ipython",
    "version": 3
   },
   "file_extension": ".py",
   "mimetype": "text/x-python",
   "name": "python",
   "nbconvert_exporter": "python",
   "pygments_lexer": "ipython3",
   "version": "3.6.0"
  }
 },
 "nbformat": 4,
 "nbformat_minor": 2
}
