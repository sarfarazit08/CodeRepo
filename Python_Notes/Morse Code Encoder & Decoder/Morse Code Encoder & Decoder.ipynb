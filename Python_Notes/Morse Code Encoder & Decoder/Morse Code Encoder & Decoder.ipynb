{
 "cells": [
  {
   "cell_type": "markdown",
   "metadata": {},
   "source": [
    "# Morse Code (Encoder / Decoder)"
   ]
  },
  {
   "cell_type": "code",
   "execution_count": null,
   "metadata": {
    "collapsed": false
   },
   "outputs": [],
   "source": [
    "# Morse Code Dictionary\n",
    "CODE = {\n",
    "        # Alphabets\n",
    "        'A': '.-',     'B': '-...',   'C': '-.-.', \n",
    "        'D': '-..',    'E': '.',      'F': '..-.',\n",
    "        'G': '--.',    'H': '....',   'I': '..',\n",
    "        'J': '.---',   'K': '-.-',    'L': '.-..',\n",
    "        'M': '--',     'N': '-.',     'O': '---',\n",
    "        'P': '.--.',   'Q': '--.-',   'R': '.-.',\n",
    "        'S': '...',    'T': '-',      'U': '..-',\n",
    "        'V': '...-',   'W': '.--',    'X': '-..-',\n",
    "        'Y': '-.--',   'Z': '--..',\n",
    "\n",
    "        # Numerals\n",
    "        '0': '-----',  '1': '.----',  '2': '..---',\n",
    "        '3': '...--',  '4': '....-',  '5': '.....',\n",
    "        '6': '-....',  '7': '--...',  '8': '---..',\n",
    "        '9': '----.',\n",
    "\n",
    "        # Special Charachters \n",
    "        '.' : '.-.-.-', ',' : '--..--', ':' : '---...',\n",
    "        '?' : '..--..', \"'\" : '.----.', '-' : '-....-',\n",
    "        '/' : '-..-.',  '@' : '.--.-.', '=' : '-...-',\n",
    "        '(' : '-.--.',  ')' : '-.--.-', '+' : '.-.-.',\n",
    "        ' ' : '/'\n",
    "        }\n",
    "\n",
    "# Reverse Morse Code Dictionary\n",
    "CODE_REVERSED = {value:key for (key,value) in CODE.items()} \n",
    "\n",
    "def encode_to_morse(msg):\n",
    "    \n",
    "    return ' '.join(CODE.get(i.upper()) for i in msg)\n",
    "\n",
    "def decode_to_text(msg):\n",
    "      \n",
    "    return ''.join(CODE_REVERSED.get(i,'#') \n",
    "                   for i in msg.split()\n",
    "                  )\n",
    "\n",
    "def rev_decode_to_text(msg):\n",
    "        \n",
    "    return ''.join(CODE_REVERSED.get(i[::-1],'#')\n",
    "                   for i in msg.split()\n",
    "                  )\n",
    "\n",
    "def main():\n",
    "    \n",
    "    msg = input('MESSAGE : ')    \n",
    "    print(\"1. encode_to_morse.\")\n",
    "    print(\"2. decode_to_text.\") \n",
    "    print(\"3. rev_decode_to_text.\") \n",
    "    choice = input('Choice : ')\n",
    "        \n",
    "    if(int(choice) == 1):\n",
    "        {\n",
    "            print('Morse Code : \\n {}'.format(  encode_to_morse(msg)))\n",
    "        } \n",
    "    elif (int(choice) == 2):\n",
    "        {\n",
    "            print('Text : \\n {}'.format( (decode_to_text(msg))))\n",
    "        } \n",
    "    elif (int(choice) == 3):\n",
    "        {\n",
    "            print('Text after palindrom of each morse code : \\n {}'.format( rev_decode_to_text(msg))        )\n",
    "        } \n",
    "    else:    \n",
    "        {\n",
    "            print('Wrong choice. Plz. choose from either 1 or 2.')        \n",
    "        }    \n",
    "        \n",
    "if __name__ == \"__main__\":\n",
    "    main()"
   ]
  },
  {
   "cell_type": "markdown",
   "metadata": {},
   "source": [
    "## Test Results"
   ]
  },
  {
   "cell_type": "markdown",
   "metadata": {},
   "source": [
    "**encode_to_morse**\n",
    "\n",
    "MESSAGE : ABCDEFGHIJKLMNOPQRSTUVWXYZ 01234567890 (@)?:+=-,.'\n",
    "\n",
    "1. encode_to_morse.\n",
    "2. decode_to_text.\n",
    "3. rev_decode_to_text.\n",
    "\n",
    "Choice : 1\n",
    "\n",
    "Morse Code : \n",
    " .- -... -.-. -.. . ..-. --. .... .. .--- -.- .-.. -- -. --- .--. --.- .-. ... - ..- ...- .-- -..- -.-- --.. /\n",
    " ----- .---- ..--- ...-- ....- ..... -.... --... ---.. ----. ----- /\n",
    " -.--. .--.-. -.--.- ..--.. ---... .-.-. -...- -....- --..-- .-.-.- .----.\n",
    "\n",
    "**decode_to_text**\n",
    "\n",
    "MESSAGE : .- -... -.-. -.. . ..-. --. .... .. .--- -.- .-.. -- -. --- .--. --.- .-. ... - ..- ...- .-- -..- -.-- --.. / ----- .---- ..--- ...-- ....- ..... -.... --... ---.. ----. ----- / -.--. .--.-. -.--.- ..--.. ---... .-.-. -...- -....- --..-- .-.-.- .----.\n",
    "\n",
    "1. encode_to_morse.\n",
    "2. decode_to_text.\n",
    "3. rev_decode_to_text.\n",
    "\n",
    "Choice : 2\n",
    "\n",
    "Text : \n",
    " ABCDEFGHIJKLMNOPQRSTUVWXYZ 01234567890 (@)?:+=-,.'\n",
    " \n",
    "**decode_to_text**\n",
    "\n",
    "MESSAGE : .- -... -.-. -.. . ..-. --. .... .. .--- -.- .-.. -- -. --- .--. --.- .-. ... - ..- ...- .-- -..- -.-- --.. / ----- .---- ..--- ...-- ....- ..... -.... --... ---.. ----. ----- / -.--. .--.-. -.--.- ..--.. ---... .-.-. -...- -....- --..-- .-.-.- .----.\n",
    "\n",
    "1. encode_to_morse.\n",
    "2. decode_to_text.\n",
    "3. rev_decode_to_text.\n",
    "\n",
    "Choice : 3\n",
    "\n",
    "Text after palindrom of each morse code : \n",
    " NV#UELWHI#KFMAOPYRSTDBGXQ# 09876543210 ##)?#+=-,#'"
   ]
  },
  {
   "cell_type": "code",
   "execution_count": null,
   "metadata": {
    "collapsed": true
   },
   "outputs": [],
   "source": []
  }
 ],
 "metadata": {
  "kernelspec": {
   "display_name": "Python 3",
   "language": "python",
   "name": "python3"
  },
  "language_info": {
   "codemirror_mode": {
    "name": "ipython",
    "version": 3
   },
   "file_extension": ".py",
   "mimetype": "text/x-python",
   "name": "python",
   "nbconvert_exporter": "python",
   "pygments_lexer": "ipython3",
   "version": "3.6.0"
  }
 },
 "nbformat": 4,
 "nbformat_minor": 1
}
