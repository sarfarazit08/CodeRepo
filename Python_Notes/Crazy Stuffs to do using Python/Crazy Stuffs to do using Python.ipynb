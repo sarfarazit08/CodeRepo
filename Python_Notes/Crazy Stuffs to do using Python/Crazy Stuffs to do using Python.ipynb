{
 "cells": [
  {
   "cell_type": "markdown",
   "metadata": {},
   "source": [
    "# YouTube Video Downloader"
   ]
  },
  {
   "cell_type": "code",
   "execution_count": 17,
   "metadata": {
    "collapsed": false
   },
   "outputs": [
    {
     "name": "stdout",
     "output_type": "stream",
     "text": [
      "[youtube] Im8nXoLlxH4: Downloading webpage\n",
      "[youtube] Im8nXoLlxH4: Downloading video info webpage\n",
      "[youtube] Im8nXoLlxH4: Extracting video information\n",
      "[youtube] Im8nXoLlxH4: Downloading MPD manifest\n",
      "[youtube] Im8nXoLlxH4: Downloading MPD manifest\n",
      "[download] Destination: Beaches _ Mangalore,Maharastra, India-Im8nXoLlxH4.mp4\n",
      "[download] 100% of 57.06MiB in 03:01                   \n"
     ]
    }
   ],
   "source": [
    "# need to install this package\n",
    "#pip install youtube_dl\n",
    "\n",
    "from __future__ import unicode_literals\n",
    "import youtube_dl \n",
    "  \n",
    "ydl_opts = {}\n",
    "video_url = 'https://youtu.be/Im8nXoLlxH4'\n",
    "with youtube_dl.YoutubeDL(ydl_opts) as ydl:\n",
    "    ydl.download([video_url])"
   ]
  },
  {
   "cell_type": "markdown",
   "metadata": {},
   "source": [
    "# Text to Speech Reader"
   ]
  },
  {
   "cell_type": "code",
   "execution_count": 13,
   "metadata": {
    "collapsed": false
   },
   "outputs": [],
   "source": [
    "import pyttsx3\n",
    "\n",
    "Quote = '''The society that separates scholars from its warriors \n",
    "           will have its thinking done by cowards \n",
    "           and its fighting done by fools!'''\n",
    "\n",
    "engine = pyttsx3.init()\n",
    "rate = engine.getProperty('rate')\n",
    "voices = engine.getProperty('voices')\n",
    "volume = engine.getProperty('volume')\n",
    "engine.setProperty('volume', volume)\n",
    "engine.setProperty('rate', rate)\n",
    "for voice in voices:   \n",
    "    engine.setProperty('voice', voice.id)    \n",
    "    engine.say(Quote)\n",
    "engine.runAndWait()"
   ]
  },
  {
   "cell_type": "markdown",
   "metadata": {},
   "source": [
    "# Sending Email via python script"
   ]
  },
  {
   "cell_type": "code",
   "execution_count": 55,
   "metadata": {
    "collapsed": false
   },
   "outputs": [
    {
     "data": {
      "text/plain": [
       "{}"
      ]
     },
     "execution_count": 55,
     "metadata": {},
     "output_type": "execute_result"
    }
   ],
   "source": [
    "import yagmail\n",
    "\n",
    "content = '''\n",
    "Hi Abbas!\n",
    "\n",
    "“It is better to remain silent at the risk of being thought a fool, than to talk and remove all doubt of it.” \n",
    "― Maurice Switzer\n",
    "\n",
    "Thanks & Regards,\n",
    "MD SARFARAZ\n",
    "'''\n",
    "\n",
    "credentials = []\n",
    "file = open('Credentials.txt','r')\n",
    "credentials = file.readline().split(',')\n",
    "\n",
    "yag = yagmail.SMTP(credentials[0],credentials[1])\n",
    "yag.send(to = 'abbas_bengali@hotmail.com', cc='sarfarazit08@gmail.com',subject ='Message From Python', contents = content)\n"
   ]
  }
 ],
 "metadata": {
  "kernelspec": {
   "display_name": "Python 3",
   "language": "python",
   "name": "python3"
  },
  "language_info": {
   "codemirror_mode": {
    "name": "ipython",
    "version": 3
   },
   "file_extension": ".py",
   "mimetype": "text/x-python",
   "name": "python",
   "nbconvert_exporter": "python",
   "pygments_lexer": "ipython3",
   "version": "3.6.0"
  }
 },
 "nbformat": 4,
 "nbformat_minor": 2
}
