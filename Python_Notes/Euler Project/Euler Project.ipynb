{
 "cells": [
  {
   "cell_type": "markdown",
   "metadata": {},
   "source": [
    "#### 1 - Find the sum of all the multiples of 3 or 5 below 1000"
   ]
  },
  {
   "cell_type": "code",
   "execution_count": 12,
   "metadata": {
    "collapsed": false
   },
   "outputs": [
    {
     "name": "stdout",
     "output_type": "stream",
     "text": [
      "234168.0\n"
     ]
    }
   ],
   "source": [
    "target = 1000\n",
    "n,p = 0,0\n",
    "\n",
    "def SumDivisibleby(n):\n",
    "    p = target / n\n",
    "    p=int (p)    \n",
    "    return (n*(p*(p+1))) / 2\n",
    "\n",
    "print (SumDivisibleby(3)+SumDivisibleby(5)-SumDivisibleby(15))"
   ]
  },
  {
   "cell_type": "markdown",
   "metadata": {},
   "source": [
    "#### 2 - Find the sum of all the even-valued terms in the Fibonacci sequence which do not exceed four million."
   ]
  },
  {
   "cell_type": "code",
   "execution_count": 13,
   "metadata": {
    "collapsed": false
   },
   "outputs": [
    {
     "name": "stdout",
     "output_type": "stream",
     "text": [
      "4613732\n"
     ]
    }
   ],
   "source": [
    "limit=4000000\n",
    "sum=0\n",
    "a=1\n",
    "b=1\n",
    "c=a+b\n",
    "while c<limit:\n",
    "   sum=sum+c\n",
    "   a=b+c\n",
    "   b=c+a\n",
    "   c=a+b\n",
    "print(sum)"
   ]
  },
  {
   "cell_type": "markdown",
   "metadata": {},
   "source": [
    "#### 3 - Find the largest prime factor of a composite number"
   ]
  },
  {
   "cell_type": "code",
   "execution_count": 19,
   "metadata": {
    "collapsed": false
   },
   "outputs": [
    {
     "name": "stdout",
     "output_type": "stream",
     "text": [
      "6857.0\n"
     ]
    }
   ],
   "source": [
    "import math\n",
    "\n",
    "n= 600851475143\n",
    "if n%2 == 0:\n",
    "    lastFactor=2\n",
    "    n=n / 2\n",
    "    while n % 2==0:\n",
    "        n=n / 2\n",
    "else:\n",
    "    lastFactor=1\n",
    "\n",
    "factor=3\n",
    "maxFactor= math.sqrt(n)\n",
    "\n",
    "while n>1 and factor<=maxFactor:\n",
    "    if n % factor==0:\n",
    "        n=n / factor\n",
    "        lastFactor=factor\n",
    "        while n % factor==0 :\n",
    "            n=n / factor\n",
    "        maxFactor= math.sqrt(n)\n",
    "    factor=factor+2            \n",
    "if n==1:\n",
    "    print (lastFactor)\n",
    "else:\n",
    "    print(n)\n"
   ]
  },
  {
   "cell_type": "markdown",
   "metadata": {},
   "source": [
    "#### 4 - Find the largest palindrome made from the product of two 3-digit numbers."
   ]
  },
  {
   "cell_type": "code",
   "execution_count": null,
   "metadata": {
    "collapsed": false
   },
   "outputs": [],
   "source": [
    "def isPalindrome(string):\n",
    "    \"\"\"Returns true if a string is a palindrome\"\"\"\n",
    "    start, end = 0, len(string) - 1\n",
    "    while end > start:\n",
    "        if string[start] != string[end]:\n",
    "            return False\n",
    "        start += 1\n",
    "        end -= 1\n",
    "    return True\n",
    "\n",
    "def palindrome():\n",
    "    \"\"\"Finds the largest palindrome that is the product of 2 3-digit numbers\"\"\"\n",
    "    num1 = 999\n",
    "    result_arr = []\n",
    "    while num1 > 100:\n",
    "        num2 = 990\n",
    "        if num2 > num1:\n",
    "            num2 = num1 - (num1 % 11)\n",
    "        while num2 > 109:\n",
    "            if isPalindrome(str(num1 * num2)):\n",
    "                result_arr.append(num1 * num2)\n",
    "            num2 -= 11\n",
    "        num1 -= 1\n",
    "    result_arr.sort()\n",
    "    print result_arr[len(result_arr) - 1]\n",
    "\n",
    "print(palindrome())"
   ]
  },
  {
   "cell_type": "markdown",
   "metadata": {
    "collapsed": true
   },
   "source": [
    "**5 - What is the smallest number divisible by each of the numbers 1 to 20?**"
   ]
  },
  {
   "cell_type": "code",
   "execution_count": null,
   "metadata": {
    "collapsed": true
   },
   "outputs": [],
   "source": []
  },
  {
   "cell_type": "markdown",
   "metadata": {},
   "source": [
    "**6 - What is the difference between the sum of the squares and the square of the sums?**"
   ]
  },
  {
   "cell_type": "code",
   "execution_count": 5,
   "metadata": {
    "collapsed": false
   },
   "outputs": [
    {
     "name": "stdout",
     "output_type": "stream",
     "text": [
      "25164150.0\n"
     ]
    }
   ],
   "source": [
    "limit = 100\n",
    "sum = limit * (limit + 1)/2\n",
    "sum_sq = (2 * limit + 1) * (limit + 1)*limit/6\n",
    "print (str(sum**2 - sum_sq))"
   ]
  },
  {
   "cell_type": "code",
   "execution_count": null,
   "metadata": {
    "collapsed": true
   },
   "outputs": [],
   "source": []
  }
 ],
 "metadata": {
  "kernelspec": {
   "display_name": "Python 3",
   "language": "python",
   "name": "python3"
  },
  "language_info": {
   "codemirror_mode": {
    "name": "ipython",
    "version": 3
   },
   "file_extension": ".py",
   "mimetype": "text/x-python",
   "name": "python",
   "nbconvert_exporter": "python",
   "pygments_lexer": "ipython3",
   "version": "3.6.0"
  }
 },
 "nbformat": 4,
 "nbformat_minor": 2
}
