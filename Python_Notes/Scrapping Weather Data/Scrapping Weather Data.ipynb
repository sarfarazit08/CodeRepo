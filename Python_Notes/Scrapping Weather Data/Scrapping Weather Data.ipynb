{
 "cells": [
  {
   "cell_type": "markdown",
   "metadata": {},
   "source": [
    "**We’ll extract weather information about Pune, India from this [page](https://weather.com/en-IN/weather/tenday/l/INXX0634:1:IN). **"
   ]
  },
  {
   "cell_type": "markdown",
   "metadata": {},
   "source": [
    "As you can see from the image, the page has information about the extended forecast for the next week, including time of day, temperature, and a brief description of the conditions.\n",
    "\n",
    "**Exploring page structure with Chrome DevTools**\n",
    "\n",
    "The first thing we’ll need to do is inspect the page using Chrome Devtools. If you’re using another browser, Firefox and Safari have equivalents. It’s recommended to use Chrome though.\n",
    "\n",
    "You can start the developer tools in Chrome by clicking ***View -> Developer -> Developer Tools***. You should end up with a panel at the bottom of the browser like what you see below. Make sure the _Elements_ panel is highlighted:\n",
    "\n",
    "We can then scroll up in the elements panel to find the “outermost” element that contains all of the text that corresponds to the extended forecasts. In this case, it’s a ***div*** tag with the id ***twc-scrollabe***:"
   ]
  },
  {
   "cell_type": "code",
   "execution_count": 1,
   "metadata": {
    "collapsed": true
   },
   "outputs": [],
   "source": [
    "import requests\n",
    "from bs4 import BeautifulSoup\n",
    "import pandas as pd\n",
    "import re\n",
    "from datetime import date\n",
    "from matplotlib import pyplot as plt"
   ]
  },
  {
   "cell_type": "code",
   "execution_count": 2,
   "metadata": {
    "collapsed": true
   },
   "outputs": [],
   "source": [
    "# getting current date\n",
    "\n",
    "today = date.today() "
   ]
  },
  {
   "cell_type": "code",
   "execution_count": 3,
   "metadata": {
    "collapsed": true
   },
   "outputs": [],
   "source": [
    "# page request for scrapping\n",
    "\n",
    "url = \"https://weather.com/en-IN/weather/tenday/l/INXX0634:1:IN\"\n",
    "page = requests.get(url) "
   ]
  },
  {
   "cell_type": "code",
   "execution_count": 4,
   "metadata": {
    "collapsed": true
   },
   "outputs": [],
   "source": [
    "# parse the scrapped page using Python BeautifulSoup Parser\n",
    "soup = BeautifulSoup(page.content, 'html.parser') \n",
    "\n",
    "# identifying the tag of the HTML page which has weather data\n",
    "ten_day = soup.find_all('div', class_=\"twc-table-scroller\") "
   ]
  },
  {
   "cell_type": "code",
   "execution_count": 5,
   "metadata": {
    "collapsed": false
   },
   "outputs": [],
   "source": [
    "data = []\n",
    "table = soup.find('table', attrs={'class':'twc-table'})\n",
    "table_body = table.find('tbody')\n",
    "\n",
    "rows = table_body.find_all('tr')\n",
    "for row in rows:\n",
    "    cols = row.find_all('td')      \n",
    "    cols = [element.text.strip() for element in cols]\n",
    "    \n",
    "    regex = re.compile(r'(\\d.*)')\n",
    "    day_date  = regex.split(cols[1].replace('\\n',''))\n",
    "    \n",
    "    day = day_date[0]\n",
    "    date = day_date[1] + \", \" + str(today.year)\n",
    "    high_temp = (cols[3][0:2]) if (cols[3][0:2] !='--') else (None)\n",
    "    low_temp = cols[3][-3:].replace('°','')\n",
    "    desc = cols[2]\n",
    "    precip = cols[4]\n",
    "    wind = cols[5]\n",
    "    humidity = cols[6]\n",
    "    \n",
    "    # weather details of each day\n",
    "    record = [day ,  date,  desc , high_temp , low_temp , precip , wind , humidity ]\n",
    "    \n",
    "    # store weather details of each day into a list\n",
    "    data.append(record) "
   ]
  },
  {
   "cell_type": "markdown",
   "metadata": {},
   "source": [
    "### creating pandas dataframe from the above data"
   ]
  },
  {
   "cell_type": "code",
   "execution_count": 6,
   "metadata": {
    "collapsed": false
   },
   "outputs": [
    {
     "name": "stdout",
     "output_type": "stream",
     "text": [
      "        DAY          DATE    DESCRIPTION HIGH_TEMP LOW_TEMP PRECIP  \\\n",
      "0   Tonight  27 OCT, 2017  Partly Cloudy      None       20     0%   \n",
      "1       Sat  28 OCT, 2017          Sunny        32       20     0%   \n",
      "2       Sun  29 OCT, 2017   Mostly Sunny        32       19     0%   \n",
      "3       Mon  30 OCT, 2017          Sunny        32       19     0%   \n",
      "4       Tue  31 OCT, 2017          Sunny        32       18     0%   \n",
      "5       Wed   1 NOV, 2017          Sunny        32       18     0%   \n",
      "6       Thu   2 NOV, 2017          Sunny        31       18     0%   \n",
      "7       Fri   3 NOV, 2017          Sunny        31       18     0%   \n",
      "8       Sat   4 NOV, 2017          Sunny        31       18     0%   \n",
      "9       Sun   5 NOV, 2017          Sunny        31       18     0%   \n",
      "10      Mon   6 NOV, 2017          Sunny        31       20     0%   \n",
      "11      Tue   7 NOV, 2017          Sunny        31       20     0%   \n",
      "12      Wed   8 NOV, 2017          Sunny        31       19     0%   \n",
      "13      Thu   9 NOV, 2017          Sunny        31       19     0%   \n",
      "14      Fri  10 NOV, 2017          Sunny        31       19     0%   \n",
      "\n",
      "           WIND HUMIDITY  \n",
      "0    SSE 1 km/h      85%  \n",
      "1     NE 9 km/h      53%  \n",
      "2     E 13 km/h      47%  \n",
      "3   ENE 21 km/h      45%  \n",
      "4   ENE 17 km/h      44%  \n",
      "5   ENE 14 km/h      43%  \n",
      "6   ENE 13 km/h      44%  \n",
      "7     E 18 km/h      42%  \n",
      "8     E 21 km/h      41%  \n",
      "9     E 19 km/h      42%  \n",
      "10    E 18 km/h      39%  \n",
      "11    E 15 km/h      39%  \n",
      "12    E 15 km/h      37%  \n",
      "13    E 13 km/h      37%  \n",
      "14    E 13 km/h      36%  \n"
     ]
    }
   ],
   "source": [
    "WeatherData = pd.DataFrame(data)\n",
    "WeatherData.columns = [\"DAY\", \"DATE\", \"DESCRIPTION\",  \"HIGH_TEMP\",\"LOW_TEMP\", \"PRECIP\", \"WIND\", \"HUMIDITY\"]\n",
    "print(WeatherData)"
   ]
  },
  {
   "cell_type": "markdown",
   "metadata": {},
   "source": [
    "### Displaying data frame as HTML table"
   ]
  },
  {
   "cell_type": "code",
   "execution_count": 7,
   "metadata": {
    "collapsed": false
   },
   "outputs": [
    {
     "data": {
      "text/html": [
       "<table border=\"1\" class=\"dataframe\">\n",
       "  <thead>\n",
       "    <tr style=\"text-align: right;\">\n",
       "      <th></th>\n",
       "      <th>DAY</th>\n",
       "      <th>DATE</th>\n",
       "      <th>DESCRIPTION</th>\n",
       "      <th>HIGH_TEMP</th>\n",
       "      <th>LOW_TEMP</th>\n",
       "      <th>PRECIP</th>\n",
       "      <th>WIND</th>\n",
       "      <th>HUMIDITY</th>\n",
       "    </tr>\n",
       "  </thead>\n",
       "  <tbody>\n",
       "    <tr>\n",
       "      <th>0</th>\n",
       "      <td>Tonight</td>\n",
       "      <td>27 OCT, 2017</td>\n",
       "      <td>Partly Cloudy</td>\n",
       "      <td>None</td>\n",
       "      <td>20</td>\n",
       "      <td>0%</td>\n",
       "      <td>SSE 1 km/h</td>\n",
       "      <td>85%</td>\n",
       "    </tr>\n",
       "    <tr>\n",
       "      <th>1</th>\n",
       "      <td>Sat</td>\n",
       "      <td>28 OCT, 2017</td>\n",
       "      <td>Sunny</td>\n",
       "      <td>32</td>\n",
       "      <td>20</td>\n",
       "      <td>0%</td>\n",
       "      <td>NE 9 km/h</td>\n",
       "      <td>53%</td>\n",
       "    </tr>\n",
       "    <tr>\n",
       "      <th>2</th>\n",
       "      <td>Sun</td>\n",
       "      <td>29 OCT, 2017</td>\n",
       "      <td>Mostly Sunny</td>\n",
       "      <td>32</td>\n",
       "      <td>19</td>\n",
       "      <td>0%</td>\n",
       "      <td>E 13 km/h</td>\n",
       "      <td>47%</td>\n",
       "    </tr>\n",
       "    <tr>\n",
       "      <th>3</th>\n",
       "      <td>Mon</td>\n",
       "      <td>30 OCT, 2017</td>\n",
       "      <td>Sunny</td>\n",
       "      <td>32</td>\n",
       "      <td>19</td>\n",
       "      <td>0%</td>\n",
       "      <td>ENE 21 km/h</td>\n",
       "      <td>45%</td>\n",
       "    </tr>\n",
       "    <tr>\n",
       "      <th>4</th>\n",
       "      <td>Tue</td>\n",
       "      <td>31 OCT, 2017</td>\n",
       "      <td>Sunny</td>\n",
       "      <td>32</td>\n",
       "      <td>18</td>\n",
       "      <td>0%</td>\n",
       "      <td>ENE 17 km/h</td>\n",
       "      <td>44%</td>\n",
       "    </tr>\n",
       "    <tr>\n",
       "      <th>5</th>\n",
       "      <td>Wed</td>\n",
       "      <td>1 NOV, 2017</td>\n",
       "      <td>Sunny</td>\n",
       "      <td>32</td>\n",
       "      <td>18</td>\n",
       "      <td>0%</td>\n",
       "      <td>ENE 14 km/h</td>\n",
       "      <td>43%</td>\n",
       "    </tr>\n",
       "    <tr>\n",
       "      <th>6</th>\n",
       "      <td>Thu</td>\n",
       "      <td>2 NOV, 2017</td>\n",
       "      <td>Sunny</td>\n",
       "      <td>31</td>\n",
       "      <td>18</td>\n",
       "      <td>0%</td>\n",
       "      <td>ENE 13 km/h</td>\n",
       "      <td>44%</td>\n",
       "    </tr>\n",
       "    <tr>\n",
       "      <th>7</th>\n",
       "      <td>Fri</td>\n",
       "      <td>3 NOV, 2017</td>\n",
       "      <td>Sunny</td>\n",
       "      <td>31</td>\n",
       "      <td>18</td>\n",
       "      <td>0%</td>\n",
       "      <td>E 18 km/h</td>\n",
       "      <td>42%</td>\n",
       "    </tr>\n",
       "    <tr>\n",
       "      <th>8</th>\n",
       "      <td>Sat</td>\n",
       "      <td>4 NOV, 2017</td>\n",
       "      <td>Sunny</td>\n",
       "      <td>31</td>\n",
       "      <td>18</td>\n",
       "      <td>0%</td>\n",
       "      <td>E 21 km/h</td>\n",
       "      <td>41%</td>\n",
       "    </tr>\n",
       "    <tr>\n",
       "      <th>9</th>\n",
       "      <td>Sun</td>\n",
       "      <td>5 NOV, 2017</td>\n",
       "      <td>Sunny</td>\n",
       "      <td>31</td>\n",
       "      <td>18</td>\n",
       "      <td>0%</td>\n",
       "      <td>E 19 km/h</td>\n",
       "      <td>42%</td>\n",
       "    </tr>\n",
       "    <tr>\n",
       "      <th>10</th>\n",
       "      <td>Mon</td>\n",
       "      <td>6 NOV, 2017</td>\n",
       "      <td>Sunny</td>\n",
       "      <td>31</td>\n",
       "      <td>20</td>\n",
       "      <td>0%</td>\n",
       "      <td>E 18 km/h</td>\n",
       "      <td>39%</td>\n",
       "    </tr>\n",
       "    <tr>\n",
       "      <th>11</th>\n",
       "      <td>Tue</td>\n",
       "      <td>7 NOV, 2017</td>\n",
       "      <td>Sunny</td>\n",
       "      <td>31</td>\n",
       "      <td>20</td>\n",
       "      <td>0%</td>\n",
       "      <td>E 15 km/h</td>\n",
       "      <td>39%</td>\n",
       "    </tr>\n",
       "    <tr>\n",
       "      <th>12</th>\n",
       "      <td>Wed</td>\n",
       "      <td>8 NOV, 2017</td>\n",
       "      <td>Sunny</td>\n",
       "      <td>31</td>\n",
       "      <td>19</td>\n",
       "      <td>0%</td>\n",
       "      <td>E 15 km/h</td>\n",
       "      <td>37%</td>\n",
       "    </tr>\n",
       "    <tr>\n",
       "      <th>13</th>\n",
       "      <td>Thu</td>\n",
       "      <td>9 NOV, 2017</td>\n",
       "      <td>Sunny</td>\n",
       "      <td>31</td>\n",
       "      <td>19</td>\n",
       "      <td>0%</td>\n",
       "      <td>E 13 km/h</td>\n",
       "      <td>37%</td>\n",
       "    </tr>\n",
       "    <tr>\n",
       "      <th>14</th>\n",
       "      <td>Fri</td>\n",
       "      <td>10 NOV, 2017</td>\n",
       "      <td>Sunny</td>\n",
       "      <td>31</td>\n",
       "      <td>19</td>\n",
       "      <td>0%</td>\n",
       "      <td>E 13 km/h</td>\n",
       "      <td>36%</td>\n",
       "    </tr>\n",
       "  </tbody>\n",
       "</table>"
      ],
      "text/plain": [
       "<IPython.core.display.HTML object>"
      ]
     },
     "execution_count": 7,
     "metadata": {},
     "output_type": "execute_result"
    }
   ],
   "source": [
    "from IPython.display import display, HTML\n",
    "HTML(WeatherData.to_html())"
   ]
  },
  {
   "cell_type": "markdown",
   "metadata": {},
   "source": [
    "### Saving Data frame as csv file"
   ]
  },
  {
   "cell_type": "code",
   "execution_count": 8,
   "metadata": {
    "collapsed": true
   },
   "outputs": [],
   "source": [
    "WeatherData.to_csv((\"./data/\"+ str(today)+\".csv\"), sep='\\t', encoding='utf-8')"
   ]
  }
 ],
 "metadata": {
  "kernelspec": {
   "display_name": "Python 3",
   "language": "python",
   "name": "python3"
  },
  "language_info": {
   "codemirror_mode": {
    "name": "ipython",
    "version": 3
   },
   "file_extension": ".py",
   "mimetype": "text/x-python",
   "name": "python",
   "nbconvert_exporter": "python",
   "pygments_lexer": "ipython3",
   "version": "3.6.0"
  }
 },
 "nbformat": 4,
 "nbformat_minor": 2
}
