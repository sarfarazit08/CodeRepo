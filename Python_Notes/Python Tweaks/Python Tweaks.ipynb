{
 "cells": [
  {
   "cell_type": "markdown",
   "metadata": {},
   "source": [
    "### How to change jupyter start folder?"
   ]
  },
  {
   "cell_type": "markdown",
   "metadata": {},
   "source": [
    "* Use the jupyter notebook config file.\n",
    "* Open ***cmd*** and type ***jupyter notebook --generate-config***\n",
    "* This writes a file to ***C:\\Users\\username\\.jupyter\\jupyter_notebook_config***\n",
    "* Change line : ***#c.NotebookApp.notebook_dir = ''*** to ***c.NotebookApp.notebook_dir = 'your path'***\n",
    "    * e.g: c.NotebookApp.notebook_dir = 'D:/Project/Notebooks/'\n",
    "* Make sure you use ***forward slashes*** in your path."
   ]
  },
  {
   "cell_type": "markdown",
   "metadata": {},
   "source": [
    "### Find Python Version"
   ]
  },
  {
   "cell_type": "code",
   "execution_count": null,
   "metadata": {
    "collapsed": false
   },
   "outputs": [],
   "source": [
    "import sys\n",
    "print(sys.version)"
   ]
  },
  {
   "cell_type": "markdown",
   "metadata": {
    "collapsed": true
   },
   "source": [
    "### Merge Multiple file to a Single file"
   ]
  },
  {
   "cell_type": "code",
   "execution_count": null,
   "metadata": {
    "collapsed": true
   },
   "outputs": [],
   "source": [
    "import os\n",
    "\n",
    "def file_merge(folder_path, output_file_name):\n",
    "    \n",
    "    fileList = [file for file in os.listdir(folder_path) if (file.endswith(\".py\"))]\n",
    "    #print(fileList)\n",
    "    try:\n",
    "        for file in fileList:\n",
    "            with open(os.path.join(folder_path,file)) as f:\n",
    "                with open(output_file_name, \"a\") as f1:\n",
    "                    f1.write('\\r\\n--------------------------------'+str(file)+'------------------------------------\\r\\n')\n",
    "                    for line in f:\n",
    "                        f1.write(line)\n",
    "        print(\"File writing completed.\")\n",
    "    except Exception as e:\n",
    "        print(\"Error: File writing failed. {}\".format(e.args))\n",
    "        \n",
    "folder_path = os.path.join(os.getcwd())\n",
    "output_file_name = \"MergedCodes.txt\"\n",
    "\n",
    "file_merge(folder_path, output_file_name)"
   ]
  },
  {
   "cell_type": "markdown",
   "metadata": {},
   "source": []
  }
 ],
 "metadata": {
  "kernelspec": {
   "display_name": "Python 3",
   "language": "python",
   "name": "python3"
  },
  "language_info": {
   "codemirror_mode": {
    "name": "ipython",
    "version": 3
   },
   "file_extension": ".py",
   "mimetype": "text/x-python",
   "name": "python",
   "nbconvert_exporter": "python",
   "pygments_lexer": "ipython3",
   "version": "3.6.0"
  }
 },
 "nbformat": 4,
 "nbformat_minor": 2
}
