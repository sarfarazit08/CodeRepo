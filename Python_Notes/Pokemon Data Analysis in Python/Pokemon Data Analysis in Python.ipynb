{
 "cells": [
  {
   "cell_type": "markdown",
   "metadata": {},
   "source": [
    "### Import Pokemon Data"
   ]
  },
  {
   "cell_type": "code",
   "execution_count": 1,
   "metadata": {
    "collapsed": true
   },
   "outputs": [],
   "source": [
    "loc <- \"./data/pokemon.csv\"\n",
    "pokemonData <- read.csv(loc, header = T)"
   ]
  },
  {
   "cell_type": "code",
   "execution_count": 2,
   "metadata": {
    "collapsed": true
   },
   "outputs": [],
   "source": [
    "# assign column names to the imported dataset\n",
    "colnames(pokemonData) <- c(\"number\", \"name\", \"type1\", \n",
    "                           \"type2\", \"total\", \"hp\", \"attack\", \n",
    "                           \"defense\", \"sp.atk\", \"sp.def\",\n",
    "                           \"speed\", \"generation\", \"legendary\")"
   ]
  },
  {
   "cell_type": "code",
   "execution_count": 3,
   "metadata": {
    "collapsed": false
   },
   "outputs": [
    {
     "data": {
      "text/html": [
       "<table>\n",
       "<thead><tr><th scope=col>number</th><th scope=col>name</th><th scope=col>type1</th><th scope=col>type2</th><th scope=col>total</th><th scope=col>hp</th><th scope=col>attack</th><th scope=col>defense</th><th scope=col>sp.atk</th><th scope=col>sp.def</th><th scope=col>speed</th><th scope=col>generation</th><th scope=col>legendary</th></tr></thead>\n",
       "<tbody>\n",
       "\t<tr><td>1                    </td><td>Bulbasaur            </td><td>Grass                </td><td>Poison               </td><td>318                  </td><td>45                   </td><td> 49                  </td><td> 49                  </td><td> 65                  </td><td> 65                  </td><td>45                   </td><td>1                    </td><td>False                </td></tr>\n",
       "\t<tr><td>2                    </td><td>Ivysaur              </td><td>Grass                </td><td>Poison               </td><td>405                  </td><td>60                   </td><td> 62                  </td><td> 63                  </td><td> 80                  </td><td> 80                  </td><td>60                   </td><td>1                    </td><td>False                </td></tr>\n",
       "\t<tr><td>3                    </td><td>Venusaur             </td><td>Grass                </td><td>Poison               </td><td>525                  </td><td>80                   </td><td> 82                  </td><td> 83                  </td><td>100                  </td><td>100                  </td><td>80                   </td><td>1                    </td><td>False                </td></tr>\n",
       "\t<tr><td>3                    </td><td>VenusaurMega Venusaur</td><td>Grass                </td><td>Poison               </td><td>625                  </td><td>80                   </td><td>100                  </td><td>123                  </td><td>122                  </td><td>120                  </td><td>80                   </td><td>1                    </td><td>False                </td></tr>\n",
       "\t<tr><td>4                    </td><td>Charmander           </td><td>Fire                 </td><td>                     </td><td>309                  </td><td>39                   </td><td> 52                  </td><td> 43                  </td><td> 60                  </td><td> 50                  </td><td>65                   </td><td>1                    </td><td>False                </td></tr>\n",
       "\t<tr><td>5                    </td><td>Charmeleon           </td><td>Fire                 </td><td>                     </td><td>405                  </td><td>58                   </td><td> 64                  </td><td> 58                  </td><td> 80                  </td><td> 65                  </td><td>80                   </td><td>1                    </td><td>False                </td></tr>\n",
       "</tbody>\n",
       "</table>\n"
      ],
      "text/latex": [
       "\\begin{tabular}{r|lllllllllllll}\n",
       " number & name & type1 & type2 & total & hp & attack & defense & sp.atk & sp.def & speed & generation & legendary\\\\\n",
       "\\hline\n",
       "\t 1                     & Bulbasaur             & Grass                 & Poison                & 318                   & 45                    &  49                   &  49                   &  65                   &  65                   & 45                    & 1                     & False                \\\\\n",
       "\t 2                     & Ivysaur               & Grass                 & Poison                & 405                   & 60                    &  62                   &  63                   &  80                   &  80                   & 60                    & 1                     & False                \\\\\n",
       "\t 3                     & Venusaur              & Grass                 & Poison                & 525                   & 80                    &  82                   &  83                   & 100                   & 100                   & 80                    & 1                     & False                \\\\\n",
       "\t 3                     & VenusaurMega Venusaur & Grass                 & Poison                & 625                   & 80                    & 100                   & 123                   & 122                   & 120                   & 80                    & 1                     & False                \\\\\n",
       "\t 4                     & Charmander            & Fire                  &                       & 309                   & 39                    &  52                   &  43                   &  60                   &  50                   & 65                    & 1                     & False                \\\\\n",
       "\t 5                     & Charmeleon            & Fire                  &                       & 405                   & 58                    &  64                   &  58                   &  80                   &  65                   & 80                    & 1                     & False                \\\\\n",
       "\\end{tabular}\n"
      ],
      "text/markdown": [
       "\n",
       "number | name | type1 | type2 | total | hp | attack | defense | sp.atk | sp.def | speed | generation | legendary | \n",
       "|---|---|---|---|---|---|\n",
       "| 1                     | Bulbasaur             | Grass                 | Poison                | 318                   | 45                    |  49                   |  49                   |  65                   |  65                   | 45                    | 1                     | False                 | \n",
       "| 2                     | Ivysaur               | Grass                 | Poison                | 405                   | 60                    |  62                   |  63                   |  80                   |  80                   | 60                    | 1                     | False                 | \n",
       "| 3                     | Venusaur              | Grass                 | Poison                | 525                   | 80                    |  82                   |  83                   | 100                   | 100                   | 80                    | 1                     | False                 | \n",
       "| 3                     | VenusaurMega Venusaur | Grass                 | Poison                | 625                   | 80                    | 100                   | 123                   | 122                   | 120                   | 80                    | 1                     | False                 | \n",
       "| 4                     | Charmander            | Fire                  |                       | 309                   | 39                    |  52                   |  43                   |  60                   |  50                   | 65                    | 1                     | False                 | \n",
       "| 5                     | Charmeleon            | Fire                  |                       | 405                   | 58                    |  64                   |  58                   |  80                   |  65                   | 80                    | 1                     | False                 | \n",
       "\n",
       "\n"
      ],
      "text/plain": [
       "  number name                  type1 type2  total hp attack defense sp.atk\n",
       "1 1      Bulbasaur             Grass Poison 318   45  49     49      65   \n",
       "2 2      Ivysaur               Grass Poison 405   60  62     63      80   \n",
       "3 3      Venusaur              Grass Poison 525   80  82     83     100   \n",
       "4 3      VenusaurMega Venusaur Grass Poison 625   80 100    123     122   \n",
       "5 4      Charmander            Fire         309   39  52     43      60   \n",
       "6 5      Charmeleon            Fire         405   58  64     58      80   \n",
       "  sp.def speed generation legendary\n",
       "1  65    45    1          False    \n",
       "2  80    60    1          False    \n",
       "3 100    80    1          False    \n",
       "4 120    80    1          False    \n",
       "5  50    65    1          False    \n",
       "6  65    80    1          False    "
      ]
     },
     "metadata": {},
     "output_type": "display_data"
    }
   ],
   "source": [
    "#check top 5 rows of the dataset\n",
    "head(pokemonData)"
   ]
  },
  {
   "cell_type": "code",
   "execution_count": 4,
   "metadata": {
    "collapsed": false
   },
   "outputs": [
    {
     "data": {
      "text/plain": [
       "     number                           name         type1          type2    \n",
       " Min.   :  1.0   Abomasnow              :  1   Water  :112           :386  \n",
       " 1st Qu.:184.8   AbomasnowMega Abomasnow:  1   Normal : 98   Flying  : 97  \n",
       " Median :364.5   Abra                   :  1   Grass  : 70   Ground  : 35  \n",
       " Mean   :362.8   Absol                  :  1   Bug    : 69   Poison  : 34  \n",
       " 3rd Qu.:539.2   AbsolMega Absol        :  1   Psychic: 57   Psychic : 33  \n",
       " Max.   :721.0   Accelgor               :  1   Fire   : 52   Fighting: 26  \n",
       "                 (Other)                :794   (Other):342   (Other) :189  \n",
       "     total             hp             attack       defense      \n",
       " Min.   :180.0   Min.   :  1.00   Min.   :  5   Min.   :  5.00  \n",
       " 1st Qu.:330.0   1st Qu.: 50.00   1st Qu.: 55   1st Qu.: 50.00  \n",
       " Median :450.0   Median : 65.00   Median : 75   Median : 70.00  \n",
       " Mean   :435.1   Mean   : 69.26   Mean   : 79   Mean   : 73.84  \n",
       " 3rd Qu.:515.0   3rd Qu.: 80.00   3rd Qu.:100   3rd Qu.: 90.00  \n",
       " Max.   :780.0   Max.   :255.00   Max.   :190   Max.   :230.00  \n",
       "                                                                \n",
       "     sp.atk           sp.def          speed          generation    legendary  \n",
       " Min.   : 10.00   Min.   : 20.0   Min.   :  5.00   Min.   :1.000   False:735  \n",
       " 1st Qu.: 49.75   1st Qu.: 50.0   1st Qu.: 45.00   1st Qu.:2.000   True : 65  \n",
       " Median : 65.00   Median : 70.0   Median : 65.00   Median :3.000              \n",
       " Mean   : 72.82   Mean   : 71.9   Mean   : 68.28   Mean   :3.324              \n",
       " 3rd Qu.: 95.00   3rd Qu.: 90.0   3rd Qu.: 90.00   3rd Qu.:5.000              \n",
       " Max.   :194.00   Max.   :230.0   Max.   :180.00   Max.   :6.000              \n",
       "                                                                              "
      ]
     },
     "metadata": {},
     "output_type": "display_data"
    }
   ],
   "source": [
    "# check summary of dataset\n",
    "summary(pokemonData)"
   ]
  },
  {
   "cell_type": "code",
   "execution_count": 5,
   "metadata": {
    "collapsed": false
   },
   "outputs": [
    {
     "data": {
      "text/html": [
       "<table>\n",
       "<thead><tr><th></th><th scope=col>name</th><th scope=col>total</th></tr></thead>\n",
       "<tbody>\n",
       "\t<tr><th scope=row>164</th><td>MewtwoMega Mewtwo X    </td><td>780                    </td></tr>\n",
       "\t<tr><th scope=row>165</th><td>MewtwoMega Mewtwo Y    </td><td>780                    </td></tr>\n",
       "\t<tr><th scope=row>427</th><td>RayquazaMega Rayquaza  </td><td>780                    </td></tr>\n",
       "\t<tr><th scope=row>423</th><td>KyogrePrimal Kyogre    </td><td>770                    </td></tr>\n",
       "\t<tr><th scope=row>425</th><td>GroudonPrimal Groudon  </td><td>770                    </td></tr>\n",
       "\t<tr><th scope=row>553</th><td>Arceus                 </td><td>720                    </td></tr>\n",
       "\t<tr><th scope=row>269</th><td>TyranitarMega Tyranitar</td><td>700                    </td></tr>\n",
       "\t<tr><th scope=row>410</th><td>SalamenceMega Salamence</td><td>700                    </td></tr>\n",
       "\t<tr><th scope=row>414</th><td>MetagrossMega Metagross</td><td>700                    </td></tr>\n",
       "\t<tr><th scope=row>419</th><td>LatiasMega Latias      </td><td>700                    </td></tr>\n",
       "</tbody>\n",
       "</table>\n"
      ],
      "text/latex": [
       "\\begin{tabular}{r|ll}\n",
       "  & name & total\\\\\n",
       "\\hline\n",
       "\t164 & MewtwoMega Mewtwo X     & 780                    \\\\\n",
       "\t165 & MewtwoMega Mewtwo Y     & 780                    \\\\\n",
       "\t427 & RayquazaMega Rayquaza   & 780                    \\\\\n",
       "\t423 & KyogrePrimal Kyogre     & 770                    \\\\\n",
       "\t425 & GroudonPrimal Groudon   & 770                    \\\\\n",
       "\t553 & Arceus                  & 720                    \\\\\n",
       "\t269 & TyranitarMega Tyranitar & 700                    \\\\\n",
       "\t410 & SalamenceMega Salamence & 700                    \\\\\n",
       "\t414 & MetagrossMega Metagross & 700                    \\\\\n",
       "\t419 & LatiasMega Latias       & 700                    \\\\\n",
       "\\end{tabular}\n"
      ],
      "text/markdown": [
       "\n",
       "| <!--/--> | name | total | \n",
       "|---|---|---|---|---|---|---|---|---|---|\n",
       "| 164 | MewtwoMega Mewtwo X     | 780                     | \n",
       "| 165 | MewtwoMega Mewtwo Y     | 780                     | \n",
       "| 427 | RayquazaMega Rayquaza   | 780                     | \n",
       "| 423 | KyogrePrimal Kyogre     | 770                     | \n",
       "| 425 | GroudonPrimal Groudon   | 770                     | \n",
       "| 553 | Arceus                  | 720                     | \n",
       "| 269 | TyranitarMega Tyranitar | 700                     | \n",
       "| 410 | SalamenceMega Salamence | 700                     | \n",
       "| 414 | MetagrossMega Metagross | 700                     | \n",
       "| 419 | LatiasMega Latias       | 700                     | \n",
       "\n",
       "\n"
      ],
      "text/plain": [
       "    name                    total\n",
       "164 MewtwoMega Mewtwo X     780  \n",
       "165 MewtwoMega Mewtwo Y     780  \n",
       "427 RayquazaMega Rayquaza   780  \n",
       "423 KyogrePrimal Kyogre     770  \n",
       "425 GroudonPrimal Groudon   770  \n",
       "553 Arceus                  720  \n",
       "269 TyranitarMega Tyranitar 700  \n",
       "410 SalamenceMega Salamence 700  \n",
       "414 MetagrossMega Metagross 700  \n",
       "419 LatiasMega Latias       700  "
      ]
     },
     "metadata": {},
     "output_type": "display_data"
    }
   ],
   "source": [
    "# Find top 10 Pokemon by Total Strength\n",
    "\n",
    "top10 <- pokemonData[order(pokemonData$total, decreasing = T), c(2,5)][1:10,]\n",
    "top10"
   ]
  },
  {
   "cell_type": "code",
   "execution_count": 6,
   "metadata": {
    "collapsed": false
   },
   "outputs": [
    {
     "data": {
      "text/html": [
       "<table>\n",
       "<thead><tr><th></th><th scope=col>name</th><th scope=col>total</th></tr></thead>\n",
       "<tbody>\n",
       "\t<tr><th scope=row>207</th><td>Sunkern   </td><td>180       </td></tr>\n",
       "\t<tr><th scope=row>323</th><td>Azurill   </td><td>190       </td></tr>\n",
       "\t<tr><th scope=row>447</th><td>Kricketot </td><td>194       </td></tr>\n",
       "\t<tr><th scope=row>14</th><td>Caterpie  </td><td>195       </td></tr>\n",
       "\t<tr><th scope=row>17</th><td>Weedle    </td><td>195       </td></tr>\n",
       "\t<tr><th scope=row>289</th><td>Wurmple   </td><td>195       </td></tr>\n",
       "\t<tr><th scope=row>304</th><td>Ralts     </td><td>198       </td></tr>\n",
       "\t<tr><th scope=row>140</th><td>Magikarp  </td><td>200       </td></tr>\n",
       "\t<tr><th scope=row>382</th><td>Feebas    </td><td>200       </td></tr>\n",
       "\t<tr><th scope=row>733</th><td>Scatterbug</td><td>200       </td></tr>\n",
       "</tbody>\n",
       "</table>\n"
      ],
      "text/latex": [
       "\\begin{tabular}{r|ll}\n",
       "  & name & total\\\\\n",
       "\\hline\n",
       "\t207 & Sunkern    & 180       \\\\\n",
       "\t323 & Azurill    & 190       \\\\\n",
       "\t447 & Kricketot  & 194       \\\\\n",
       "\t14 & Caterpie   & 195       \\\\\n",
       "\t17 & Weedle     & 195       \\\\\n",
       "\t289 & Wurmple    & 195       \\\\\n",
       "\t304 & Ralts      & 198       \\\\\n",
       "\t140 & Magikarp   & 200       \\\\\n",
       "\t382 & Feebas     & 200       \\\\\n",
       "\t733 & Scatterbug & 200       \\\\\n",
       "\\end{tabular}\n"
      ],
      "text/markdown": [
       "\n",
       "| <!--/--> | name | total | \n",
       "|---|---|---|---|---|---|---|---|---|---|\n",
       "| 207 | Sunkern    | 180        | \n",
       "| 323 | Azurill    | 190        | \n",
       "| 447 | Kricketot  | 194        | \n",
       "| 14 | Caterpie   | 195        | \n",
       "| 17 | Weedle     | 195        | \n",
       "| 289 | Wurmple    | 195        | \n",
       "| 304 | Ralts      | 198        | \n",
       "| 140 | Magikarp   | 200        | \n",
       "| 382 | Feebas     | 200        | \n",
       "| 733 | Scatterbug | 200        | \n",
       "\n",
       "\n"
      ],
      "text/plain": [
       "    name       total\n",
       "207 Sunkern    180  \n",
       "323 Azurill    190  \n",
       "447 Kricketot  194  \n",
       "14  Caterpie   195  \n",
       "17  Weedle     195  \n",
       "289 Wurmple    195  \n",
       "304 Ralts      198  \n",
       "140 Magikarp   200  \n",
       "382 Feebas     200  \n",
       "733 Scatterbug 200  "
      ]
     },
     "metadata": {},
     "output_type": "display_data"
    }
   ],
   "source": [
    "# Find last 10 Pokemon by Total Strength\n",
    "\n",
    "last10 <- pokemonData[order(pokemonData$total, decreasing = F), c(2,5)][1:10,]\n",
    "last10"
   ]
  },
  {
   "cell_type": "code",
   "execution_count": 7,
   "metadata": {
    "collapsed": false
   },
   "outputs": [
    {
     "data": {
      "image/png": "[encoded data removed]",
      "text/plain": [
       "plot without title"
      ]
     },
     "metadata": {},
     "output_type": "display_data"
    }
   ],
   "source": [
    "# Plot dotchart of the Top 10 and Last 10 Pokemons\n",
    "par(mfrow = c(1,2))\n",
    "dotchart(top10$total, labels = top10$name, cex= .6, pt.cex = .5)\n",
    "dotchart(last10$total, labels = last10$name, cex= .6, pt.cex = .5)"
   ]
  },
  {
   "cell_type": "markdown",
   "metadata": {},
   "source": [
    "I'm going to use the diagnostic plots for a linear regression model to see which Pokemon have the most unusual set of traits (e.g., hp, attack, defense) that combine to it's total strength."
   ]
  },
  {
   "cell_type": "code",
   "execution_count": 8,
   "metadata": {
    "collapsed": false
   },
   "outputs": [
    {
     "data": {
      "image/png": "[encoded data removed]",
      "text/plain": [
       "Plot with title \"\""
      ]
     },
     "metadata": {},
     "output_type": "display_data"
    }
   ],
   "source": [
    "poke <- lm(total ~ hp + attack + defense + sp.atk + sp.def + speed, pokemonData)\n",
    "par(mfrow = c(2,2))\n",
    "plot(poke)"
   ]
  },
  {
   "cell_type": "markdown",
   "metadata": {},
   "source": [
    "Observations 1, 3 and 6 have the most unusual combination of traits (in that order). Which Pokemon are these?"
   ]
  },
  {
   "cell_type": "code",
   "execution_count": 9,
   "metadata": {
    "collapsed": false
   },
   "outputs": [
    {
     "data": {
      "text/html": [
       "<ol class=list-inline>\n",
       "\t<li>Bulbasaur</li>\n",
       "\t<li>Venusaur</li>\n",
       "\t<li>Charmeleon</li>\n",
       "</ol>\n"
      ],
      "text/latex": [
       "\\begin{enumerate*}\n",
       "\\item Bulbasaur\n",
       "\\item Venusaur\n",
       "\\item Charmeleon\n",
       "\\end{enumerate*}\n"
      ],
      "text/markdown": [
       "1. Bulbasaur\n",
       "2. Venusaur\n",
       "3. Charmeleon\n",
       "\n",
       "\n"
      ],
      "text/plain": [
       "[1] Bulbasaur  Venusaur   Charmeleon\n",
       "800 Levels: Abomasnow AbomasnowMega Abomasnow Abra Absol ... Zygarde50% Forme"
      ]
     },
     "metadata": {},
     "output_type": "display_data"
    }
   ],
   "source": [
    "pokemonData[c(1,3,6), 2]"
   ]
  },
  {
   "cell_type": "markdown",
   "metadata": {
    "collapsed": false
   },
   "source": [
    "It looks like Bulbasaur and it's evolved form Venusaur have the most unusual combination of traits of all the pokemon! \n",
    "Charmeleon is the next most unusual. Way to go Bulbasaur for being weird I guess?"
   ]
  }
 ],
 "metadata": {
  "kernelspec": {
   "display_name": "R",
   "language": "R",
   "name": "ir"
  },
  "language_info": {
   "codemirror_mode": "r",
   "file_extension": ".r",
   "mimetype": "text/x-r-source",
   "name": "R",
   "pygments_lexer": "r",
   "version": "3.3.2"
  }
 },
 "nbformat": 4,
 "nbformat_minor": 2
}
