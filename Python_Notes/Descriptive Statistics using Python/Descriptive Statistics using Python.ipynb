{
 "cells": [
  {
   "cell_type": "markdown",
   "metadata": {},
   "source": [
    "### Descriptive Statistics using Python\n",
    "\n",
    "Here, in this Python Jupyter Notebook I'm going to take a sample **[Attendance Data](./data/attendance_data.csv)**.\n",
    "\n",
    "Then I'll perform various _**Statistical (Descriptive) analysis**_ to show some interesting facts about the data.\n",
    "\n",
    "Attendance Data for 2 year to from APR14 - MAR16 is taken for the analysis to answer following questions:\n",
    "\n",
    "+ Average Working hours\n",
    "+ Longest and Shortes Working hours\n",
    "+ Total Working hours\n",
    "+ Total Working Days (Present)\n",
    "+ Vacation Days/Hours \n",
    "    + Holidays\n",
    "    + Earned Leaves\n",
    "    + Optional Holidays\n",
    "    + Weekends etc.\n",
    "\n"
   ]
  },
  {
   "cell_type": "markdown",
   "metadata": {},
   "source": [
    "### import libraries"
   ]
  },
  {
   "cell_type": "code",
   "execution_count": 1,
   "metadata": {},
   "outputs": [],
   "source": [
    "import pandas as pd\n",
    "import numpy as np\n",
    "import matplotlib.pyplot as plt"
   ]
  },
  {
   "cell_type": "markdown",
   "metadata": {},
   "source": [
    "### Read the dataset in a dataframe using Pandas    "
   ]
  },
  {
   "cell_type": "code",
   "execution_count": 2,
   "metadata": {
    "scrolled": false
   },
   "outputs": [],
   "source": [
    "df = pd.read_csv(\"./data/attendance_data.csv\", sep='\\n', delimiter=',', header=0, parse_dates=[0])"
   ]
  },
  {
   "cell_type": "markdown",
   "metadata": {},
   "source": [
    "### Print Data frame column names (headers)"
   ]
  },
  {
   "cell_type": "code",
   "execution_count": 3,
   "metadata": {},
   "outputs": [
    {
     "data": {
      "text/plain": [
       "array(['Date', 'Day', 'Status', 'In Time', 'Out Time', 'Total Hours',\n",
       "       'Total Attendance Hours', 'Total Time Sheet Hours',\n",
       "       'Attendance status implying leave debit'], dtype=object)"
      ]
     },
     "execution_count": 3,
     "metadata": {},
     "output_type": "execute_result"
    }
   ],
   "source": [
    "df.columns.values"
   ]
  },
  {
   "cell_type": "code",
   "execution_count": 4,
   "metadata": {},
   "outputs": [
    {
     "data": {
      "text/plain": [
       "9"
      ]
     },
     "execution_count": 4,
     "metadata": {},
     "output_type": "execute_result"
    }
   ],
   "source": [
    "len(df.columns.values)"
   ]
  },
  {
   "cell_type": "code",
   "execution_count": 5,
   "metadata": {},
   "outputs": [
    {
     "data": {
      "text/plain": [
       "731"
      ]
     },
     "execution_count": 5,
     "metadata": {},
     "output_type": "execute_result"
    }
   ],
   "source": [
    "len(df)"
   ]
  },
  {
   "cell_type": "code",
   "execution_count": 6,
   "metadata": {},
   "outputs": [
    {
     "data": {
      "text/plain": [
       "(731, 9)"
      ]
     },
     "execution_count": 6,
     "metadata": {},
     "output_type": "execute_result"
    }
   ],
   "source": [
    "df.shape # rows and columns"
   ]
  },
  {
   "cell_type": "code",
   "execution_count": 7,
   "metadata": {},
   "outputs": [
    {
     "data": {
      "text/html": [
       "<div>\n",
       "<style scoped>\n",
       "    .dataframe tbody tr th:only-of-type {\n",
       "        vertical-align: middle;\n",
       "    }\n",
       "\n",
       "    .dataframe tbody tr th {\n",
       "        vertical-align: top;\n",
       "    }\n",
       "\n",
       "    .dataframe thead th {\n",
       "        text-align: right;\n",
       "    }\n",
       "</style>\n",
       "<table border=\"1\" class=\"dataframe\">\n",
       "  <thead>\n",
       "    <tr style=\"text-align: right;\">\n",
       "      <th></th>\n",
       "      <th>Date</th>\n",
       "      <th>Day</th>\n",
       "      <th>Status</th>\n",
       "      <th>In Time</th>\n",
       "      <th>Out Time</th>\n",
       "      <th>Total Hours</th>\n",
       "      <th>Total Attendance Hours</th>\n",
       "      <th>Total Time Sheet Hours</th>\n",
       "      <th>Attendance status implying leave debit</th>\n",
       "    </tr>\n",
       "  </thead>\n",
       "  <tbody>\n",
       "    <tr>\n",
       "      <th>0</th>\n",
       "      <td>2014-04-01</td>\n",
       "      <td>Tuesday</td>\n",
       "      <td>Earned Leave</td>\n",
       "      <td>NaN</td>\n",
       "      <td>NaN</td>\n",
       "      <td>NaN</td>\n",
       "      <td>0.0</td>\n",
       "      <td>8:48</td>\n",
       "      <td>NaN</td>\n",
       "    </tr>\n",
       "    <tr>\n",
       "      <th>1</th>\n",
       "      <td>2014-04-02</td>\n",
       "      <td>Wednesday</td>\n",
       "      <td>Earned Leave</td>\n",
       "      <td>NaN</td>\n",
       "      <td>NaN</td>\n",
       "      <td>NaN</td>\n",
       "      <td>0.0</td>\n",
       "      <td>8:48</td>\n",
       "      <td>NaN</td>\n",
       "    </tr>\n",
       "    <tr>\n",
       "      <th>2</th>\n",
       "      <td>2014-04-03</td>\n",
       "      <td>Thursday</td>\n",
       "      <td>Earned Leave</td>\n",
       "      <td>NaN</td>\n",
       "      <td>NaN</td>\n",
       "      <td>NaN</td>\n",
       "      <td>0.0</td>\n",
       "      <td>8:48</td>\n",
       "      <td>NaN</td>\n",
       "    </tr>\n",
       "    <tr>\n",
       "      <th>3</th>\n",
       "      <td>2014-04-04</td>\n",
       "      <td>Friday</td>\n",
       "      <td>Earned Leave</td>\n",
       "      <td>NaN</td>\n",
       "      <td>NaN</td>\n",
       "      <td>NaN</td>\n",
       "      <td>0.0</td>\n",
       "      <td>8:48</td>\n",
       "      <td>NaN</td>\n",
       "    </tr>\n",
       "    <tr>\n",
       "      <th>4</th>\n",
       "      <td>2014-04-05</td>\n",
       "      <td>Saturday</td>\n",
       "      <td>Weekly Off</td>\n",
       "      <td>NaN</td>\n",
       "      <td>NaN</td>\n",
       "      <td>NaN</td>\n",
       "      <td>0.0</td>\n",
       "      <td>NaN</td>\n",
       "      <td>NaN</td>\n",
       "    </tr>\n",
       "    <tr>\n",
       "      <th>5</th>\n",
       "      <td>2014-04-06</td>\n",
       "      <td>Sunday</td>\n",
       "      <td>Weekly Off</td>\n",
       "      <td>NaN</td>\n",
       "      <td>NaN</td>\n",
       "      <td>NaN</td>\n",
       "      <td>0.0</td>\n",
       "      <td>NaN</td>\n",
       "      <td>NaN</td>\n",
       "    </tr>\n",
       "    <tr>\n",
       "      <th>6</th>\n",
       "      <td>2014-04-07</td>\n",
       "      <td>Monday</td>\n",
       "      <td>Earned Leave</td>\n",
       "      <td>NaN</td>\n",
       "      <td>NaN</td>\n",
       "      <td>NaN</td>\n",
       "      <td>0.0</td>\n",
       "      <td>8:48</td>\n",
       "      <td>NaN</td>\n",
       "    </tr>\n",
       "    <tr>\n",
       "      <th>7</th>\n",
       "      <td>2014-04-08</td>\n",
       "      <td>Tuesday</td>\n",
       "      <td>Present</td>\n",
       "      <td>12:36</td>\n",
       "      <td>19:48</td>\n",
       "      <td>7.2</td>\n",
       "      <td>7.2</td>\n",
       "      <td>NaN</td>\n",
       "      <td>No leave debit</td>\n",
       "    </tr>\n",
       "    <tr>\n",
       "      <th>8</th>\n",
       "      <td>2014-04-09</td>\n",
       "      <td>Wednesday</td>\n",
       "      <td>Present</td>\n",
       "      <td>9:10</td>\n",
       "      <td>19:58</td>\n",
       "      <td>10.8</td>\n",
       "      <td>10.8</td>\n",
       "      <td>NaN</td>\n",
       "      <td>No leave debit</td>\n",
       "    </tr>\n",
       "    <tr>\n",
       "      <th>9</th>\n",
       "      <td>2014-04-10</td>\n",
       "      <td>Thursday</td>\n",
       "      <td>Present</td>\n",
       "      <td>8:32</td>\n",
       "      <td>19:50</td>\n",
       "      <td>11.3</td>\n",
       "      <td>11.3</td>\n",
       "      <td>NaN</td>\n",
       "      <td>No leave debit</td>\n",
       "    </tr>\n",
       "  </tbody>\n",
       "</table>\n",
       "</div>"
      ],
      "text/plain": [
       "        Date        Day        Status In Time Out Time  Total Hours  \\\n",
       "0 2014-04-01    Tuesday  Earned Leave     NaN      NaN          NaN   \n",
       "1 2014-04-02  Wednesday  Earned Leave     NaN      NaN          NaN   \n",
       "2 2014-04-03   Thursday  Earned Leave     NaN      NaN          NaN   \n",
       "3 2014-04-04     Friday  Earned Leave     NaN      NaN          NaN   \n",
       "4 2014-04-05   Saturday    Weekly Off     NaN      NaN          NaN   \n",
       "5 2014-04-06     Sunday    Weekly Off     NaN      NaN          NaN   \n",
       "6 2014-04-07     Monday  Earned Leave     NaN      NaN          NaN   \n",
       "7 2014-04-08    Tuesday       Present   12:36    19:48          7.2   \n",
       "8 2014-04-09  Wednesday       Present    9:10    19:58         10.8   \n",
       "9 2014-04-10   Thursday       Present    8:32    19:50         11.3   \n",
       "\n",
       "   Total Attendance Hours Total Time Sheet Hours  \\\n",
       "0                     0.0                   8:48   \n",
       "1                     0.0                   8:48   \n",
       "2                     0.0                   8:48   \n",
       "3                     0.0                   8:48   \n",
       "4                     0.0                    NaN   \n",
       "5                     0.0                    NaN   \n",
       "6                     0.0                   8:48   \n",
       "7                     7.2                    NaN   \n",
       "8                    10.8                    NaN   \n",
       "9                    11.3                    NaN   \n",
       "\n",
       "  Attendance status implying leave debit  \n",
       "0                                    NaN  \n",
       "1                                    NaN  \n",
       "2                                    NaN  \n",
       "3                                    NaN  \n",
       "4                                    NaN  \n",
       "5                                    NaN  \n",
       "6                                    NaN  \n",
       "7                         No leave debit  \n",
       "8                         No leave debit  \n",
       "9                         No leave debit  "
      ]
     },
     "execution_count": 7,
     "metadata": {},
     "output_type": "execute_result"
    }
   ],
   "source": [
    "df.head(n=10)"
   ]
  },
  {
   "cell_type": "code",
   "execution_count": 8,
   "metadata": {},
   "outputs": [
    {
     "data": {
      "text/html": [
       "<div>\n",
       "<style scoped>\n",
       "    .dataframe tbody tr th:only-of-type {\n",
       "        vertical-align: middle;\n",
       "    }\n",
       "\n",
       "    .dataframe tbody tr th {\n",
       "        vertical-align: top;\n",
       "    }\n",
       "\n",
       "    .dataframe thead th {\n",
       "        text-align: right;\n",
       "    }\n",
       "</style>\n",
       "<table border=\"1\" class=\"dataframe\">\n",
       "  <thead>\n",
       "    <tr style=\"text-align: right;\">\n",
       "      <th></th>\n",
       "      <th>Date</th>\n",
       "      <th>Day</th>\n",
       "      <th>Status</th>\n",
       "      <th>In Time</th>\n",
       "      <th>Out Time</th>\n",
       "      <th>Total Hours</th>\n",
       "      <th>Total Attendance Hours</th>\n",
       "      <th>Total Time Sheet Hours</th>\n",
       "      <th>Attendance status implying leave debit</th>\n",
       "    </tr>\n",
       "  </thead>\n",
       "  <tbody>\n",
       "    <tr>\n",
       "      <th>721</th>\n",
       "      <td>2016-03-22</td>\n",
       "      <td>Tuesday</td>\n",
       "      <td>Present</td>\n",
       "      <td>7:46</td>\n",
       "      <td>19:29</td>\n",
       "      <td>11.72</td>\n",
       "      <td>11.72</td>\n",
       "      <td>NaN</td>\n",
       "      <td>No leave debit</td>\n",
       "    </tr>\n",
       "    <tr>\n",
       "      <th>722</th>\n",
       "      <td>2016-03-23</td>\n",
       "      <td>Wednesday</td>\n",
       "      <td>Present</td>\n",
       "      <td>8:13</td>\n",
       "      <td>18:12</td>\n",
       "      <td>9.98</td>\n",
       "      <td>9.98</td>\n",
       "      <td>NaN</td>\n",
       "      <td>No leave debit</td>\n",
       "    </tr>\n",
       "    <tr>\n",
       "      <th>723</th>\n",
       "      <td>2016-03-24</td>\n",
       "      <td>Thursday</td>\n",
       "      <td>Present</td>\n",
       "      <td>9:57</td>\n",
       "      <td>21:28</td>\n",
       "      <td>11.52</td>\n",
       "      <td>11.52</td>\n",
       "      <td>NaN</td>\n",
       "      <td>No leave debit</td>\n",
       "    </tr>\n",
       "    <tr>\n",
       "      <th>724</th>\n",
       "      <td>2016-03-25</td>\n",
       "      <td>Friday</td>\n",
       "      <td>Optional Holiday</td>\n",
       "      <td>NaN</td>\n",
       "      <td>NaN</td>\n",
       "      <td>NaN</td>\n",
       "      <td>0.00</td>\n",
       "      <td>NaN</td>\n",
       "      <td>NaN</td>\n",
       "    </tr>\n",
       "    <tr>\n",
       "      <th>725</th>\n",
       "      <td>2016-03-26</td>\n",
       "      <td>Saturday</td>\n",
       "      <td>Weekly Off</td>\n",
       "      <td>NaN</td>\n",
       "      <td>NaN</td>\n",
       "      <td>NaN</td>\n",
       "      <td>0.00</td>\n",
       "      <td>NaN</td>\n",
       "      <td>NaN</td>\n",
       "    </tr>\n",
       "    <tr>\n",
       "      <th>726</th>\n",
       "      <td>2016-03-27</td>\n",
       "      <td>Sunday</td>\n",
       "      <td>Weekly Off</td>\n",
       "      <td>NaN</td>\n",
       "      <td>NaN</td>\n",
       "      <td>NaN</td>\n",
       "      <td>0.00</td>\n",
       "      <td>NaN</td>\n",
       "      <td>NaN</td>\n",
       "    </tr>\n",
       "    <tr>\n",
       "      <th>727</th>\n",
       "      <td>2016-03-28</td>\n",
       "      <td>Monday</td>\n",
       "      <td>Present</td>\n",
       "      <td>10:23</td>\n",
       "      <td>17:45</td>\n",
       "      <td>7.37</td>\n",
       "      <td>7.37</td>\n",
       "      <td>NaN</td>\n",
       "      <td>No leave debit</td>\n",
       "    </tr>\n",
       "    <tr>\n",
       "      <th>728</th>\n",
       "      <td>2016-03-29</td>\n",
       "      <td>Tuesday</td>\n",
       "      <td>Present</td>\n",
       "      <td>8:06</td>\n",
       "      <td>19:58</td>\n",
       "      <td>11.87</td>\n",
       "      <td>11.87</td>\n",
       "      <td>NaN</td>\n",
       "      <td>No leave debit</td>\n",
       "    </tr>\n",
       "    <tr>\n",
       "      <th>729</th>\n",
       "      <td>2016-03-30</td>\n",
       "      <td>Wednesday</td>\n",
       "      <td>Present</td>\n",
       "      <td>8:55</td>\n",
       "      <td>18:14</td>\n",
       "      <td>9.32</td>\n",
       "      <td>9.32</td>\n",
       "      <td>NaN</td>\n",
       "      <td>No leave debit</td>\n",
       "    </tr>\n",
       "    <tr>\n",
       "      <th>730</th>\n",
       "      <td>2016-03-31</td>\n",
       "      <td>Thursday</td>\n",
       "      <td>Present</td>\n",
       "      <td>8:58</td>\n",
       "      <td>21:34</td>\n",
       "      <td>12.60</td>\n",
       "      <td>12.60</td>\n",
       "      <td>NaN</td>\n",
       "      <td>No leave debit</td>\n",
       "    </tr>\n",
       "  </tbody>\n",
       "</table>\n",
       "</div>"
      ],
      "text/plain": [
       "          Date        Day            Status In Time Out Time  Total Hours  \\\n",
       "721 2016-03-22    Tuesday           Present    7:46    19:29        11.72   \n",
       "722 2016-03-23  Wednesday           Present    8:13    18:12         9.98   \n",
       "723 2016-03-24   Thursday           Present    9:57    21:28        11.52   \n",
       "724 2016-03-25     Friday  Optional Holiday     NaN      NaN          NaN   \n",
       "725 2016-03-26   Saturday        Weekly Off     NaN      NaN          NaN   \n",
       "726 2016-03-27     Sunday        Weekly Off     NaN      NaN          NaN   \n",
       "727 2016-03-28     Monday           Present   10:23    17:45         7.37   \n",
       "728 2016-03-29    Tuesday           Present    8:06    19:58        11.87   \n",
       "729 2016-03-30  Wednesday           Present    8:55    18:14         9.32   \n",
       "730 2016-03-31   Thursday           Present    8:58    21:34        12.60   \n",
       "\n",
       "     Total Attendance Hours Total Time Sheet Hours  \\\n",
       "721                   11.72                    NaN   \n",
       "722                    9.98                    NaN   \n",
       "723                   11.52                    NaN   \n",
       "724                    0.00                    NaN   \n",
       "725                    0.00                    NaN   \n",
       "726                    0.00                    NaN   \n",
       "727                    7.37                    NaN   \n",
       "728                   11.87                    NaN   \n",
       "729                    9.32                    NaN   \n",
       "730                   12.60                    NaN   \n",
       "\n",
       "    Attendance status implying leave debit  \n",
       "721                         No leave debit  \n",
       "722                         No leave debit  \n",
       "723                         No leave debit  \n",
       "724                                    NaN  \n",
       "725                                    NaN  \n",
       "726                                    NaN  \n",
       "727                         No leave debit  \n",
       "728                         No leave debit  \n",
       "729                         No leave debit  \n",
       "730                         No leave debit  "
      ]
     },
     "execution_count": 8,
     "metadata": {},
     "output_type": "execute_result"
    }
   ],
   "source": [
    "df.tail(n=10)"
   ]
  },
  {
   "cell_type": "markdown",
   "metadata": {},
   "source": [
    "### Check for missing values"
   ]
  },
  {
   "cell_type": "code",
   "execution_count": 9,
   "metadata": {},
   "outputs": [
    {
     "data": {
      "text/plain": [
       "Date                                        0\n",
       "Day                                         0\n",
       "Status                                      0\n",
       "In Time                                   226\n",
       "Out Time                                  226\n",
       "Total Hours                               227\n",
       "Total Attendance Hours                      0\n",
       "Total Time Sheet Hours                    513\n",
       "Attendance status implying leave debit    268\n",
       "dtype: int64"
      ]
     },
     "execution_count": 9,
     "metadata": {},
     "output_type": "execute_result"
    }
   ],
   "source": [
    "df.apply(lambda x: sum(x.isnull()),axis=0) "
   ]
  },
  {
   "cell_type": "markdown",
   "metadata": {},
   "source": [
    "### Drop data frame columns"
   ]
  },
  {
   "cell_type": "code",
   "execution_count": 10,
   "metadata": {},
   "outputs": [
    {
     "data": {
      "text/plain": [
       "Index(['Date', 'Day', 'Status', 'In Time', 'Out Time',\n",
       "       'Total Attendance Hours', 'Attendance status implying leave debit'],\n",
       "      dtype='object')"
      ]
     },
     "execution_count": 10,
     "metadata": {},
     "output_type": "execute_result"
    }
   ],
   "source": [
    "del df[\"Total Time Sheet Hours\"]\n",
    "del df[\"Total Hours\"]\n",
    "df.columns"
   ]
  },
  {
   "cell_type": "code",
   "execution_count": 11,
   "metadata": {},
   "outputs": [
    {
     "data": {
      "text/html": [
       "<div>\n",
       "<style scoped>\n",
       "    .dataframe tbody tr th:only-of-type {\n",
       "        vertical-align: middle;\n",
       "    }\n",
       "\n",
       "    .dataframe tbody tr th {\n",
       "        vertical-align: top;\n",
       "    }\n",
       "\n",
       "    .dataframe thead th {\n",
       "        text-align: right;\n",
       "    }\n",
       "</style>\n",
       "<table border=\"1\" class=\"dataframe\">\n",
       "  <thead>\n",
       "    <tr style=\"text-align: right;\">\n",
       "      <th></th>\n",
       "      <th>Date</th>\n",
       "      <th>Day</th>\n",
       "      <th>Status</th>\n",
       "      <th>In Time</th>\n",
       "      <th>Out Time</th>\n",
       "      <th>Total Attendance Hours</th>\n",
       "      <th>Attendance status implying leave debit</th>\n",
       "    </tr>\n",
       "  </thead>\n",
       "  <tbody>\n",
       "    <tr>\n",
       "      <th>0</th>\n",
       "      <td>2014-04-01</td>\n",
       "      <td>Tuesday</td>\n",
       "      <td>Earned Leave</td>\n",
       "      <td>NaN</td>\n",
       "      <td>NaN</td>\n",
       "      <td>0.0</td>\n",
       "      <td>NaN</td>\n",
       "    </tr>\n",
       "    <tr>\n",
       "      <th>1</th>\n",
       "      <td>2014-04-02</td>\n",
       "      <td>Wednesday</td>\n",
       "      <td>Earned Leave</td>\n",
       "      <td>NaN</td>\n",
       "      <td>NaN</td>\n",
       "      <td>0.0</td>\n",
       "      <td>NaN</td>\n",
       "    </tr>\n",
       "    <tr>\n",
       "      <th>2</th>\n",
       "      <td>2014-04-03</td>\n",
       "      <td>Thursday</td>\n",
       "      <td>Earned Leave</td>\n",
       "      <td>NaN</td>\n",
       "      <td>NaN</td>\n",
       "      <td>0.0</td>\n",
       "      <td>NaN</td>\n",
       "    </tr>\n",
       "    <tr>\n",
       "      <th>3</th>\n",
       "      <td>2014-04-04</td>\n",
       "      <td>Friday</td>\n",
       "      <td>Earned Leave</td>\n",
       "      <td>NaN</td>\n",
       "      <td>NaN</td>\n",
       "      <td>0.0</td>\n",
       "      <td>NaN</td>\n",
       "    </tr>\n",
       "    <tr>\n",
       "      <th>4</th>\n",
       "      <td>2014-04-05</td>\n",
       "      <td>Saturday</td>\n",
       "      <td>Weekly Off</td>\n",
       "      <td>NaN</td>\n",
       "      <td>NaN</td>\n",
       "      <td>0.0</td>\n",
       "      <td>NaN</td>\n",
       "    </tr>\n",
       "    <tr>\n",
       "      <th>5</th>\n",
       "      <td>2014-04-06</td>\n",
       "      <td>Sunday</td>\n",
       "      <td>Weekly Off</td>\n",
       "      <td>NaN</td>\n",
       "      <td>NaN</td>\n",
       "      <td>0.0</td>\n",
       "      <td>NaN</td>\n",
       "    </tr>\n",
       "    <tr>\n",
       "      <th>6</th>\n",
       "      <td>2014-04-07</td>\n",
       "      <td>Monday</td>\n",
       "      <td>Earned Leave</td>\n",
       "      <td>NaN</td>\n",
       "      <td>NaN</td>\n",
       "      <td>0.0</td>\n",
       "      <td>NaN</td>\n",
       "    </tr>\n",
       "    <tr>\n",
       "      <th>7</th>\n",
       "      <td>2014-04-08</td>\n",
       "      <td>Tuesday</td>\n",
       "      <td>Present</td>\n",
       "      <td>12:36</td>\n",
       "      <td>19:48</td>\n",
       "      <td>7.2</td>\n",
       "      <td>No leave debit</td>\n",
       "    </tr>\n",
       "    <tr>\n",
       "      <th>8</th>\n",
       "      <td>2014-04-09</td>\n",
       "      <td>Wednesday</td>\n",
       "      <td>Present</td>\n",
       "      <td>9:10</td>\n",
       "      <td>19:58</td>\n",
       "      <td>10.8</td>\n",
       "      <td>No leave debit</td>\n",
       "    </tr>\n",
       "    <tr>\n",
       "      <th>9</th>\n",
       "      <td>2014-04-10</td>\n",
       "      <td>Thursday</td>\n",
       "      <td>Present</td>\n",
       "      <td>8:32</td>\n",
       "      <td>19:50</td>\n",
       "      <td>11.3</td>\n",
       "      <td>No leave debit</td>\n",
       "    </tr>\n",
       "  </tbody>\n",
       "</table>\n",
       "</div>"
      ],
      "text/plain": [
       "        Date        Day        Status In Time Out Time  \\\n",
       "0 2014-04-01    Tuesday  Earned Leave     NaN      NaN   \n",
       "1 2014-04-02  Wednesday  Earned Leave     NaN      NaN   \n",
       "2 2014-04-03   Thursday  Earned Leave     NaN      NaN   \n",
       "3 2014-04-04     Friday  Earned Leave     NaN      NaN   \n",
       "4 2014-04-05   Saturday    Weekly Off     NaN      NaN   \n",
       "5 2014-04-06     Sunday    Weekly Off     NaN      NaN   \n",
       "6 2014-04-07     Monday  Earned Leave     NaN      NaN   \n",
       "7 2014-04-08    Tuesday       Present   12:36    19:48   \n",
       "8 2014-04-09  Wednesday       Present    9:10    19:58   \n",
       "9 2014-04-10   Thursday       Present    8:32    19:50   \n",
       "\n",
       "   Total Attendance Hours Attendance status implying leave debit  \n",
       "0                     0.0                                    NaN  \n",
       "1                     0.0                                    NaN  \n",
       "2                     0.0                                    NaN  \n",
       "3                     0.0                                    NaN  \n",
       "4                     0.0                                    NaN  \n",
       "5                     0.0                                    NaN  \n",
       "6                     0.0                                    NaN  \n",
       "7                     7.2                         No leave debit  \n",
       "8                    10.8                         No leave debit  \n",
       "9                    11.3                         No leave debit  "
      ]
     },
     "execution_count": 11,
     "metadata": {},
     "output_type": "execute_result"
    }
   ],
   "source": [
    "df.head(10)"
   ]
  },
  {
   "cell_type": "markdown",
   "metadata": {},
   "source": [
    "### Rename columns"
   ]
  },
  {
   "cell_type": "code",
   "execution_count": 12,
   "metadata": {},
   "outputs": [
    {
     "data": {
      "text/html": [
       "<div>\n",
       "<style scoped>\n",
       "    .dataframe tbody tr th:only-of-type {\n",
       "        vertical-align: middle;\n",
       "    }\n",
       "\n",
       "    .dataframe tbody tr th {\n",
       "        vertical-align: top;\n",
       "    }\n",
       "\n",
       "    .dataframe thead th {\n",
       "        text-align: right;\n",
       "    }\n",
       "</style>\n",
       "<table border=\"1\" class=\"dataframe\">\n",
       "  <thead>\n",
       "    <tr style=\"text-align: right;\">\n",
       "      <th></th>\n",
       "      <th>Date</th>\n",
       "      <th>Day</th>\n",
       "      <th>Status</th>\n",
       "      <th>In Time</th>\n",
       "      <th>Out Time</th>\n",
       "      <th>Total Hours</th>\n",
       "      <th>Attendance status</th>\n",
       "    </tr>\n",
       "  </thead>\n",
       "  <tbody>\n",
       "    <tr>\n",
       "      <th>0</th>\n",
       "      <td>2014-04-01</td>\n",
       "      <td>Tuesday</td>\n",
       "      <td>Earned Leave</td>\n",
       "      <td>NaN</td>\n",
       "      <td>NaN</td>\n",
       "      <td>0.0</td>\n",
       "      <td>NaN</td>\n",
       "    </tr>\n",
       "    <tr>\n",
       "      <th>1</th>\n",
       "      <td>2014-04-02</td>\n",
       "      <td>Wednesday</td>\n",
       "      <td>Earned Leave</td>\n",
       "      <td>NaN</td>\n",
       "      <td>NaN</td>\n",
       "      <td>0.0</td>\n",
       "      <td>NaN</td>\n",
       "    </tr>\n",
       "    <tr>\n",
       "      <th>2</th>\n",
       "      <td>2014-04-03</td>\n",
       "      <td>Thursday</td>\n",
       "      <td>Earned Leave</td>\n",
       "      <td>NaN</td>\n",
       "      <td>NaN</td>\n",
       "      <td>0.0</td>\n",
       "      <td>NaN</td>\n",
       "    </tr>\n",
       "    <tr>\n",
       "      <th>3</th>\n",
       "      <td>2014-04-04</td>\n",
       "      <td>Friday</td>\n",
       "      <td>Earned Leave</td>\n",
       "      <td>NaN</td>\n",
       "      <td>NaN</td>\n",
       "      <td>0.0</td>\n",
       "      <td>NaN</td>\n",
       "    </tr>\n",
       "    <tr>\n",
       "      <th>4</th>\n",
       "      <td>2014-04-05</td>\n",
       "      <td>Saturday</td>\n",
       "      <td>Weekly Off</td>\n",
       "      <td>NaN</td>\n",
       "      <td>NaN</td>\n",
       "      <td>0.0</td>\n",
       "      <td>NaN</td>\n",
       "    </tr>\n",
       "    <tr>\n",
       "      <th>5</th>\n",
       "      <td>2014-04-06</td>\n",
       "      <td>Sunday</td>\n",
       "      <td>Weekly Off</td>\n",
       "      <td>NaN</td>\n",
       "      <td>NaN</td>\n",
       "      <td>0.0</td>\n",
       "      <td>NaN</td>\n",
       "    </tr>\n",
       "    <tr>\n",
       "      <th>6</th>\n",
       "      <td>2014-04-07</td>\n",
       "      <td>Monday</td>\n",
       "      <td>Earned Leave</td>\n",
       "      <td>NaN</td>\n",
       "      <td>NaN</td>\n",
       "      <td>0.0</td>\n",
       "      <td>NaN</td>\n",
       "    </tr>\n",
       "    <tr>\n",
       "      <th>7</th>\n",
       "      <td>2014-04-08</td>\n",
       "      <td>Tuesday</td>\n",
       "      <td>Present</td>\n",
       "      <td>12:36</td>\n",
       "      <td>19:48</td>\n",
       "      <td>7.2</td>\n",
       "      <td>No leave debit</td>\n",
       "    </tr>\n",
       "    <tr>\n",
       "      <th>8</th>\n",
       "      <td>2014-04-09</td>\n",
       "      <td>Wednesday</td>\n",
       "      <td>Present</td>\n",
       "      <td>9:10</td>\n",
       "      <td>19:58</td>\n",
       "      <td>10.8</td>\n",
       "      <td>No leave debit</td>\n",
       "    </tr>\n",
       "    <tr>\n",
       "      <th>9</th>\n",
       "      <td>2014-04-10</td>\n",
       "      <td>Thursday</td>\n",
       "      <td>Present</td>\n",
       "      <td>8:32</td>\n",
       "      <td>19:50</td>\n",
       "      <td>11.3</td>\n",
       "      <td>No leave debit</td>\n",
       "    </tr>\n",
       "  </tbody>\n",
       "</table>\n",
       "</div>"
      ],
      "text/plain": [
       "        Date        Day        Status In Time Out Time  Total Hours  \\\n",
       "0 2014-04-01    Tuesday  Earned Leave     NaN      NaN          0.0   \n",
       "1 2014-04-02  Wednesday  Earned Leave     NaN      NaN          0.0   \n",
       "2 2014-04-03   Thursday  Earned Leave     NaN      NaN          0.0   \n",
       "3 2014-04-04     Friday  Earned Leave     NaN      NaN          0.0   \n",
       "4 2014-04-05   Saturday    Weekly Off     NaN      NaN          0.0   \n",
       "5 2014-04-06     Sunday    Weekly Off     NaN      NaN          0.0   \n",
       "6 2014-04-07     Monday  Earned Leave     NaN      NaN          0.0   \n",
       "7 2014-04-08    Tuesday       Present   12:36    19:48          7.2   \n",
       "8 2014-04-09  Wednesday       Present    9:10    19:58         10.8   \n",
       "9 2014-04-10   Thursday       Present    8:32    19:50         11.3   \n",
       "\n",
       "  Attendance status  \n",
       "0               NaN  \n",
       "1               NaN  \n",
       "2               NaN  \n",
       "3               NaN  \n",
       "4               NaN  \n",
       "5               NaN  \n",
       "6               NaN  \n",
       "7    No leave debit  \n",
       "8    No leave debit  \n",
       "9    No leave debit  "
      ]
     },
     "execution_count": 12,
     "metadata": {},
     "output_type": "execute_result"
    }
   ],
   "source": [
    "df = df.rename(index=str, \n",
    "          columns={\"Total Attendance Hours\" : \"Total Hours\", \n",
    "                   \"Attendance status implying leave debit\" : \"Attendance status\"})\n",
    "df.head(10)"
   ]
  },
  {
   "cell_type": "markdown",
   "metadata": {},
   "source": [
    "### Fill missing data"
   ]
  },
  {
   "cell_type": "code",
   "execution_count": 13,
   "metadata": {},
   "outputs": [
    {
     "data": {
      "text/html": [
       "<div>\n",
       "<style scoped>\n",
       "    .dataframe tbody tr th:only-of-type {\n",
       "        vertical-align: middle;\n",
       "    }\n",
       "\n",
       "    .dataframe tbody tr th {\n",
       "        vertical-align: top;\n",
       "    }\n",
       "\n",
       "    .dataframe thead th {\n",
       "        text-align: right;\n",
       "    }\n",
       "</style>\n",
       "<table border=\"1\" class=\"dataframe\">\n",
       "  <thead>\n",
       "    <tr style=\"text-align: right;\">\n",
       "      <th></th>\n",
       "      <th>Date</th>\n",
       "      <th>Day</th>\n",
       "      <th>Status</th>\n",
       "      <th>In Time</th>\n",
       "      <th>Out Time</th>\n",
       "      <th>Total Hours</th>\n",
       "      <th>Attendance status</th>\n",
       "    </tr>\n",
       "  </thead>\n",
       "  <tbody>\n",
       "    <tr>\n",
       "      <th>0</th>\n",
       "      <td>2014-04-01</td>\n",
       "      <td>Tuesday</td>\n",
       "      <td>Earned Leave</td>\n",
       "      <td>0</td>\n",
       "      <td>0</td>\n",
       "      <td>0.0</td>\n",
       "      <td>NaN</td>\n",
       "    </tr>\n",
       "    <tr>\n",
       "      <th>1</th>\n",
       "      <td>2014-04-02</td>\n",
       "      <td>Wednesday</td>\n",
       "      <td>Earned Leave</td>\n",
       "      <td>0</td>\n",
       "      <td>0</td>\n",
       "      <td>0.0</td>\n",
       "      <td>NaN</td>\n",
       "    </tr>\n",
       "    <tr>\n",
       "      <th>2</th>\n",
       "      <td>2014-04-03</td>\n",
       "      <td>Thursday</td>\n",
       "      <td>Earned Leave</td>\n",
       "      <td>0</td>\n",
       "      <td>0</td>\n",
       "      <td>0.0</td>\n",
       "      <td>NaN</td>\n",
       "    </tr>\n",
       "    <tr>\n",
       "      <th>3</th>\n",
       "      <td>2014-04-04</td>\n",
       "      <td>Friday</td>\n",
       "      <td>Earned Leave</td>\n",
       "      <td>0</td>\n",
       "      <td>0</td>\n",
       "      <td>0.0</td>\n",
       "      <td>NaN</td>\n",
       "    </tr>\n",
       "    <tr>\n",
       "      <th>4</th>\n",
       "      <td>2014-04-05</td>\n",
       "      <td>Saturday</td>\n",
       "      <td>Weekly Off</td>\n",
       "      <td>0</td>\n",
       "      <td>0</td>\n",
       "      <td>0.0</td>\n",
       "      <td>NaN</td>\n",
       "    </tr>\n",
       "    <tr>\n",
       "      <th>5</th>\n",
       "      <td>2014-04-06</td>\n",
       "      <td>Sunday</td>\n",
       "      <td>Weekly Off</td>\n",
       "      <td>0</td>\n",
       "      <td>0</td>\n",
       "      <td>0.0</td>\n",
       "      <td>NaN</td>\n",
       "    </tr>\n",
       "    <tr>\n",
       "      <th>6</th>\n",
       "      <td>2014-04-07</td>\n",
       "      <td>Monday</td>\n",
       "      <td>Earned Leave</td>\n",
       "      <td>0</td>\n",
       "      <td>0</td>\n",
       "      <td>0.0</td>\n",
       "      <td>NaN</td>\n",
       "    </tr>\n",
       "    <tr>\n",
       "      <th>7</th>\n",
       "      <td>2014-04-08</td>\n",
       "      <td>Tuesday</td>\n",
       "      <td>Present</td>\n",
       "      <td>12:36</td>\n",
       "      <td>19:48</td>\n",
       "      <td>7.2</td>\n",
       "      <td>No leave debit</td>\n",
       "    </tr>\n",
       "    <tr>\n",
       "      <th>8</th>\n",
       "      <td>2014-04-09</td>\n",
       "      <td>Wednesday</td>\n",
       "      <td>Present</td>\n",
       "      <td>9:10</td>\n",
       "      <td>19:58</td>\n",
       "      <td>10.8</td>\n",
       "      <td>No leave debit</td>\n",
       "    </tr>\n",
       "    <tr>\n",
       "      <th>9</th>\n",
       "      <td>2014-04-10</td>\n",
       "      <td>Thursday</td>\n",
       "      <td>Present</td>\n",
       "      <td>8:32</td>\n",
       "      <td>19:50</td>\n",
       "      <td>11.3</td>\n",
       "      <td>No leave debit</td>\n",
       "    </tr>\n",
       "  </tbody>\n",
       "</table>\n",
       "</div>"
      ],
      "text/plain": [
       "        Date        Day        Status In Time Out Time  Total Hours  \\\n",
       "0 2014-04-01    Tuesday  Earned Leave       0        0          0.0   \n",
       "1 2014-04-02  Wednesday  Earned Leave       0        0          0.0   \n",
       "2 2014-04-03   Thursday  Earned Leave       0        0          0.0   \n",
       "3 2014-04-04     Friday  Earned Leave       0        0          0.0   \n",
       "4 2014-04-05   Saturday    Weekly Off       0        0          0.0   \n",
       "5 2014-04-06     Sunday    Weekly Off       0        0          0.0   \n",
       "6 2014-04-07     Monday  Earned Leave       0        0          0.0   \n",
       "7 2014-04-08    Tuesday       Present   12:36    19:48          7.2   \n",
       "8 2014-04-09  Wednesday       Present    9:10    19:58         10.8   \n",
       "9 2014-04-10   Thursday       Present    8:32    19:50         11.3   \n",
       "\n",
       "  Attendance status  \n",
       "0               NaN  \n",
       "1               NaN  \n",
       "2               NaN  \n",
       "3               NaN  \n",
       "4               NaN  \n",
       "5               NaN  \n",
       "6               NaN  \n",
       "7    No leave debit  \n",
       "8    No leave debit  \n",
       "9    No leave debit  "
      ]
     },
     "execution_count": 13,
     "metadata": {},
     "output_type": "execute_result"
    }
   ],
   "source": [
    "df[\"In Time\"].fillna(0, inplace=True)\n",
    "df[\"Out Time\"].fillna(0, inplace=True)\n",
    "df.head(n=10)"
   ]
  },
  {
   "cell_type": "markdown",
   "metadata": {},
   "source": [
    "### Filtering records"
   ]
  },
  {
   "cell_type": "code",
   "execution_count": 14,
   "metadata": {},
   "outputs": [
    {
     "data": {
      "text/html": [
       "<div>\n",
       "<style scoped>\n",
       "    .dataframe tbody tr th:only-of-type {\n",
       "        vertical-align: middle;\n",
       "    }\n",
       "\n",
       "    .dataframe tbody tr th {\n",
       "        vertical-align: top;\n",
       "    }\n",
       "\n",
       "    .dataframe thead th {\n",
       "        text-align: right;\n",
       "    }\n",
       "</style>\n",
       "<table border=\"1\" class=\"dataframe\">\n",
       "  <thead>\n",
       "    <tr style=\"text-align: right;\">\n",
       "      <th></th>\n",
       "      <th>Date</th>\n",
       "      <th>Day</th>\n",
       "      <th>Status</th>\n",
       "      <th>In Time</th>\n",
       "      <th>Out Time</th>\n",
       "      <th>Total Hours</th>\n",
       "      <th>Attendance status</th>\n",
       "    </tr>\n",
       "  </thead>\n",
       "  <tbody>\n",
       "    <tr>\n",
       "      <th>7</th>\n",
       "      <td>2014-04-08</td>\n",
       "      <td>Tuesday</td>\n",
       "      <td>Present</td>\n",
       "      <td>12:36</td>\n",
       "      <td>19:48</td>\n",
       "      <td>7.20</td>\n",
       "      <td>No leave debit</td>\n",
       "    </tr>\n",
       "    <tr>\n",
       "      <th>8</th>\n",
       "      <td>2014-04-09</td>\n",
       "      <td>Wednesday</td>\n",
       "      <td>Present</td>\n",
       "      <td>9:10</td>\n",
       "      <td>19:58</td>\n",
       "      <td>10.80</td>\n",
       "      <td>No leave debit</td>\n",
       "    </tr>\n",
       "    <tr>\n",
       "      <th>9</th>\n",
       "      <td>2014-04-10</td>\n",
       "      <td>Thursday</td>\n",
       "      <td>Present</td>\n",
       "      <td>8:32</td>\n",
       "      <td>19:50</td>\n",
       "      <td>11.30</td>\n",
       "      <td>No leave debit</td>\n",
       "    </tr>\n",
       "    <tr>\n",
       "      <th>10</th>\n",
       "      <td>2014-04-11</td>\n",
       "      <td>Friday</td>\n",
       "      <td>Present</td>\n",
       "      <td>10:18</td>\n",
       "      <td>18:18</td>\n",
       "      <td>8.00</td>\n",
       "      <td>No leave debit</td>\n",
       "    </tr>\n",
       "    <tr>\n",
       "      <th>11</th>\n",
       "      <td>2014-04-12</td>\n",
       "      <td>Saturday</td>\n",
       "      <td>Weekly Off</td>\n",
       "      <td>9:44</td>\n",
       "      <td>10:47</td>\n",
       "      <td>1.05</td>\n",
       "      <td>NaN</td>\n",
       "    </tr>\n",
       "    <tr>\n",
       "      <th>13</th>\n",
       "      <td>2014-04-14</td>\n",
       "      <td>Monday</td>\n",
       "      <td>Present</td>\n",
       "      <td>8:24</td>\n",
       "      <td>19:57</td>\n",
       "      <td>11.55</td>\n",
       "      <td>No leave debit</td>\n",
       "    </tr>\n",
       "    <tr>\n",
       "      <th>14</th>\n",
       "      <td>2014-04-15</td>\n",
       "      <td>Tuesday</td>\n",
       "      <td>Present</td>\n",
       "      <td>9:20</td>\n",
       "      <td>19:27</td>\n",
       "      <td>10.12</td>\n",
       "      <td>No leave debit</td>\n",
       "    </tr>\n",
       "    <tr>\n",
       "      <th>15</th>\n",
       "      <td>2014-04-16</td>\n",
       "      <td>Wednesday</td>\n",
       "      <td>Present</td>\n",
       "      <td>9:07</td>\n",
       "      <td>19:55</td>\n",
       "      <td>10.80</td>\n",
       "      <td>No leave debit</td>\n",
       "    </tr>\n",
       "    <tr>\n",
       "      <th>16</th>\n",
       "      <td>2014-04-17</td>\n",
       "      <td>Thursday</td>\n",
       "      <td>Present</td>\n",
       "      <td>9:08</td>\n",
       "      <td>18:20</td>\n",
       "      <td>9.20</td>\n",
       "      <td>No leave debit</td>\n",
       "    </tr>\n",
       "    <tr>\n",
       "      <th>17</th>\n",
       "      <td>2014-04-18</td>\n",
       "      <td>Friday</td>\n",
       "      <td>Present</td>\n",
       "      <td>8:51</td>\n",
       "      <td>20:54</td>\n",
       "      <td>12.05</td>\n",
       "      <td>No leave debit</td>\n",
       "    </tr>\n",
       "  </tbody>\n",
       "</table>\n",
       "</div>"
      ],
      "text/plain": [
       "         Date        Day      Status In Time Out Time  Total Hours  \\\n",
       "7  2014-04-08    Tuesday     Present   12:36    19:48         7.20   \n",
       "8  2014-04-09  Wednesday     Present    9:10    19:58        10.80   \n",
       "9  2014-04-10   Thursday     Present    8:32    19:50        11.30   \n",
       "10 2014-04-11     Friday     Present   10:18    18:18         8.00   \n",
       "11 2014-04-12   Saturday  Weekly Off    9:44    10:47         1.05   \n",
       "13 2014-04-14     Monday     Present    8:24    19:57        11.55   \n",
       "14 2014-04-15    Tuesday     Present    9:20    19:27        10.12   \n",
       "15 2014-04-16  Wednesday     Present    9:07    19:55        10.80   \n",
       "16 2014-04-17   Thursday     Present    9:08    18:20         9.20   \n",
       "17 2014-04-18     Friday     Present    8:51    20:54        12.05   \n",
       "\n",
       "   Attendance status  \n",
       "7     No leave debit  \n",
       "8     No leave debit  \n",
       "9     No leave debit  \n",
       "10    No leave debit  \n",
       "11               NaN  \n",
       "13    No leave debit  \n",
       "14    No leave debit  \n",
       "15    No leave debit  \n",
       "16    No leave debit  \n",
       "17    No leave debit  "
      ]
     },
     "execution_count": 14,
     "metadata": {},
     "output_type": "execute_result"
    }
   ],
   "source": [
    "non_zero_total_hrs = (df[\"Total Hours\"] > 0.0)\n",
    "\n",
    "df_non_zero_total_hrs = df[non_zero_total_hrs]\n",
    "\n",
    "df_non_zero_total_hrs.head(10)"
   ]
  },
  {
   "cell_type": "markdown",
   "metadata": {},
   "source": [
    "### Get Summary of Data"
   ]
  },
  {
   "cell_type": "code",
   "execution_count": 15,
   "metadata": {},
   "outputs": [
    {
     "data": {
      "text/plain": [
       "Thursday     105\n",
       "Wednesday    105\n",
       "Tuesday      105\n",
       "Sunday       104\n",
       "Saturday     104\n",
       "Monday       104\n",
       "Friday       104\n",
       "Name: Day, dtype: int64"
      ]
     },
     "execution_count": 15,
     "metadata": {},
     "output_type": "execute_result"
    }
   ],
   "source": [
    "df[\"Day\"].value_counts()"
   ]
  },
  {
   "cell_type": "code",
   "execution_count": 16,
   "metadata": {},
   "outputs": [
    {
     "data": {
      "text/plain": [
       "731"
      ]
     },
     "execution_count": 16,
     "metadata": {},
     "output_type": "execute_result"
    }
   ],
   "source": [
    "df[\"Day\"].value_counts().sum()"
   ]
  },
  {
   "cell_type": "code",
   "execution_count": 17,
   "metadata": {},
   "outputs": [
    {
     "data": {
      "text/plain": [
       "Present             463\n",
       "Weekly Off          207\n",
       "Earned Leave         39\n",
       "Holiday              21\n",
       "Optional Holiday      1\n",
       "Name: Status, dtype: int64"
      ]
     },
     "execution_count": 17,
     "metadata": {},
     "output_type": "execute_result"
    }
   ],
   "source": [
    "df[\"Status\"].value_counts()"
   ]
  },
  {
   "cell_type": "code",
   "execution_count": 18,
   "metadata": {},
   "outputs": [
    {
     "data": {
      "text/plain": [
       "731"
      ]
     },
     "execution_count": 18,
     "metadata": {},
     "output_type": "execute_result"
    }
   ],
   "source": [
    "df[\"Status\"].value_counts().sum()"
   ]
  },
  {
   "cell_type": "code",
   "execution_count": 19,
   "metadata": {},
   "outputs": [
    {
     "data": {
      "text/plain": [
       "No leave debit    463\n",
       "Name: Attendance status, dtype: int64"
      ]
     },
     "execution_count": 19,
     "metadata": {},
     "output_type": "execute_result"
    }
   ],
   "source": [
    "df[\"Attendance status\"].value_counts()"
   ]
  },
  {
   "cell_type": "code",
   "execution_count": 20,
   "metadata": {},
   "outputs": [
    {
     "data": {
      "text/plain": [
       "463"
      ]
     },
     "execution_count": 20,
     "metadata": {},
     "output_type": "execute_result"
    }
   ],
   "source": [
    "df[\"Attendance status\"].value_counts().sum()"
   ]
  },
  {
   "cell_type": "code",
   "execution_count": 21,
   "metadata": {},
   "outputs": [
    {
     "data": {
      "text/html": [
       "<div>\n",
       "<style scoped>\n",
       "    .dataframe tbody tr th:only-of-type {\n",
       "        vertical-align: middle;\n",
       "    }\n",
       "\n",
       "    .dataframe tbody tr th {\n",
       "        vertical-align: top;\n",
       "    }\n",
       "\n",
       "    .dataframe thead th {\n",
       "        text-align: right;\n",
       "    }\n",
       "</style>\n",
       "<table border=\"1\" class=\"dataframe\">\n",
       "  <thead>\n",
       "    <tr style=\"text-align: right;\">\n",
       "      <th></th>\n",
       "      <th>Date</th>\n",
       "      <th>Day</th>\n",
       "      <th>Status</th>\n",
       "      <th>In Time</th>\n",
       "      <th>Out Time</th>\n",
       "      <th>Total Hours</th>\n",
       "      <th>Attendance status</th>\n",
       "    </tr>\n",
       "  </thead>\n",
       "  <tbody>\n",
       "    <tr>\n",
       "      <th>0</th>\n",
       "      <td>2014-04-01</td>\n",
       "      <td>Tuesday</td>\n",
       "      <td>Earned Leave</td>\n",
       "      <td>0</td>\n",
       "      <td>0</td>\n",
       "      <td>0.0</td>\n",
       "      <td>No leave debit</td>\n",
       "    </tr>\n",
       "    <tr>\n",
       "      <th>1</th>\n",
       "      <td>2014-04-02</td>\n",
       "      <td>Wednesday</td>\n",
       "      <td>Earned Leave</td>\n",
       "      <td>0</td>\n",
       "      <td>0</td>\n",
       "      <td>0.0</td>\n",
       "      <td>No leave debit</td>\n",
       "    </tr>\n",
       "    <tr>\n",
       "      <th>2</th>\n",
       "      <td>2014-04-03</td>\n",
       "      <td>Thursday</td>\n",
       "      <td>Earned Leave</td>\n",
       "      <td>0</td>\n",
       "      <td>0</td>\n",
       "      <td>0.0</td>\n",
       "      <td>No leave debit</td>\n",
       "    </tr>\n",
       "    <tr>\n",
       "      <th>3</th>\n",
       "      <td>2014-04-04</td>\n",
       "      <td>Friday</td>\n",
       "      <td>Earned Leave</td>\n",
       "      <td>0</td>\n",
       "      <td>0</td>\n",
       "      <td>0.0</td>\n",
       "      <td>No leave debit</td>\n",
       "    </tr>\n",
       "    <tr>\n",
       "      <th>4</th>\n",
       "      <td>2014-04-05</td>\n",
       "      <td>Saturday</td>\n",
       "      <td>Weekly Off</td>\n",
       "      <td>0</td>\n",
       "      <td>0</td>\n",
       "      <td>0.0</td>\n",
       "      <td>No leave debit</td>\n",
       "    </tr>\n",
       "    <tr>\n",
       "      <th>5</th>\n",
       "      <td>2014-04-06</td>\n",
       "      <td>Sunday</td>\n",
       "      <td>Weekly Off</td>\n",
       "      <td>0</td>\n",
       "      <td>0</td>\n",
       "      <td>0.0</td>\n",
       "      <td>No leave debit</td>\n",
       "    </tr>\n",
       "    <tr>\n",
       "      <th>6</th>\n",
       "      <td>2014-04-07</td>\n",
       "      <td>Monday</td>\n",
       "      <td>Earned Leave</td>\n",
       "      <td>0</td>\n",
       "      <td>0</td>\n",
       "      <td>0.0</td>\n",
       "      <td>No leave debit</td>\n",
       "    </tr>\n",
       "    <tr>\n",
       "      <th>7</th>\n",
       "      <td>2014-04-08</td>\n",
       "      <td>Tuesday</td>\n",
       "      <td>Present</td>\n",
       "      <td>12:36</td>\n",
       "      <td>19:48</td>\n",
       "      <td>7.2</td>\n",
       "      <td>No leave debit</td>\n",
       "    </tr>\n",
       "    <tr>\n",
       "      <th>8</th>\n",
       "      <td>2014-04-09</td>\n",
       "      <td>Wednesday</td>\n",
       "      <td>Present</td>\n",
       "      <td>9:10</td>\n",
       "      <td>19:58</td>\n",
       "      <td>10.8</td>\n",
       "      <td>No leave debit</td>\n",
       "    </tr>\n",
       "    <tr>\n",
       "      <th>9</th>\n",
       "      <td>2014-04-10</td>\n",
       "      <td>Thursday</td>\n",
       "      <td>Present</td>\n",
       "      <td>8:32</td>\n",
       "      <td>19:50</td>\n",
       "      <td>11.3</td>\n",
       "      <td>No leave debit</td>\n",
       "    </tr>\n",
       "  </tbody>\n",
       "</table>\n",
       "</div>"
      ],
      "text/plain": [
       "        Date        Day        Status In Time Out Time  Total Hours  \\\n",
       "0 2014-04-01    Tuesday  Earned Leave       0        0          0.0   \n",
       "1 2014-04-02  Wednesday  Earned Leave       0        0          0.0   \n",
       "2 2014-04-03   Thursday  Earned Leave       0        0          0.0   \n",
       "3 2014-04-04     Friday  Earned Leave       0        0          0.0   \n",
       "4 2014-04-05   Saturday    Weekly Off       0        0          0.0   \n",
       "5 2014-04-06     Sunday    Weekly Off       0        0          0.0   \n",
       "6 2014-04-07     Monday  Earned Leave       0        0          0.0   \n",
       "7 2014-04-08    Tuesday       Present   12:36    19:48          7.2   \n",
       "8 2014-04-09  Wednesday       Present    9:10    19:58         10.8   \n",
       "9 2014-04-10   Thursday       Present    8:32    19:50         11.3   \n",
       "\n",
       "  Attendance status  \n",
       "0    No leave debit  \n",
       "1    No leave debit  \n",
       "2    No leave debit  \n",
       "3    No leave debit  \n",
       "4    No leave debit  \n",
       "5    No leave debit  \n",
       "6    No leave debit  \n",
       "7    No leave debit  \n",
       "8    No leave debit  \n",
       "9    No leave debit  "
      ]
     },
     "execution_count": 21,
     "metadata": {},
     "output_type": "execute_result"
    }
   ],
   "source": [
    "df[\"Attendance status\"].fillna(\"No leave debit\", inplace=True)\n",
    "df.head(10)"
   ]
  },
  {
   "cell_type": "code",
   "execution_count": 22,
   "metadata": {},
   "outputs": [
    {
     "data": {
      "text/plain": [
       "No leave debit    731\n",
       "Name: Attendance status, dtype: int64"
      ]
     },
     "execution_count": 22,
     "metadata": {},
     "output_type": "execute_result"
    }
   ],
   "source": [
    "df[\"Attendance status\"].value_counts()"
   ]
  },
  {
   "cell_type": "code",
   "execution_count": 23,
   "metadata": {},
   "outputs": [
    {
     "data": {
      "text/plain": [
       "4574.950000000001"
      ]
     },
     "execution_count": 23,
     "metadata": {},
     "output_type": "execute_result"
    }
   ],
   "source": [
    "df[\"Total Hours\"].sum()"
   ]
  },
  {
   "cell_type": "code",
   "execution_count": 24,
   "metadata": {},
   "outputs": [
    {
     "data": {
      "text/plain": [
       "6.2584815321477425"
      ]
     },
     "execution_count": 24,
     "metadata": {},
     "output_type": "execute_result"
    }
   ],
   "source": [
    "df[\"Total Hours\"].mean()"
   ]
  },
  {
   "cell_type": "code",
   "execution_count": 25,
   "metadata": {},
   "outputs": [
    {
     "data": {
      "text/plain": [
       "8.72"
      ]
     },
     "execution_count": 25,
     "metadata": {},
     "output_type": "execute_result"
    }
   ],
   "source": [
    "df[\"Total Hours\"].median()"
   ]
  },
  {
   "cell_type": "code",
   "execution_count": 26,
   "metadata": {},
   "outputs": [
    {
     "data": {
      "text/plain": [
       "0    0.0\n",
       "dtype: float64"
      ]
     },
     "execution_count": 26,
     "metadata": {},
     "output_type": "execute_result"
    }
   ],
   "source": [
    "df[\"Total Hours\"].mode()"
   ]
  },
  {
   "cell_type": "code",
   "execution_count": 27,
   "metadata": {},
   "outputs": [
    {
     "data": {
      "text/html": [
       "<div>\n",
       "<style scoped>\n",
       "    .dataframe tbody tr th:only-of-type {\n",
       "        vertical-align: middle;\n",
       "    }\n",
       "\n",
       "    .dataframe tbody tr th {\n",
       "        vertical-align: top;\n",
       "    }\n",
       "\n",
       "    .dataframe thead th {\n",
       "        text-align: right;\n",
       "    }\n",
       "</style>\n",
       "<table border=\"1\" class=\"dataframe\">\n",
       "  <thead>\n",
       "    <tr style=\"text-align: right;\">\n",
       "      <th></th>\n",
       "      <th>Total Hours</th>\n",
       "    </tr>\n",
       "  </thead>\n",
       "  <tbody>\n",
       "    <tr>\n",
       "      <th>count</th>\n",
       "      <td>731.000000</td>\n",
       "    </tr>\n",
       "    <tr>\n",
       "      <th>mean</th>\n",
       "      <td>6.258482</td>\n",
       "    </tr>\n",
       "    <tr>\n",
       "      <th>std</th>\n",
       "      <td>4.591328</td>\n",
       "    </tr>\n",
       "    <tr>\n",
       "      <th>min</th>\n",
       "      <td>0.000000</td>\n",
       "    </tr>\n",
       "    <tr>\n",
       "      <th>25%</th>\n",
       "      <td>0.000000</td>\n",
       "    </tr>\n",
       "    <tr>\n",
       "      <th>50%</th>\n",
       "      <td>8.720000</td>\n",
       "    </tr>\n",
       "    <tr>\n",
       "      <th>75%</th>\n",
       "      <td>9.840000</td>\n",
       "    </tr>\n",
       "    <tr>\n",
       "      <th>max</th>\n",
       "      <td>14.570000</td>\n",
       "    </tr>\n",
       "  </tbody>\n",
       "</table>\n",
       "</div>"
      ],
      "text/plain": [
       "       Total Hours\n",
       "count   731.000000\n",
       "mean      6.258482\n",
       "std       4.591328\n",
       "min       0.000000\n",
       "25%       0.000000\n",
       "50%       8.720000\n",
       "75%       9.840000\n",
       "max      14.570000"
      ]
     },
     "execution_count": 27,
     "metadata": {},
     "output_type": "execute_result"
    }
   ],
   "source": [
    "df.describe()"
   ]
  },
  {
   "cell_type": "code",
   "execution_count": 28,
   "metadata": {},
   "outputs": [
    {
     "data": {
      "text/plain": [
       "<matplotlib.axes._subplots.AxesSubplot at 0x7f11e6f759b0>"
      ]
     },
     "execution_count": 28,
     "metadata": {},
     "output_type": "execute_result"
    },
    {
     "data": {
      "image/png": "[encoded data removed]",
      "text/plain": [
       "<matplotlib.figure.Figure at 0x7f11e6f752b0>"
      ]
     },
     "metadata": {},
     "output_type": "display_data"
    }
   ],
   "source": [
    "df['Total Hours'].hist(bins=50)"
   ]
  },
  {
   "cell_type": "code",
   "execution_count": 29,
   "metadata": {},
   "outputs": [
    {
     "data": {
      "text/plain": [
       "<matplotlib.axes._subplots.AxesSubplot at 0x7f11df40df98>"
      ]
     },
     "execution_count": 29,
     "metadata": {},
     "output_type": "execute_result"
    },
    {
     "data": {
      "image/png": "[encoded data removed]",
      "text/plain": [
       "<matplotlib.figure.Figure at 0x7f11df408b00>"
      ]
     },
     "metadata": {},
     "output_type": "display_data"
    }
   ],
   "source": [
    "df.boxplot(column='Total Hours')"
   ]
  },
  {
   "cell_type": "code",
   "execution_count": 30,
   "metadata": {},
   "outputs": [
    {
     "data": {
      "text/plain": [
       "<matplotlib.axes._subplots.AxesSubplot at 0x7f11e7021940>"
      ]
     },
     "execution_count": 30,
     "metadata": {},
     "output_type": "execute_result"
    },
    {
     "data": {
      "image/png": "[encoded data removed]",
      "text/plain": [
       "<matplotlib.figure.Figure at 0x7f11df413b38>"
      ]
     },
     "metadata": {},
     "output_type": "display_data"
    }
   ],
   "source": [
    "df.boxplot(column='Total Hours', by = 'Status')"
   ]
  },
  {
   "cell_type": "markdown",
   "metadata": {},
   "source": [
    "### After cleanup of zero value records"
   ]
  },
  {
   "cell_type": "code",
   "execution_count": 31,
   "metadata": {},
   "outputs": [
    {
     "data": {
      "text/plain": [
       "4574.95"
      ]
     },
     "execution_count": 31,
     "metadata": {},
     "output_type": "execute_result"
    }
   ],
   "source": [
    "df_non_zero_total_hrs[\"Total Hours\"].sum()"
   ]
  },
  {
   "cell_type": "code",
   "execution_count": 32,
   "metadata": {},
   "outputs": [
    {
     "data": {
      "text/plain": [
       "9.077281746031746"
      ]
     },
     "execution_count": 32,
     "metadata": {},
     "output_type": "execute_result"
    }
   ],
   "source": [
    "df_non_zero_total_hrs[\"Total Hours\"].mean()"
   ]
  },
  {
   "cell_type": "code",
   "execution_count": 33,
   "metadata": {},
   "outputs": [
    {
     "data": {
      "text/plain": [
       "9.43"
      ]
     },
     "execution_count": 33,
     "metadata": {},
     "output_type": "execute_result"
    }
   ],
   "source": [
    "df_non_zero_total_hrs[\"Total Hours\"].median()"
   ]
  },
  {
   "cell_type": "code",
   "execution_count": 34,
   "metadata": {},
   "outputs": [
    {
     "data": {
      "text/plain": [
       "0    8.35\n",
       "1    9.03\n",
       "2    9.50\n",
       "3    9.73\n",
       "dtype: float64"
      ]
     },
     "execution_count": 34,
     "metadata": {},
     "output_type": "execute_result"
    }
   ],
   "source": [
    "df_non_zero_total_hrs[\"Total Hours\"].mode()"
   ]
  },
  {
   "cell_type": "code",
   "execution_count": 35,
   "metadata": {},
   "outputs": [
    {
     "data": {
      "text/html": [
       "<div>\n",
       "<style scoped>\n",
       "    .dataframe tbody tr th:only-of-type {\n",
       "        vertical-align: middle;\n",
       "    }\n",
       "\n",
       "    .dataframe tbody tr th {\n",
       "        vertical-align: top;\n",
       "    }\n",
       "\n",
       "    .dataframe thead th {\n",
       "        text-align: right;\n",
       "    }\n",
       "</style>\n",
       "<table border=\"1\" class=\"dataframe\">\n",
       "  <thead>\n",
       "    <tr style=\"text-align: right;\">\n",
       "      <th></th>\n",
       "      <th>Total Hours</th>\n",
       "    </tr>\n",
       "  </thead>\n",
       "  <tbody>\n",
       "    <tr>\n",
       "      <th>count</th>\n",
       "      <td>504.000000</td>\n",
       "    </tr>\n",
       "    <tr>\n",
       "      <th>mean</th>\n",
       "      <td>9.077282</td>\n",
       "    </tr>\n",
       "    <tr>\n",
       "      <th>std</th>\n",
       "      <td>2.226151</td>\n",
       "    </tr>\n",
       "    <tr>\n",
       "      <th>min</th>\n",
       "      <td>0.850000</td>\n",
       "    </tr>\n",
       "    <tr>\n",
       "      <th>25%</th>\n",
       "      <td>8.595000</td>\n",
       "    </tr>\n",
       "    <tr>\n",
       "      <th>50%</th>\n",
       "      <td>9.430000</td>\n",
       "    </tr>\n",
       "    <tr>\n",
       "      <th>75%</th>\n",
       "      <td>10.220000</td>\n",
       "    </tr>\n",
       "    <tr>\n",
       "      <th>max</th>\n",
       "      <td>14.570000</td>\n",
       "    </tr>\n",
       "  </tbody>\n",
       "</table>\n",
       "</div>"
      ],
      "text/plain": [
       "       Total Hours\n",
       "count   504.000000\n",
       "mean      9.077282\n",
       "std       2.226151\n",
       "min       0.850000\n",
       "25%       8.595000\n",
       "50%       9.430000\n",
       "75%      10.220000\n",
       "max      14.570000"
      ]
     },
     "execution_count": 35,
     "metadata": {},
     "output_type": "execute_result"
    }
   ],
   "source": [
    "df_non_zero_total_hrs.describe()"
   ]
  },
  {
   "cell_type": "code",
   "execution_count": 36,
   "metadata": {},
   "outputs": [
    {
     "data": {
      "text/plain": [
       "pandas.core.series.Series"
      ]
     },
     "execution_count": 36,
     "metadata": {},
     "output_type": "execute_result"
    }
   ],
   "source": [
    "type(df[\"Date\"])"
   ]
  },
  {
   "cell_type": "code",
   "execution_count": 37,
   "metadata": {},
   "outputs": [
    {
     "data": {
      "text/plain": [
       "Timestamp('2014-04-01 00:00:00')"
      ]
     },
     "execution_count": 37,
     "metadata": {},
     "output_type": "execute_result"
    }
   ],
   "source": [
    "df[\"Date\"][0]"
   ]
  },
  {
   "cell_type": "code",
   "execution_count": 38,
   "metadata": {},
   "outputs": [
    {
     "data": {
      "text/plain": [
       "pandas._libs.tslib.Timestamp"
      ]
     },
     "execution_count": 38,
     "metadata": {},
     "output_type": "execute_result"
    }
   ],
   "source": [
    "type(df[\"Date\"][0])"
   ]
  },
  {
   "cell_type": "code",
   "execution_count": 39,
   "metadata": {},
   "outputs": [
    {
     "data": {
      "text/plain": [
       "<matplotlib.axes._subplots.AxesSubplot at 0x7f11df286b00>"
      ]
     },
     "execution_count": 39,
     "metadata": {},
     "output_type": "execute_result"
    },
    {
     "data": {
      "image/png": "[encoded data removed]",
      "text/plain": [
       "<matplotlib.figure.Figure at 0x7f11df2f4f60>"
      ]
     },
     "metadata": {},
     "output_type": "display_data"
    }
   ],
   "source": [
    "df_non_zero_total_hrs['Total Hours'].hist(bins=50)"
   ]
  },
  {
   "cell_type": "code",
   "execution_count": 40,
   "metadata": {},
   "outputs": [
    {
     "data": {
      "text/plain": [
       "<matplotlib.axes._subplots.AxesSubplot at 0x7f11df21deb8>"
      ]
     },
     "execution_count": 40,
     "metadata": {},
     "output_type": "execute_result"
    },
    {
     "data": {
      "image/png": "[encoded data removed]",
      "text/plain": [
       "<matplotlib.figure.Figure at 0x7f11df2320b8>"
      ]
     },
     "metadata": {},
     "output_type": "display_data"
    }
   ],
   "source": [
    "df_non_zero_total_hrs.boxplot(column='Total Hours')"
   ]
  },
  {
   "cell_type": "code",
   "execution_count": 41,
   "metadata": {},
   "outputs": [
    {
     "data": {
      "text/plain": [
       "<matplotlib.axes._subplots.AxesSubplot at 0x7f11df1bdb00>"
      ]
     },
     "execution_count": 41,
     "metadata": {},
     "output_type": "execute_result"
    },
    {
     "data": {
      "image/png": "[encoded data removed]",
      "text/plain": [
       "<matplotlib.figure.Figure at 0x7f11df178940>"
      ]
     },
     "metadata": {},
     "output_type": "display_data"
    }
   ],
   "source": [
    "df_non_zero_total_hrs.boxplot(column='Total Hours', by = 'Status')"
   ]
  },
  {
   "cell_type": "code",
   "execution_count": null,
   "metadata": {},
   "outputs": [],
   "source": []
  },
  {
   "cell_type": "code",
   "execution_count": null,
   "metadata": {},
   "outputs": [],
   "source": []
  },
  {
   "cell_type": "code",
   "execution_count": null,
   "metadata": {},
   "outputs": [],
   "source": []
  }
 ],
 "metadata": {
  "kernelspec": {
   "display_name": "Python 3",
   "language": "python",
   "name": "python3"
  },
  "language_info": {
   "codemirror_mode": {
    "name": "ipython",
    "version": 3
   },
   "file_extension": ".py",
   "mimetype": "text/x-python",
   "name": "python",
   "nbconvert_exporter": "python",
   "pygments_lexer": "ipython3",
   "version": "3.6.4"
  }
 },
 "nbformat": 4,
 "nbformat_minor": 2
}
