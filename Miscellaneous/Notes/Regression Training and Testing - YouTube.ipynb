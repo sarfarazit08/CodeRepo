{
 "cells": [
  {
   "cell_type": "markdown",
   "metadata": {
    "collapsed": true
   },
   "source": [
    "### Regression "
   ]
  },
  {
   "cell_type": "code",
   "execution_count": 18,
   "metadata": {
    "collapsed": false
   },
   "outputs": [],
   "source": [
    "import pandas as pd \n",
    "import quandl # library to query data from https://www.quandl.com\n",
    "import math\n",
    "import numpy as np\n",
    "from sklearn import preprocessing, cross_validation , svm\n",
    "from sklearn.linear_model import LinearRegression\n",
    "\n",
    "df = quandl.get(\"WIKI/GOOGL\") # query data from https://www.quandl.com\n",
    "\n",
    "df = df[['Adj. Open', 'Adj. High', 'Adj. Low', 'Adj. Close', 'Adj. Volume' ]] # selecting specific features\n",
    "\n",
    "df['HL%'] = (df['Adj. High']-df['Adj. Close']) / df['Adj. Close'] * 100.0      # calculate high-low percentage\n",
    "df['%Change'] = (df['Adj. Close']-df['Adj. Open']) / df['Adj. Open'] * 100.0   # calculate %Change\n",
    "\n",
    "df = df [['Adj. Close','HL%','%Change','Adj. Volume']]\n"
   ]
  },
  {
   "cell_type": "markdown",
   "metadata": {},
   "source": [
    "### Regression Features and Labels"
   ]
  },
  {
   "cell_type": "code",
   "execution_count": 19,
   "metadata": {
    "collapsed": false
   },
   "outputs": [
    {
     "name": "stdout",
     "output_type": "stream",
     "text": [
      "            Adj. Close       HL%   %Change  Adj. Volume      label\n",
      "Date                                                              \n",
      "2004-08-19   50.322842  3.712563  0.324968   44659000.0  68.752232\n",
      "2004-08-20   54.322689  0.710922  7.227007   22834300.0  69.639972\n",
      "2004-08-23   54.869377  3.729433 -1.227880   18256100.0  69.078238\n",
      "2004-08-24   52.597363  6.417469 -5.726357   15247300.0  67.839414\n",
      "2004-08-25   53.164113  1.886792  1.183658    9188600.0  68.912727\n"
     ]
    }
   ],
   "source": [
    "forcast_col = 'Adj. Close'\n",
    "df.fillna(-999,inplace=True) # filling dummy values in case value is not available\n",
    "\n",
    "forcast_out = int(math.ceil(0.01*len(df)))\n",
    "\n",
    "df['label'] = df[forcast_col].shift(-forcast_out)\n",
    "df.dropna(inplace=True)\n",
    "\n",
    "print (df.head())\n"
   ]
  },
  {
   "cell_type": "markdown",
   "metadata": {},
   "source": [
    "### Regression Training and Testing"
   ]
  },
  {
   "cell_type": "code",
   "execution_count": 29,
   "metadata": {
    "collapsed": false
   },
   "outputs": [
    {
     "name": "stdout",
     "output_type": "stream",
     "text": [
      "Acurracy :0.9721\n"
     ]
    }
   ],
   "source": [
    "x = np.array(df.drop(['label'],1))\n",
    "y = np.array(df['label'])\n",
    "\n",
    "x= preprocessing.scale(x)\n",
    "y = np.array(df['label'])\n",
    "\n"
   ]
  },
  {
   "cell_type": "markdown",
   "metadata": {},
   "source": [
    "### Linear Regression"
   ]
  },
  {
   "cell_type": "code",
   "execution_count": 31,
   "metadata": {
    "collapsed": false
   },
   "outputs": [
    {
     "name": "stdout",
     "output_type": "stream",
     "text": [
      "Acurracy :0.9717\n"
     ]
    }
   ],
   "source": [
    "x_train, x_test, y_train, y_test = cross_validation.train_test_split(x,y,test_size=0.2)\n",
    "\n",
    "lr_model = LinearRegression()\n",
    "lr_model.fit(x_train,y_train)\n",
    "\n",
    "# View accuracy score\n",
    "\n",
    "print (\"Acurracy :{0:0.4f}\".format(lr_model.score(x_train,y_train)))"
   ]
  },
  {
   "cell_type": "markdown",
   "metadata": {},
   "source": [
    "### Support Vector Machine (SVM)"
   ]
  },
  {
   "cell_type": "code",
   "execution_count": 38,
   "metadata": {
    "collapsed": false
   },
   "outputs": [
    {
     "name": "stdout",
     "output_type": "stream",
     "text": [
      "Acurracy :0.8248\n",
      "Acurracy :0.7328\n"
     ]
    }
   ],
   "source": [
    "svm_model = svm.SVR()             # default kernel for support vector regression(SVR) is 'linear'\n",
    "svm_model.fit(x_train,y_train)\n",
    "\n",
    "# View accuracy score\n",
    "\n",
    "print (\"Acurracy  :{0:0.4f}\".format(svm_model.score(x_train,y_train)))"
   ]
  },
  {
   "cell_type": "markdown",
   "metadata": {},
   "source": [
    "### Regression forecasting and predicting"
   ]
  },
  {
   "cell_type": "code",
   "execution_count": null,
   "metadata": {
    "collapsed": true
   },
   "outputs": [],
   "source": []
  }
 ],
 "metadata": {
  "kernelspec": {
   "display_name": "Python 3",
   "language": "python",
   "name": "python3"
  },
  "language_info": {
   "codemirror_mode": {
    "name": "ipython",
    "version": 3
   },
   "file_extension": ".py",
   "mimetype": "text/x-python",
   "name": "python",
   "nbconvert_exporter": "python",
   "pygments_lexer": "ipython3",
   "version": "3.6.0"
  }
 },
 "nbformat": 4,
 "nbformat_minor": 2
}
