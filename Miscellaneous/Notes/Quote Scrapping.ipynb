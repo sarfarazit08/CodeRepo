{
 "cells": [
  {
   "cell_type": "code",
   "execution_count": 1,
   "metadata": {
    "collapsed": false
   },
   "outputs": [
    {
     "name": "stdout",
     "output_type": "stream",
     "text": [
      "2017-10-14 20:15:23.115453 : File writing successful.\n"
     ]
    }
   ],
   "source": [
    "import requests\n",
    "from bs4 import BeautifulSoup\n",
    "import os\n",
    "import datetime\n",
    "\n",
    "links = []\n",
    "\n",
    "r = requests.get(\"https://www.brainyquote.com/quotes/quote_pictures.html\")\n",
    "data = r.text\n",
    "soup = BeautifulSoup(data, \"lxml\")\n",
    "for link in soup.find_all('img'):\n",
    "    image = 'https://www.brainyquote.com' + link.get(\"src\")\n",
    "    image_name = image[image.rfind('/')+1:]\n",
    "    if('.jpg' in image_name):\n",
    "        links.append('<img src=\"{}\" alt=\"{}\" />'.format(image, image_name))\n",
    "\n",
    "try:\n",
    "    file = open(\"images.html\",'w')\n",
    "    file.write(''.join(links))\n",
    "    file.close()\n",
    "    print(str(datetime.datetime.now()) + \" : File writing successful.\")\n",
    "except IOError as e:\n",
    "    print(\"File writing failed. {}\" % e)\n",
    "    file.close()"
   ]
  },
  {
   "cell_type": "code",
   "execution_count": 2,
   "metadata": {
    "collapsed": false
   },
   "outputs": [
    {
     "data": {
      "text/html": [
       "<iframe height='1000' width= \"100%\" src=\"images.html?inline=true\"></iframe>"
      ],
      "text/plain": [
       "<IPython.core.display.HTML object>"
      ]
     },
     "metadata": {},
     "output_type": "display_data"
    }
   ],
   "source": [
    "%%HTML\n",
    "<iframe height='1000' width= \"100%\" src=\"images.html?inline=true\"></iframe>"
   ]
  },
  {
   "cell_type": "code",
   "execution_count": null,
   "metadata": {
    "collapsed": true
   },
   "outputs": [],
   "source": []
  }
 ],
 "metadata": {
  "kernelspec": {
   "display_name": "Python 3",
   "language": "python",
   "name": "python3"
  },
  "language_info": {
   "codemirror_mode": {
    "name": "ipython",
    "version": 3
   },
   "file_extension": ".py",
   "mimetype": "text/x-python",
   "name": "python",
   "nbconvert_exporter": "python",
   "pygments_lexer": "ipython3",
   "version": "3.6.0"
  }
 },
 "nbformat": 4,
 "nbformat_minor": 2
}
