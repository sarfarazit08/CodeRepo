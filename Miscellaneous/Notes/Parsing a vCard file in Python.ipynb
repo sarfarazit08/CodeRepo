{
 "cells": [
  {
   "cell_type": "code",
   "execution_count": null,
   "metadata": {
    "collapsed": true
   },
   "outputs": [],
   "source": [
    "#Parsing a vCard file in Python - String Manipulation"
   ]
  },
  {
   "cell_type": "code",
   "execution_count": 1,
   "metadata": {
    "collapsed": true
   },
   "outputs": [],
   "source": [
    "data = open('vcard.vcf', 'r')\n",
    "name = ''\n",
    "number = ''\n",
    "contactList = {}\n",
    "for l in data:\n",
    "    if l.startswith('N:'):\n",
    "        name = l.split(':')[1].replace(';','').strip('\\n')       \n",
    "    if l.startswith('TEL'):\n",
    "        number = l.split(':')[1].replace('-','').strip('\\n')\n",
    "    contactList[name] = number\n",
    "file = open(\"Contacts.txt\",'w')\n",
    "file.write(str(contactList))\n",
    "file.close() "
   ]
  },
  {
   "cell_type": "code",
   "execution_count": null,
   "metadata": {
    "collapsed": true
   },
   "outputs": [],
   "source": [
    "#Parsing a vCard file in Python - Using 'vobject' Module"
   ]
  },
  {
   "cell_type": "code",
   "execution_count": null,
   "metadata": {
    "collapsed": false
   },
   "outputs": [],
   "source": [
    "!pip install vobject"
   ]
  },
  {
   "cell_type": "code",
   "execution_count": 2,
   "metadata": {
    "collapsed": false
   },
   "outputs": [
    {
     "name": "stdout",
     "output_type": "stream",
     "text": [
      "{'Nesar': ['+919681568785', '+919681568785']}\n"
     ]
    }
   ],
   "source": [
    "import vobject\n",
    "\n",
    "path = 'vcard.vcf'\n",
    "def parse_vcard(path):\n",
    "    with open(path, 'r') as f:\n",
    "        vcard = vobject.readOne(f.read())\n",
    "        #print (vcard.behavior.knownChildren)\n",
    "        #print(vcard.contents)\n",
    "        #print(vcard.prettyPrint())\n",
    "        return {vcard.contents['fn'][0].value : [tel.value for tel in vcard.contents['tel']]}\n",
    "print(parse_vcard(path))"
   ]
  },
  {
   "cell_type": "code",
   "execution_count": null,
   "metadata": {
    "collapsed": true
   },
   "outputs": [],
   "source": []
  }
 ],
 "metadata": {
  "kernelspec": {
   "display_name": "Python 3",
   "language": "python",
   "name": "python3"
  },
  "language_info": {
   "codemirror_mode": {
    "name": "ipython",
    "version": 3
   },
   "file_extension": ".py",
   "mimetype": "text/x-python",
   "name": "python",
   "nbconvert_exporter": "python",
   "pygments_lexer": "ipython3",
   "version": "3.6.0"
  }
 },
 "nbformat": 4,
 "nbformat_minor": 2
}
