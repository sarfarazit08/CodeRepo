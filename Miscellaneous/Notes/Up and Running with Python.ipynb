{
 "cells": [
  {
   "cell_type": "markdown",
   "metadata": {},
   "source": [
    "# Up and Running with Python"
   ]
  },
  {
   "cell_type": "markdown",
   "metadata": {},
   "source": [
    "#### Simple Hello World"
   ]
  },
  {
   "cell_type": "code",
   "execution_count": 1,
   "metadata": {},
   "outputs": [
    {
     "name": "stdout",
     "output_type": "stream",
     "text": [
      "Hello World\n"
     ]
    }
   ],
   "source": [
    "print(\"Hello World\")"
   ]
  },
  {
   "cell_type": "markdown",
   "metadata": {},
   "source": [
    "#### Hello World using a method"
   ]
  },
  {
   "cell_type": "code",
   "execution_count": 2,
   "metadata": {},
   "outputs": [
    {
     "name": "stdout",
     "output_type": "stream",
     "text": [
      "Hello World\n"
     ]
    }
   ],
   "source": [
    "# defining a method 'message'\n",
    "def message():\n",
    "    print(\"Hello World\")\n",
    "\n",
    "# calling 'message' method\n",
    "message()"
   ]
  },
  {
   "cell_type": "markdown",
   "metadata": {},
   "source": [
    "#### Hello World using main() method¶"
   ]
  },
  {
   "cell_type": "code",
   "execution_count": 3,
   "metadata": {},
   "outputs": [
    {
     "name": "stdout",
     "output_type": "stream",
     "text": [
      "Hello World\n"
     ]
    }
   ],
   "source": [
    "# defining main() method\n",
    "def main():\n",
    "    print(\"Hello World\")\n",
    "\n",
    "if __name__ == \"__main__\":\n",
    "    # calling main() method\n",
    "    main()"
   ]
  },
  {
   "cell_type": "markdown",
   "metadata": {},
   "source": [
    "## Variables"
   ]
  },
  {
   "cell_type": "markdown",
   "metadata": {},
   "source": [
    "#### Declare variable and initialize it"
   ]
  },
  {
   "cell_type": "code",
   "execution_count": 4,
   "metadata": {},
   "outputs": [
    {
     "name": "stdout",
     "output_type": "stream",
     "text": [
      "variables\n",
      "----------\n",
      "10\n",
      "sarfaraz\n",
      "1.431 \n"
     ]
    }
   ],
   "source": [
    "iVar = 10\n",
    "sVar = \"sarfaraz\"\n",
    "fVar = 1.431\n",
    "\n",
    "print (\"variables\")\n",
    "print(10*\"-\")\n",
    "print(\"{0}\\n{1}\\n{2} \".format(iVar,sVar,fVar))"
   ]
  },
  {
   "cell_type": "markdown",
   "metadata": {},
   "source": [
    "#### Concatenating variables of different data types"
   ]
  },
  {
   "cell_type": "code",
   "execution_count": 5,
   "metadata": {},
   "outputs": [
    {
     "name": "stdout",
     "output_type": "stream",
     "text": [
      "sarfara is 27 years old.\n"
     ]
    }
   ],
   "source": [
    "# python has in-built 'str()' method to convert numbers to string\n",
    "print (\"sarfara is \" + str(27) +\" years old.\") \n",
    "\n",
    "# python is strongly typed scripting language, it throws 'TypeError'\n",
    "# print (\"sarfara is \" + 27 .\")+\"years old  # Wrong "
   ]
  },
  {
   "cell_type": "markdown",
   "metadata": {},
   "source": [
    "#### local and global variables in python "
   ]
  },
  {
   "cell_type": "code",
   "execution_count": 6,
   "metadata": {},
   "outputs": [
    {
     "name": "stdout",
     "output_type": "stream",
     "text": [
      "0\n",
      "String\n",
      "0\n"
     ]
    }
   ],
   "source": [
    "Var = 0\n",
    "print (Var)\n",
    "\n",
    "def message():\n",
    "    Var = \"String\" # here 'Var' is used as local variable and has it's own copy of data as string but outside it's integer\n",
    "    print(Var)\n",
    "\n",
    "message()\n",
    "print (Var)"
   ]
  },
  {
   "cell_type": "code",
   "execution_count": 7,
   "metadata": {},
   "outputs": [
    {
     "name": "stdout",
     "output_type": "stream",
     "text": [
      "0\n",
      "String\n",
      "String\n"
     ]
    }
   ],
   "source": [
    "Var = 0\n",
    "print (Var)\n",
    "\n",
    "def message():\n",
    "    global Var \n",
    "    Var = \"String\" # here 'Var' is used as global variable and we use 'global' keyword for that\n",
    "    print(Var)\n",
    "\n",
    "message()\n",
    "print (Var)"
   ]
  },
  {
   "cell_type": "markdown",
   "metadata": {},
   "source": [
    "#### Use of 'del' keyword to remove definition of a variable"
   ]
  },
  {
   "cell_type": "code",
   "execution_count": 9,
   "metadata": {},
   "outputs": [
    {
     "name": "stdout",
     "output_type": "stream",
     "text": [
      "sarfaraz\n"
     ]
    },
    {
     "ename": "NameError",
     "evalue": "name 'var' is not defined",
     "output_type": "error",
     "traceback": [
      "\u001b[1;31m---------------------------------------------------------------------------\u001b[0m",
      "\u001b[1;31mNameError\u001b[0m                                 Traceback (most recent call last)",
      "\u001b[1;32m<ipython-input-9-bcb95de9cefe>\u001b[0m in \u001b[0;36m<module>\u001b[1;34m()\u001b[0m\n\u001b[0;32m      5\u001b[0m \u001b[1;32mdel\u001b[0m \u001b[0mvar\u001b[0m\u001b[1;33m\u001b[0m\u001b[0m\n\u001b[0;32m      6\u001b[0m \u001b[1;33m\u001b[0m\u001b[0m\n\u001b[1;32m----> 7\u001b[1;33m \u001b[0mprint\u001b[0m \u001b[1;33m(\u001b[0m\u001b[0mvar\u001b[0m\u001b[1;33m)\u001b[0m \u001b[1;31m# uncomment and run again\u001b[0m\u001b[1;33m\u001b[0m\u001b[0m\n\u001b[0m",
      "\u001b[1;31mNameError\u001b[0m: name 'var' is not defined"
     ]
    }
   ],
   "source": [
    "var = \"sarfaraz\"\n",
    "print (var)\n",
    "\n",
    "# 'del' removes variable definition and we get 'NameError'\n",
    "del var \n",
    "\n",
    "print (var) # uncomment and run again"
   ]
  },
  {
   "cell_type": "markdown",
   "metadata": {},
   "source": [
    "## Functions"
   ]
  },
  {
   "cell_type": "markdown",
   "metadata": {},
   "source": [
    "#### Simple message display function"
   ]
  },
  {
   "cell_type": "code",
   "execution_count": null,
   "metadata": {},
   "outputs": [],
   "source": [
    "# Method definition\n",
    "def MessageDisplay():\n",
    "    print(\"Message\")\n",
    "\n",
    "# Method call    \n",
    "MessageDisplay()"
   ]
  },
  {
   "cell_type": "markdown",
   "metadata": {},
   "source": [
    "#### Method with arguments/parameters"
   ]
  },
  {
   "cell_type": "code",
   "execution_count": null,
   "metadata": {},
   "outputs": [],
   "source": [
    "# Method definition\n",
    "def MessageDisplay(firstname, lastname):\n",
    "    print(firstname+\" \"+lastname)\n",
    "\n",
    "# Method call    \n",
    "MessageDisplay(\"MD\",\"Sarfaraz\")"
   ]
  },
  {
   "cell_type": "markdown",
   "metadata": {},
   "source": [
    "#### Method with a return value"
   ]
  },
  {
   "cell_type": "code",
   "execution_count": null,
   "metadata": {},
   "outputs": [],
   "source": [
    "# Method definition\n",
    "def MessageDisplay(firstname, lastname):\n",
    "     return (firstname+\" \"+lastname)\n",
    "\n",
    "# Method call    \n",
    "MessageDisplay(\"MD\",\"Sarfaraz\")"
   ]
  },
  {
   "cell_type": "markdown",
   "metadata": {},
   "source": [
    "#### Method with a default value for an argument"
   ]
  },
  {
   "cell_type": "code",
   "execution_count": null,
   "metadata": {},
   "outputs": [],
   "source": [
    "# Method definition\n",
    "def MessageDisplay(firstname, lastname, var = \"Hi! \"): # default value of 'var' is set here\n",
    "     return (var +firstname+\" \"+lastname)\n",
    "\n",
    "# Method call    \n",
    "MessageDisplay(\"MD\",\"Sarfaraz\",var = \"Hello! \")"
   ]
  },
  {
   "cell_type": "markdown",
   "metadata": {},
   "source": [
    "#### Method with variable number of arguments"
   ]
  },
  {
   "cell_type": "code",
   "execution_count": null,
   "metadata": {},
   "outputs": [],
   "source": [
    "# Method definition\n",
    "def MessageDisplay(*args):\n",
    "    result = 0\n",
    "    for x in args:\n",
    "        result += x\n",
    "    return (result)\n",
    "\n",
    "# Method call    \n",
    "print (MessageDisplay(1,3,5))\n",
    "print(10*\"*\")\n",
    "print (MessageDisplay(2,4,6,8))"
   ]
  },
  {
   "cell_type": "markdown",
   "metadata": {},
   "source": [
    "## Conditionals"
   ]
  },
  {
   "cell_type": "code",
   "execution_count": null,
   "metadata": {},
   "outputs": [],
   "source": [
    "x, y = 10, 100\n",
    "\n",
    "def main():\n",
    "   \n",
    "    # conditional flow uses if, elif, else  \n",
    "    if(x < y):\n",
    "        st= \"x is less than y\"\n",
    "    elif (x == y):\n",
    "        st= \"x is same as y\"\n",
    "    else:\n",
    "        st= \"x is greater than y\"\n",
    "    print(st)\n",
    "\n",
    "# Python does not have support for higher-order conditionals\n",
    "# like \"switch-case\" in other languages\n",
    "  \n",
    "if __name__ == \"__main__\":\n",
    "    main()\n"
   ]
  },
  {
   "cell_type": "code",
   "execution_count": null,
   "metadata": {},
   "outputs": [],
   "source": [
    "x, y = 100, 10\n",
    "\n",
    "# conditional statements let you use \"a if C else b\"\n",
    "st = \"x is less than y\" if (x < y) else \"x is greater than or equal to y\"\n",
    "print (st)"
   ]
  },
  {
   "cell_type": "markdown",
   "metadata": {},
   "source": [
    "## Loops"
   ]
  },
  {
   "cell_type": "code",
   "execution_count": null,
   "metadata": {},
   "outputs": [],
   "source": [
    "def main():\n",
    "    x = 0\n",
    "    \n",
    "    print(\"while loop\")\n",
    "    print(20*\"-\")\n",
    "    # define a while loop\n",
    "    while (x < 5):\n",
    "        x = x + 1\n",
    "        print (x)\n",
    "    \n",
    "    print(\"for loop\")\n",
    "    print(20*\"-\")\n",
    "    # define a for loop\n",
    "    for x in range(5,10):\n",
    "        print (x)\n",
    "    \n",
    "    print(\"for loop over a collection\")\n",
    "    print(20*\"-\")\n",
    "    # use a for loop over a collection\n",
    "    days = [\"Mon\",\"Tue\",\"Wed\",\"Thu\",\"Fri\",\"Sat\",\"Sun\"]\n",
    "    for d in days:\n",
    "        print (d)\n",
    "    \n",
    "    print(\"break and continue statements\")\n",
    "    print(30*\"-\")\n",
    "    # use the break and continue statements\n",
    "    for x in range(5,10):\n",
    "        if (x == 7): break\n",
    "        #if (x % 2 == 0): continue\n",
    "        print(x)\n",
    "    \n",
    "    \n",
    "    print(\"enumerate() function to get index\")\n",
    "    print(40*\"-\")\n",
    "    #using the enumerate() function to get index \n",
    "    days = [\"Mon\",\"Tue\",\"Wed\",\"Thu\",\"Fri\",\"Sat\",\"Sun\"]\n",
    "    for i, d in enumerate(days):\n",
    "        print (i, d)\n",
    "\n",
    "if __name__ == \"__main__\":\n",
    "    main()\n"
   ]
  },
  {
   "cell_type": "markdown",
   "metadata": {},
   "source": [
    "## Classes"
   ]
  },
  {
   "cell_type": "code",
   "execution_count": null,
   "metadata": {},
   "outputs": [],
   "source": [
    "class myClass():\n",
    "    def method1(self):\n",
    "        print (\"myClass method1\")\n",
    "    \n",
    "    def method2(self, someString):\n",
    "        print (\"myClass method2: \" + someString)\n",
    "    \n",
    "class anotherClass(myClass):\n",
    "    def method2(self):\n",
    "        print (\"anotherClass method2\")\n",
    "    \n",
    "    def method1(self):\n",
    "        myClass.method1(self);\n",
    "        print (\"anotherClass method1\" )    \n",
    "\n",
    "def main():\n",
    "    c = myClass()\n",
    "    c.method1()\n",
    "    c.method2(\"This is a string\")\n",
    "    c2 = anotherClass()\n",
    "    c2.method1()\n",
    "    c2=c\n",
    "    c2.method1()\n",
    "    c2.method2(\" \")\n",
    "\n",
    "if __name__ == \"__main__\":\n",
    "    main()\n"
   ]
  },
  {
   "cell_type": "markdown",
   "metadata": {},
   "source": [
    "## Dates"
   ]
  },
  {
   "cell_type": "code",
   "execution_count": null,
   "metadata": {},
   "outputs": [],
   "source": [
    "from datetime import date\n",
    "from datetime import time\n",
    "from datetime import datetime\n",
    "\n",
    "def main():\n",
    "    ## DATE OBJECTS\n",
    "    # Get today's date from the simple today() method from the date class\n",
    "    today = date.today()\n",
    "    print (\"Today's date is \", today)\n",
    "    \n",
    "    # print out the date's individual components\n",
    "    print (\"Date Components: \", today.day, today.month, today.year)\n",
    "    \n",
    "    # retrieve today's weekday (0=Monday, 6=Sunday)\n",
    "    print (\"Today's Weekday #: \", today.weekday())\n",
    "    \n",
    "    ## DATETIME OBJECTS\n",
    "    # Get today's date from the datetime class\n",
    "    today = datetime.now()\n",
    "    print  (\"The current date and time is \", today)\n",
    "    \n",
    "    # Get the current time\n",
    "    t = datetime.time(datetime.now())\n",
    "    print (\"The current time is \", t)\n",
    "    \n",
    "    # weekday returns 0 (monday) through 6 (sunday)\n",
    "    wd = date.weekday(today)  \n",
    "    # Days start at 0 for Monday \n",
    "    days = [\"monday\",\"tuesday\",\"wednesday\",\"thursday\",\"friday\",\"saturday\",\"sunday\"]\n",
    "    print (\"Today is day number %d\" % wd)\n",
    "    print (\"Which is a \" + days[wd])\n",
    "  \n",
    "  \n",
    "if __name__ == \"__main__\":\n",
    "    main();\n",
    "  "
   ]
  },
  {
   "cell_type": "markdown",
   "metadata": {},
   "source": [
    "## Formating Date and Time outputs "
   ]
  },
  {
   "cell_type": "code",
   "execution_count": null,
   "metadata": {},
   "outputs": [],
   "source": [
    "from datetime import datetime\n",
    "\n",
    "def main():\n",
    "    # Times and dates can be formatted using a set of predefined string\n",
    "    # control codes \n",
    "    now = datetime.now() # get the current date and time\n",
    "    \n",
    "    #### Date Formatting ####\n",
    "    \n",
    "    # %y/%Y - Year, %a/%A - weekday, %b/%B - month, %d - day of month\n",
    "    print (now.strftime(\"%Y\")) # full year with century\n",
    "    print (now.strftime(\"%a, %d %B, %y\")) # abbreviated day, num, full month, abbreviated year\n",
    "    \n",
    "    # %c - locale's date and time, %x - locale's date, %X - locale's time\n",
    "    print (now.strftime(\"%c\"))\n",
    "    print (now.strftime(\"%x\"))\n",
    "    print (now.strftime(\"%X\"))\n",
    "    \n",
    "    #### Time Formatting ####\n",
    "    \n",
    "    # %I/%H - 12/24 Hour, %M - minute, %S - second, %p - locale's AM/PM\n",
    "    print (now.strftime(\"%I:%M:%S %p\")) # 12-Hour:Minute:Second:AM\n",
    "    print (now.strftime(\"%H:%M\")) # 24-Hour:Minute\n",
    "\n",
    "if __name__ == \"__main__\":\n",
    "    main();\n"
   ]
  },
  {
   "cell_type": "markdown",
   "metadata": {},
   "source": [
    "## Timedelta library"
   ]
  },
  {
   "cell_type": "code",
   "execution_count": null,
   "metadata": {},
   "outputs": [],
   "source": [
    "from datetime import date\n",
    "from datetime import time\n",
    "from datetime import datetime\n",
    "from datetime import timedelta\n",
    "\n",
    "# construct a basic timedelta and print it\n",
    "print (timedelta(days=365, hours=5, minutes=1))\n",
    "\n",
    "# print today's date\n",
    "print(\"today is: {0}\".format(datetime.now()))\n",
    "\n",
    "# print today's date one year from now\n",
    "print(\"one year from now it will be: {0}\" .format(datetime.now() + timedelta(days=365)))\n",
    "\n",
    "# create a timedelta that uses more than one argument\n",
    "print(\"in two weeks and 3 days it will be: {0} \".format(datetime.now() + timedelta(weeks=2, days=3)))\n",
    "\n",
    "# calculate the date 1 week ago, formatted as a string\n",
    "t = datetime.now() - timedelta(weeks=1)\n",
    "s = t.strftime(\"%A %B %d, %Y\")\n",
    "print(\"one week ago it was {0}\" .format(s))\n",
    "\n",
    "### How many days until My Birthday?\n",
    "\n",
    "today = date.today()  # get today's date\n",
    "birthday = date(today.year, 10, 3)  # get birthday for the same year\n",
    "# use date comparison to see if birthday has already gone for this year\n",
    "# if it has, use the replace() function to get the date for next year\n",
    "if birthday < today:\n",
    "    print( \"My Birthday already went by %d days ago\" % ((today-birthday).days))\n",
    "    birthday = birthday.replace(year=today.year + 1)  # if so, get the date for next year\n",
    "\n",
    "# Now calculate the amount of time until April Fool's Day  \n",
    "time_to_birthday = abs(birthday - today)\n",
    "print( time_to_birthday.days, \"days until next birthday!\")"
   ]
  },
  {
   "cell_type": "markdown",
   "metadata": {
    "collapsed": true
   },
   "source": [
    "## Calendar"
   ]
  },
  {
   "cell_type": "code",
   "execution_count": null,
   "metadata": {},
   "outputs": [],
   "source": [
    "import calendar\n",
    "\n",
    "# create a plain text calendar\n",
    "c = calendar.TextCalendar(calendar.SUNDAY)\n",
    "value = c.formatmonth(2017, 6, 0, 0)\n",
    "print (value)\n",
    "\n",
    "# create an HTML formatted calendar\n",
    "hc = calendar.HTMLCalendar(calendar.SUNDAY)\n",
    "value = hc.formatmonth(2017, 6)\n",
    "value =  \"<html><head><title>Calendar</title></head><body>\"+str(value)+\"</body></html>\"\n",
    "print(value)\n",
    "\n",
    "# Writing the calendar to a file\n",
    "f = open('Calendar.html','w')\n",
    "f.write(value)\n",
    "f.close()\n",
    "\n",
    "# loop over the days of a month\n",
    "# zeroes mean that the day of the week is in an overlapping month\n",
    "for i in c.itermonthdays(2017, 6):\n",
    "     print (i)\n",
    "\n",
    "# The Calendar module provides useful utilities for the given locale,\n",
    "# such as the names of days and months in both full and abbreviated forms\n",
    "for name in calendar.month_name:\n",
    "     print (name)\n",
    "\n",
    "for day in calendar.day_name:\n",
    "     print (day)\n",
    "\n",
    "# Calculate days based on a rule: For example, consider\n",
    "# a team meeting on the first Friday of every month.\n",
    "# To figure out what days that would be for each month,\n",
    "# we can use this script:\n",
    "for m in range(1,13):\n",
    "    # returns an array of weeks that represent the month\n",
    "    cal = calendar.monthcalendar(2013, m)\n",
    "    # The first Friday has to be within the first two weeks\n",
    "    weekone = cal[0]\n",
    "    weektwo = cal[1]\n",
    "     \n",
    "    if weekone[calendar.FRIDAY] != 0:\n",
    "        meetday = weekone[calendar.FRIDAY]\n",
    "    else:\n",
    "        # if the first Friday isn't in the first week, it must be in the second\n",
    "        meetday = weektwo[calendar.FRIDAY]\n",
    "        \n",
    "    print (\"%10s %2d\" % (calendar.month_name[m], meetday))"
   ]
  },
  {
   "cell_type": "markdown",
   "metadata": {},
   "source": [
    "## Working with Files"
   ]
  },
  {
   "cell_type": "code",
   "execution_count": null,
   "metadata": {},
   "outputs": [],
   "source": [
    "# Read and write files using the built-in Python file methods\n",
    " \n",
    "# Open a file for writing and create it if it doesn't exist\n",
    "f = open(\"Textfile.txt\",\"w+\")\n",
    "\n",
    "# Open the file for appending text to the end\n",
    "f = open(\"Textfile.txt\",\"a+\")\n",
    "\n",
    "# write some lines of data to the file\n",
    "for i in range(5):\n",
    "    f.write(\"This is line %d\\r\\n\" % (i+1))\n",
    "\n",
    "# close the file when done\n",
    "f.close()\n",
    "\n",
    "# Open the file back up and read the contents\n",
    "f = open(\"Textfile.txt\",\"r\")\n",
    "if f.mode == 'r': # check to make sure that the file was opened\n",
    "    # use the read() function to read the entire file\n",
    "    contents = f.read()\n",
    "    print(contents)\n",
    "\n",
    "    fl = f.readlines() # readlines reads the individual lines into a list\n",
    "    for x in fl:\n",
    "        print (x)"
   ]
  },
  {
   "cell_type": "markdown",
   "metadata": {},
   "source": [
    "## Path Utilities"
   ]
  },
  {
   "cell_type": "code",
   "execution_count": null,
   "metadata": {},
   "outputs": [],
   "source": [
    "# Example file for working with os.path module\n",
    "\n",
    "import os\n",
    "from os import path\n",
    "import datetime\n",
    "from datetime import date, time, timedelta\n",
    "import time\n",
    "\n",
    "# Print the name of the OS\n",
    "print (os.name);\n",
    "\n",
    "# Check for item existence and type\n",
    "print (\"Item exists: {0}\".format( path.exists(\"Textfile.txt\")))\n",
    "print (\"Item is a file: {0}\".format( path.isfile(\"Textfile.txt\")))\n",
    "print (\"Item is a directory: {0}\".format( path.isdir(\"Textfile.txt\")))\n",
    "\n",
    "# Work with file paths\n",
    "print (\"Item's path: {0}\".format( path.realpath(\"Textfile.txt\")))\n",
    "print (\"Item's path and name: {0}\".format( path.split(path.realpath(\"Textfile.txt\"))))\n",
    "\n",
    "# Get the modification time\n",
    "t = time.ctime(path.getmtime(\"Textfile.txt\"))\n",
    "print (\"File modification time : \", t)\n",
    "print (\"File modification time : \", datetime.datetime.fromtimestamp(path.getmtime(\"Textfile.txt\")))\n",
    "\n",
    "# Calculate how long ago the item was modified\n",
    "#td= datetime.datetime.now() - datetime.datetime.fromtimestamp(path.getmtime(\"Textfile.txt\"))\n",
    "#print (\"It has been \"+ str(td) + \"The file was modified\")\n",
    "#print (\"Or, {0}\".format( td.total_seconds() + \" seconds\")"
   ]
  },
  {
   "cell_type": "markdown",
   "metadata": {},
   "source": [
    "## Shell utility in Python"
   ]
  },
  {
   "cell_type": "code",
   "execution_count": null,
   "metadata": {},
   "outputs": [],
   "source": [
    "# Example file for working with filesystem shell methods\n",
    "\n",
    "import os\n",
    "import shutil\n",
    "from zipfile import ZipFile\n",
    "from os import path\n",
    "from shutil import make_archive\n",
    "\n",
    "\n",
    "# make a duplicate of an existing file\n",
    "if path.exists(\"textfile.txt\"):\n",
    "    # get the path to the file in the current directory\n",
    "    src = path.realpath(\"textfile.txt\");\n",
    "\n",
    "# separate the path part from the filename\n",
    "head, tail = path.split(src)\n",
    "print (\"path: \" , head)\n",
    "print (\"file: \" , tail)\n",
    "\n",
    "# let's make a backup copy by appending \"bak\" to the name\n",
    "dst = src + \".bak\"\n",
    "# now use the shell to make a copy of the file\n",
    "shutil.copy(src,dst)\n",
    "\n",
    "# copy over the permissions, modification times, and other info\n",
    "shutil.copystat(src, dst)\n",
    "\n",
    "# rename the original file\n",
    "#os.rename(\"Textfile.txt\", \"newfile.txt\")\n",
    "\n",
    "# now put things into a ZIP archive\n",
    "#     root_dir,tail = path.split(src)\n",
    "#     shutil.make_archive(\"archive\", \"zip\", root_dir)\n",
    "\n",
    "# more fine-grained control over ZIP files\n",
    "with ZipFile(\"testzip.zip\",\"w\") as newzip:\n",
    "    newzip.write(\"textfile.txt\")\n",
    "    newzip.write(\"textfile.txt.bak\")"
   ]
  },
  {
   "cell_type": "markdown",
   "metadata": {
    "collapsed": true
   },
   "source": [
    "# Working with Internet Data in Python"
   ]
  },
  {
   "cell_type": "code",
   "execution_count": null,
   "metadata": {
    "scrolled": false
   },
   "outputs": [],
   "source": [
    "# Example file for retrieving data from the internet\n",
    "\n",
    "from urllib import request\n",
    "\n",
    "\n",
    "# open a connection to a URL using urllib\n",
    "try:\n",
    "    webUrl = request.urlopen(\"http://www.google.com\")\n",
    "    status_code = webUrl.getcode()\n",
    "    if(status_code == 200):\n",
    "        # get the result code and print it\n",
    "        print (\"Result code: \" + str(status_code))\n",
    "except :\n",
    "    print(\"Error occured while requesting the webpage.\")\n",
    "\n",
    "# read the data from the URL and print it\n",
    "data = webUrl.read()\n",
    "#print(data)"
   ]
  },
  {
   "cell_type": "markdown",
   "metadata": {},
   "source": [
    "# Parsing and processing JSON data in Python"
   ]
  },
  {
   "cell_type": "code",
   "execution_count": null,
   "metadata": {},
   "outputs": [],
   "source": [
    "from urllib import request\n",
    "import json\n",
    "\n",
    "def printResults(data):\n",
    "    # Use the json module to load the string data into a dictionary\n",
    "    theJSON = json.loads(data)\n",
    "    \n",
    "    # now we can access the contents of the JSON like any other Python object\n",
    "    if \"title\" in theJSON[\"metadata\"]:\n",
    "        print ( theJSON[\"metadata\"][\"title\"])\n",
    "        print('\\n')\n",
    "    \n",
    "    # output the number of events, plus the magnitude and each event name  \n",
    "    count = theJSON[\"metadata\"][\"count\"];\n",
    "    print ( str(count) + \" events recorded\")\n",
    "    print('\\n')\n",
    "    \n",
    "    # for each event, print ( the place where it occurred\n",
    "    for i in theJSON[\"features\"]:\n",
    "        print ( i[\"properties\"][\"place\"])\n",
    "      \n",
    "    print ('\\n The events that only have a magnitude 4+ \\n')\n",
    "    for i in theJSON[\"features\"]:\n",
    "        if i[\"properties\"][\"mag\"] >= 4.0:\n",
    "            print ( \"%2.1f\" % i[\"properties\"][\"mag\"], i[\"properties\"][\"place\"])\n",
    "    print('\\n')\n",
    "  \n",
    "    # print ( only the events where at least 1 person reported feeling something\n",
    "    print ( \"\\nEvents that were felt:\\n\")\n",
    "    for i in theJSON[\"features\"]:\n",
    "        feltReports = i[\"properties\"][\"felt\"]\n",
    "        if (feltReports != None) & (feltReports != 0):\n",
    "            print ( \"%2.1f\" % i[\"properties\"][\"mag\"], i[\"properties\"][\"place\"], \" reported \" + str(feltReports) + \" times\")\n",
    "    \n",
    "def main():\n",
    "    # define a variable to hold the source URL\n",
    "    # In this case we'll use the free data feed from the USGS\n",
    "    # This feed lists all earthquakes for the last day larger than Mag 2.5\n",
    "    urlData = \"http://earthquake.usgs.gov/earthquakes/feed/v1.0/summary/2.5_day.geojson\"\n",
    "    \n",
    "    # Open the URL and read the data\n",
    "    webUrl = request.urlopen(urlData)\n",
    "    if (webUrl.getcode() == 200):\n",
    "        data = webUrl.read()\n",
    "        printResults(data)\n",
    "    else:\n",
    "        print ( \"Received an error from server, cannot retrieve results \" + str(webUrl.getcode()))\n",
    "\n",
    "if __name__ == \"__main__\":\n",
    "    main()\n"
   ]
  },
  {
   "cell_type": "markdown",
   "metadata": {
    "collapsed": true
   },
   "source": [
    "# Parsing and processing XML in Python"
   ]
  },
  {
   "cell_type": "code",
   "execution_count": null,
   "metadata": {},
   "outputs": [],
   "source": [
    "# Example file for parsing and processing XML\n",
    "\n",
    "import xml.dom.minidom\n",
    "\n",
    "def main():\n",
    "    # use the parse() function to load and parse an XML file\n",
    "    doc = xml.dom.minidom.parse(\"samplexml.xml\");\n",
    "    \n",
    "    # print out the document node and the name of the first child tag\n",
    "    print (doc.nodeName)\n",
    "    print (doc.firstChild.tagName)\n",
    "    \n",
    "    # get a list of XML tags from the document and print each one\n",
    "    skills = doc.getElementsByTagName(\"skill\")\n",
    "    print (\"%d skills:\" % skills.length)\n",
    "    for skill in skills:\n",
    "        print (skill.getAttribute(\"name\"))\n",
    "      \n",
    "    # create a new XML tag and add it into the document\n",
    "    newSkill = doc.createElement(\"skill\")\n",
    "    newSkill.setAttribute(\"name\", \"jQuery\")\n",
    "    doc.firstChild.appendChild(newSkill)\n",
    "  \n",
    "    skills = doc.getElementsByTagName(\"skill\")\n",
    "    print (\"%d skills:\" % skills.length)\n",
    "    for skill in skills:\n",
    "        print (skill.getAttribute(\"name\"))\n",
    "    \n",
    "if __name__ == \"__main__\":\n",
    "    main();"
   ]
  },
  {
   "cell_type": "markdown",
   "metadata": {
    "collapsed": true
   },
   "source": [
    "# Parsing and processing HTML in Python"
   ]
  },
  {
   "cell_type": "code",
   "execution_count": null,
   "metadata": {},
   "outputs": [],
   "source": [
    "# import the HTMLParser module\n",
    "from HTMLParser import htmlparser\n",
    "\n",
    "metacount = 0;\n",
    "\n",
    "# create a subclass and override the handler methods\n",
    "class MyHTMLParser(HTMLParser):\n",
    "    # function to handle an opening tag in the doc\n",
    "    # this will be called when the closing \">\" of the tag is reached\n",
    "    def handle_starttag(self, tag, attrs):\n",
    "        global metacount\n",
    "        print (\"Encountered a start tag:\", tag)\n",
    "        if tag == \"meta\":\n",
    "            metacount += 1\n",
    "          \n",
    "        pos = self.getpos() # returns a tuple indication line and character\n",
    "        print (\"At line: \", pos[0], \" position \", pos[1])\n",
    "        if attrs.__len__ > 0:\n",
    "            print ( \"\\tAttributes:\")\n",
    "            for a in attrs:\n",
    "                print ( \"\\t\", a[0],\"=\",a[1])\n",
    "        \n",
    "    # function to handle the ending tag\n",
    "    def handle_endtag(self, tag):\n",
    "        print ( \"Encountered an end tag:\", tag)\n",
    "        pos = self.getpos()\n",
    "        print ( \"At line: \", pos[0], \" position \", pos[1])\n",
    "        \n",
    "    # function to handle character and text data (tag contents)\n",
    "    def handle_data(self, data):\n",
    "        print ( \"Encountered some data:\", data)\n",
    "        pos = self.getpos()\n",
    "        print ( \"At line: \", pos[0], \" position \", pos[1])\n",
    "    \n",
    "    # function to handle the processing of HTML comments\n",
    "    def handle_comment(self, data):\n",
    "        print ( \"Encountered comment:\", data)\n",
    "        pos = self.getpos()\n",
    "        print ( \"At line: \", pos[0], \" position \", pos[1])\n",
    "\n",
    "def main():\n",
    "    # instantiate the parser and feed it some HTML\n",
    "    parser = MyHTMLParser()\n",
    "      \n",
    "    # open the sample HTML file and read it\n",
    "    f = open(\"samplehtml.html\")\n",
    "    if f.mode == \"r\":\n",
    "        contents = f.read() # read the entire file\n",
    "        parser.feed(contents)\n",
    "    \n",
    "    print ( \"%d meta tags encountered\" % metacount)\n",
    "\n",
    "if __name__ == \"__main__\":\n",
    "    main();"
   ]
  }
 ],
 "metadata": {
  "kernelspec": {
   "display_name": "Python 3",
   "language": "python",
   "name": "python3"
  },
  "language_info": {
   "codemirror_mode": {
    "name": "ipython",
    "version": 3
   },
   "file_extension": ".py",
   "mimetype": "text/x-python",
   "name": "python",
   "nbconvert_exporter": "python",
   "pygments_lexer": "ipython3",
   "version": "3.6.3"
  }
 },
 "nbformat": 4,
 "nbformat_minor": 2
}
