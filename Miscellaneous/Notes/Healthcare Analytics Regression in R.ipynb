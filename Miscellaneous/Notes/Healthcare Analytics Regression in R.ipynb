{
 "cells": [
  {
   "cell_type": "markdown",
   "metadata": {},
   "source": [
    "# What you should know?\n",
    "\n",
    "* You need to have completed a basic course in regression. \n",
    "* You need to have completed the first course in the series: **_Descriptive Healthcare Analytics in R._**\n",
    "* A background in health, health care, or public health is helpful. \n",
    "* Focus is not only on R, but also applied analytics — developing regression analyses. "
   ]
  },
  {
   "cell_type": "markdown",
   "metadata": {},
   "source": [
    "# Regression in R \n",
    "\n",
    "1. Designing Your Research \n",
    "2. Preparing for Linear Regression \n",
    "3. Beginning Linear Regression Modeling \n",
    "4. Final Linear Regression Modeling \n",
    "5. Preparing for Logistic Regression \n",
    "6. Developing the Logistic Regression Model "
   ]
  },
  {
   "cell_type": "markdown",
   "metadata": {},
   "source": [
    "# Scientific Method\n",
    "\n",
    "### Outline\n",
    "\n",
    "* Review the steps for the scientific method \n",
    "* Talk about the components for a hypothesis \n",
    "    * Subpopulation \n",
    "    * Exposure \n",
    "    * Outcome \n",
    "\n",
    "\n"
   ]
  },
  {
   "cell_type": "markdown",
   "metadata": {},
   "source": [
    "Analytic = Hypothesis Driven\n",
    "\n",
    "|Descriptive | Analytic |\n",
    "|-|-|\n",
    "|* Aimed at developing population-based rates | * Aimed at exploring cross-sectional associations (hinting at potential causes) |\n",
    "| * Dependent upon the sampling approach—uses \"weights\" |* Generally does not use weighting |\n",
    "|* More often done by CDC/states |* More often done by independent researchers | "
   ]
  },
  {
   "cell_type": "markdown",
   "metadata": {},
   "source": [
    "# Steps for the Scientific Method\n",
    "\n",
    "<br >\n",
    "<img src='Steps for the Scientific Method.png' alt='Steps for the Scientific Method' align=left />"
   ]
  },
  {
   "cell_type": "markdown",
   "metadata": {},
   "source": [
    "# Behavioral Risk Factor Surveillance System (2014 Questionnaire)\n",
    "\n",
    "#### Table of Contents:\n",
    "\n",
    "01. Health Status \n",
    "02. Healthy Days — Health-Related Quality Of Life \n",
    "03. Health Care Access \n",
    "04. Exercise\n",
    "05. Inadequate Sleep \n",
    "06. Chronic Health Conditions\n",
    "07. Oral Health\n",
    "08. Demographics\n",
    "09. Tobacco Use\n",
    "10. Alcohol Consumption\n",
    "11. Immunization\n",
    "12. Falls \n",
    "13. Seatbelt Use \n",
    "14. Drinking and Driving\n",
    "15. Breast and Cervical Cancer Screening \n",
    "16. Prostate Cancer Screening \n",
    "17. Colorectal Cancer Screening. \n",
    "18. HIV/AIDS"
   ]
  },
  {
   "cell_type": "markdown",
   "metadata": {},
   "source": [
    "# Components of a Hypothesis \n",
    "\n",
    "|Component |Example |\n",
    "|-|-|\n",
    "|Defined subpopulation|Hispanics |\n",
    "|Defined exposure—something you think causes, protects from, or is associated with a disease or outcome |Engaging in regular exercise |\n",
    "|Defined disease or outcome, which you think is affected by the exposure |Lower risk of diabetes|"
   ]
  },
  {
   "cell_type": "markdown",
   "metadata": {},
   "source": [
    "# Conclusion \n",
    "\n",
    "* Epidemiology 101: Review scientific method \n",
    "* Example of shopping for components for our hypothesis in the BRFSS questionnaire \n",
    "    * Subpopulation (Hispanics) \n",
    "    * Exposure (regular exercise) \n",
    "    * Outcome (diabetes) "
   ]
  },
  {
   "cell_type": "markdown",
   "metadata": {},
   "source": [
    "# Using a Cross-Sectional Approach\n",
    "\n"
   ]
  },
  {
   "cell_type": "code",
   "execution_count": null,
   "metadata": {
    "collapsed": true
   },
   "outputs": [],
   "source": []
  }
 ],
 "metadata": {
  "kernelspec": {
   "display_name": "R",
   "language": "R",
   "name": "ir"
  },
  "language_info": {
   "codemirror_mode": "r",
   "file_extension": ".r",
   "mimetype": "text/x-r-source",
   "name": "R",
   "pygments_lexer": "r",
   "version": "3.3.2"
  }
 },
 "nbformat": 4,
 "nbformat_minor": 2
}
