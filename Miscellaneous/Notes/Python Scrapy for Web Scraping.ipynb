{
 "cells": [
  {
   "cell_type": "markdown",
   "metadata": {},
   "source": [
    "**Scrapy is a Python framework** for large scale web scraping. It gives you all the tools you need to efficiently extract data from websites, process them as you want, and store them in your preferred structure and format.\n",
    "\n",
    "1. Type the command in console : `scrapy startproject Project_Name project_path`\n",
    "2. Type the command in console : `scrapy genspider spider_name URL`\n",
    "3. Edit Spider to extract data\n",
    "4. Type the command in console : `scrapy crawl spider_name`"
   ]
  },
  {
   "cell_type": "markdown",
   "metadata": {},
   "source": [
    "**settings.py**\n",
    "\n",
    "* To download the image data insert these line in _settings.py_ of the project\n",
    "\n",
    "`\n",
    "ITEM_PIPELINES = {\n",
    "  'scrapy.pipelines.images.ImagesPipeline': 1\n",
    "}\n",
    "IMAGES_STORE = 'tmp/images/'\n",
    "`"
   ]
  },
  {
   "cell_type": "code",
   "execution_count": 1,
   "metadata": {
    "collapsed": false
   },
   "outputs": [
    {
     "name": "stdout",
     "output_type": "stream",
     "text": [
      "New Scrapy project 'Quotes', using template directory 'C:\\\\Users\\\\Sarfu\\\\Anaconda3\\\\lib\\\\site-packages\\\\scrapy\\\\templates\\\\project', created in:\n",
      "    D:\\Projects\\PythonNotes\\Quotes\n",
      "\n",
      "You can start your first spider with:\n",
      "    cd Quotes\n",
      "    scrapy genspider example example.com\n"
     ]
    }
   ],
   "source": [
    "!scrapy startproject Quotes Quotes"
   ]
  },
  {
   "cell_type": "code",
   "execution_count": 2,
   "metadata": {
    "collapsed": true
   },
   "outputs": [],
   "source": [
    "!cd Quotes/Quotes/spiders/"
   ]
  },
  {
   "cell_type": "code",
   "execution_count": 3,
   "metadata": {
    "collapsed": false
   },
   "outputs": [
    {
     "name": "stdout",
     "output_type": "stream",
     "text": [
      "Created spider 'QuoteSpider' using template 'basic' \n"
     ]
    }
   ],
   "source": [
    "!scrapy genspider QuoteSpider http://www.greatest-quotations.com/search/quotes-love.html"
   ]
  },
  {
   "cell_type": "code",
   "execution_count": 5,
   "metadata": {
    "collapsed": true
   },
   "outputs": [],
   "source": [
    "!QuoteSpider.py"
   ]
  },
  {
   "cell_type": "code",
   "execution_count": 7,
   "metadata": {
    "collapsed": true
   },
   "outputs": [],
   "source": [
    "import scrapy\n",
    "\n",
    "class QuotespiderSpider(scrapy.Spider):\n",
    "\tname = 'QuoteSpider'\n",
    "\tallowed_domains = ['http://www.greatest-quotations.com/search/quotes-love.html']\n",
    "\tstart_urls = ['http://www.greatest-quotations.com/search/quotes-love.html/']\n",
    "\n",
    "\t#location of csv file\n",
    "\tcustom_settings = {'FEED_URI' : 'tmp/swimwear.csv'}\n",
    "\n",
    "\tdef parse(self, response):\n",
    "\t\t#Extract product information\n",
    "\t\tquote_txt= response.css('p::text').extract()\n",
    "\t\tauthor = response.css('img::attr(alt)').extract()\n",
    "\t\timage_urls = response.css('img::attr(src)').extract()\n",
    "\n",
    "\t\tfor item in zip(author,quote_txt,image_urls):\n",
    "\t\t\tscraped_info = {\n",
    "\t\t\t\t'author' : item[0],\n",
    "\t\t\t\t'quote_txt' : item[1], \n",
    "\t\t\t\t'image_urls' : [item[2]] #Set's the url for scrapy to download images\n",
    "\t\t\t\t\n",
    "\t\t\t}\n",
    "\t\t\t\n",
    "\t\t\tyield scraped_info"
   ]
  },
  {
   "cell_type": "code",
   "execution_count": 8,
   "metadata": {
    "collapsed": false
   },
   "outputs": [
    {
     "name": "stdout",
     "output_type": "stream",
     "text": [
      "Scrapy 1.4.0 - no active project\n",
      "\n",
      "Unknown command: crawl\n",
      "\n",
      "Use \"scrapy\" to see available commands\n"
     ]
    }
   ],
   "source": [
    "!scrapy crawl "
   ]
  },
  {
   "cell_type": "code",
   "execution_count": null,
   "metadata": {
    "collapsed": true
   },
   "outputs": [],
   "source": []
  }
 ],
 "metadata": {
  "kernelspec": {
   "display_name": "Python 3",
   "language": "python",
   "name": "python3"
  },
  "language_info": {
   "codemirror_mode": {
    "name": "ipython",
    "version": 3
   },
   "file_extension": ".py",
   "mimetype": "text/x-python",
   "name": "python",
   "nbconvert_exporter": "python",
   "pygments_lexer": "ipython3",
   "version": "3.6.0"
  }
 },
 "nbformat": 4,
 "nbformat_minor": 2
}
