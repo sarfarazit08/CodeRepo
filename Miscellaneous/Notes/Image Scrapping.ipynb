{
 "cells": [
  {
   "cell_type": "code",
   "execution_count": 17,
   "metadata": {
    "collapsed": false
   },
   "outputs": [
    {
     "data": {
      "text/plain": [
       "'D:\\\\CodeRepo\\\\PythonNotes'"
      ]
     },
     "execution_count": 17,
     "metadata": {},
     "output_type": "execute_result"
    }
   ],
   "source": [
    "import os\n",
    "os.path.dirname(os.path.abspath('__file__'))"
   ]
  },
  {
   "cell_type": "code",
   "execution_count": 10,
   "metadata": {
    "collapsed": false,
    "scrolled": false
   },
   "outputs": [
    {
     "name": "stdout",
     "output_type": "stream",
     "text": [
      "Creating project folder : images\n",
      "Created project folder : images\n",
      "Files download failed.\n",
      "Files download failed.\n",
      "Files download failed.\n",
      "Files download failed.\n",
      "Files download failed.\n",
      "Files download failed.\n",
      "Files download failed.\n",
      "Files download failed.\n",
      "Files download failed.\n",
      "Files download failed.\n",
      "Files download failed.\n",
      "Files download failed.\n",
      "Files download failed.\n",
      "Files download failed.\n",
      "Files download failed.\n",
      "Files download failed.\n",
      "Files download failed.\n",
      "Files download failed.\n",
      "Files download failed.\n",
      "Files download failed.\n",
      "Files download failed.\n",
      "Files download failed.\n",
      "Files download failed.\n",
      "Files download failed.\n",
      "Files download failed.\n",
      "Files download failed.\n",
      "Files download failed.\n",
      "Files download failed.\n",
      "Files download failed.\n",
      "Files download failed.\n",
      "Files download failed.\n",
      "Files download failed.\n",
      "Files download failed.\n",
      "Files download failed.\n",
      "Files download failed.\n",
      "Files download failed.\n",
      "Files download failed.\n",
      "Files download failed.\n",
      "Files download failed.\n",
      "Files download failed.\n",
      "Files download failed.\n",
      "Files download failed.\n",
      "Files download failed.\n",
      "Files download failed.\n",
      "Files download failed.\n",
      "File writing successful.\n"
     ]
    }
   ],
   "source": [
    "import requests\n",
    "from bs4 import BeautifulSoup\n",
    "import os\n",
    "\n",
    "# image url parser\n",
    "def parser(url):\n",
    "    urls = set()    \n",
    "    r = requests.get(url)\n",
    "    data = r.text\n",
    "    soup = BeautifulSoup(data, \"lxml\")\n",
    "    for link in soup.find_all('img'):\n",
    "        image = link.get('data-original')        \n",
    "        #image = image[:image.find(\"?\")+1]\n",
    "        urls.add(image)\n",
    "    return urls\n",
    "\n",
    "def file_download(storage_folder,urls):\n",
    "    \n",
    "    try:\n",
    "        for url in urls:\n",
    "            image_name = os.path.split(url)[1] \n",
    "            r2 = requests.get(url) \n",
    "\n",
    "            path = storage_folder+\"\\\\\"+image_name \n",
    "            with open(path, \"wb\") as f:\n",
    "                f.write(r2.content)\n",
    "        print('Files downloaded.')\n",
    "    except Exception as e:\n",
    "        print('Files download failed. {}'.format(e.args))\n",
    "    \n",
    "def write_html(storage_folder,urls):  \n",
    "    links = []  \n",
    "    \n",
    "    for url in urls:\n",
    "        links.append(\"<img src={} alt={} />\".format(url,os.path.split(url)[1]))\n",
    "\n",
    "    try:       \n",
    "        path = storage_folder+\"\\images.html\" \n",
    "        file = open(path,'w')\n",
    "        file.write('\\n'.join(links))\n",
    "        file.close()\n",
    "        print(\"File writing successful.\")\n",
    "    except IOError as e:\n",
    "        print(\"File writing failed. {}\" % e)\n",
    "        file.close()\n",
    "\n",
    "# Create project storage folder\n",
    "def create_proj_folder(storage_folder):\n",
    "    '''\n",
    "    create_proj_folder (storage_folder)\n",
    "    '''\n",
    "    if not os.path.exists(storage_folder):\n",
    "        print('Creating project folder : {}'.format(storage_folder))\n",
    "        os.makedirs(storage_folder)\n",
    "        print('Created project folder : {}'.format(storage_folder))\n",
    "\n",
    "# main method\n",
    "def main(url, storage_folder):\n",
    "\n",
    "    urls = set() \n",
    "\n",
    "    # image url parser\n",
    "    urls = parser(url)\n",
    "\n",
    "    # Create image storage folder\n",
    "    create_proj_folder(storage_folder)\n",
    "\n",
    "    #\n",
    "    file_download(storage_folder,urls)        \n",
    "    \n",
    "    #\n",
    "    write_html(storage_folder,urls)   \n",
    "\n",
    "# Calling main method\n",
    "main(r'http://www.imgmodels.com/new-york/women', 'images')"
   ]
  },
  {
   "cell_type": "code",
   "execution_count": 11,
   "metadata": {
    "collapsed": false,
    "scrolled": false
   },
   "outputs": [
    {
     "data": {
      "text/html": [
       "<iframe height='1000' width= \"100%\" src=\"images.html?inline=true\"></iframe>"
      ],
      "text/plain": [
       "<IPython.core.display.HTML object>"
      ]
     },
     "metadata": {},
     "output_type": "display_data"
    }
   ],
   "source": [
    "%%HTML\n",
    "<iframe height='1000' width= \"100%\" src=\"images.html?inline=true\"></iframe>"
   ]
  },
  {
   "cell_type": "code",
   "execution_count": null,
   "metadata": {
    "collapsed": true
   },
   "outputs": [],
   "source": []
  }
 ],
 "metadata": {
  "kernelspec": {
   "display_name": "Python 3",
   "language": "python",
   "name": "python3"
  },
  "language_info": {
   "codemirror_mode": {
    "name": "ipython",
    "version": 3
   },
   "file_extension": ".py",
   "mimetype": "text/x-python",
   "name": "python",
   "nbconvert_exporter": "python",
   "pygments_lexer": "ipython3",
   "version": "3.6.0"
  }
 },
 "nbformat": 4,
 "nbformat_minor": 2
}
