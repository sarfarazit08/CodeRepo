{
 "cells": [
  {
   "cell_type": "markdown",
   "metadata": {},
   "source": []
  },
  {
   "cell_type": "markdown",
   "metadata": {},
   "source": [
    "### Hello World Demo"
   ]
  },
  {
   "cell_type": "code",
   "execution_count": 3,
   "metadata": {},
   "outputs": [
    {
     "name": "stdout",
     "output_type": "stream",
     "text": [
      "[1] \"Hello World\"\n"
     ]
    }
   ],
   "source": [
    "x <- \"Hello World\"\n",
    "print(x)"
   ]
  },
  {
   "cell_type": "markdown",
   "metadata": {},
   "source": [
    "### Introduction to R"
   ]
  },
  {
   "cell_type": "markdown",
   "metadata": {},
   "source": [
    "+ Open Source\n",
    "+ Built on the concept of S language (for Statistical Purpose)"
   ]
  },
  {
   "cell_type": "markdown",
   "metadata": {},
   "source": [
    "### Introduction & Course Overview"
   ]
  },
  {
   "attachments": {},
   "cell_type": "markdown",
   "metadata": {},
   "source": [
    "#### Overview\n",
    "+ Introduction to R \n",
    "+ Transforming and Cleaning Data \n",
    "+ Calculating Descriptive Statistics \n",
    "+ Visualizing Data \n",
    "+ Moving Beyond R and EDA\n",
    "\n",
    "#### Prerequisites \n",
    "\n",
    "+ Experience with a C-like language\n",
    "+ Basic Knowledge of Statistics\n",
    "+ Willingness to Practice\n",
    "\n",
    "#### How Does This Apply to Me? \n",
    "\n",
    "+ Perform Log File Analysis \n",
    "+ Analyze Performance \n",
    "+ Analyze Code Metrics \n",
    "+ Detect Anomalies \n",
    "+ Transform or Clean Data \n",
    "+ Help Decision Makers"
   ]
  },
  {
   "cell_type": "code",
   "execution_count": null,
   "metadata": {},
   "outputs": [],
   "source": []
  },
  {
   "cell_type": "markdown",
   "metadata": {},
   "source": [
    "### Calculating Descriptive Statistics Overview\n",
    "### Calculating Descriptive Statistics Summary\n",
    "### Introduction to Visualizing Data\n",
    "### Overview\n",
    "### Summary of Visualizing Data\n",
    "### Transforming and Cleaning Data Summary\n",
    "### Demo Conclusion\n",
    "### Demo Setup\n",
    "### Introduction to Calculating Descriptive Statistics\n",
    "### Overview of Transforming and Cleaning Data\n",
    "### Overview of Visualizing Data\n",
    "### Univariate Analysis - Calculating Descriptive Statistics\n",
    "### Welcome to R Programming Summary\n",
    "### Bivariate Analysis - Calculating Descriptive Statistics\n",
    "### Bivariate Analysis Demo\n",
    "### Demo Conclusion\n",
    "### Demo Setup - Calculating Descriptive Statistics\n",
    "### Demo Setup - Transforming and Cleaning Data\n",
    "### Exporting Data\n",
    "### Introducing R-Studio\n",
    "### Loading Data\n",
    "### Other R Language Features Demo\n",
    "### R Data Frames Demo\n",
    "### R Data Structures Demo\n",
    "### R Language Basics Demo\n",
    "### Univariate Analysis Demo\n",
    "### Bivariate Analysis Demo\n",
    "### Bivariate Analysis\n",
    "### Cleaning Data\n",
    "### Guidance - Calculating Descriptive Statistics\n",
    "### Introduction to Transforming and Cleaning Data\n",
    "### Univariate Analysis Demo\n",
    "### Univariate Analysis\n",
    "### Guidance\n",
    "### Alternatives to R\n",
    "### Summary\n",
    "### Beyond Exploratory Data Analysis\n",
    "### Cluster Analysis Demo\n",
    "### Linear Regression Analysis Demo-"
   ]
  },
  {
   "cell_type": "code",
   "execution_count": null,
   "metadata": {},
   "outputs": [],
   "source": []
  }
 ],
 "metadata": {
  "kernelspec": {
   "display_name": "R",
   "language": "R",
   "name": "ir"
  },
  "language_info": {
   "codemirror_mode": "r",
   "file_extension": ".r",
   "mimetype": "text/x-r-source",
   "name": "R",
   "pygments_lexer": "r",
   "version": "3.4.2"
  }
 },
 "nbformat": 4,
 "nbformat_minor": 2
}
