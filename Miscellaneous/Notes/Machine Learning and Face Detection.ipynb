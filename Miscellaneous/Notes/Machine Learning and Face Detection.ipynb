{
 "cells": [
  {
   "cell_type": "markdown",
   "metadata": {},
   "source": [
    "# Course Topics\n",
    "\n",
    "* Machine Learning Techniques\n",
    "* Linear Regression\n",
    "* Logistic Regression\n",
    "* K-nearest Neighbour (KNN) Classifier\n",
    "* Naive Bayes Classifier \n",
    "* Support Vector Machines (SVM)\n",
    "* Clustering : \n",
    "    * K-Means\n",
    "    * Hierarchical\n",
    "* Neural Networks\n",
    "\n",
    "\n",
    "* Decision Tree\n",
    "* Random Forest\n",
    "* Dimensionality Reduction Algorithms\n",
    "* Gradient Boost & Adaboost\n",
    "* Markov Decision Process"
   ]
  },
  {
   "cell_type": "markdown",
   "metadata": {},
   "source": [
    "## Machine Learning\n",
    "\n",
    "* A field of study that enables computers to learn without being explicitly programmed\n",
    "* Computer Program performance on a given task improves with experience\n",
    "* Types of Machine Learning Algorithms :\n",
    "    * **Supervised Learning :** We provide right answers or rather we supervise algorithm to come up better solution to a problem.    \n",
    "     **e.g:** Regression, Naive Bayes, SVM, Random Forest\n",
    "    \n",
    "        * It requires a dataset\n",
    "        * Dataset splitted into _Training_ and _Test_ datasets\n",
    "        * Training algorithm on _Training_ data set and then testing the algorithm on _Test_ dataset for it's accuracy\n",
    "                      \n",
    "    * **Unsupervised Learning :** We don't provide right answers or rather we don't supervise algorithm but it still gives us a  better solution to a problem. **e.g:** K-Means, Hierarchical Clustering, PCA\n",
    "        * It also requires dataset\n",
    "        * Dataset has no labels or right answers to supervise the algorithm\n",
    "        * It identifies patterns and clusters in the data to train itself on its own       \n",
    "        \n",
    "    * **Reinforcement Learning :** Algorithm trains itself continually using trial and error. This algorithm learns from past experience and tries to capture the best possible knowledge for its performance and accuracy. **e.g:** Markov Decision Process"
   ]
  },
  {
   "cell_type": "markdown",
   "metadata": {},
   "source": [
    "### Linear Regression Example"
   ]
  },
  {
   "cell_type": "markdown",
   "metadata": {
    "collapsed": true
   },
   "source": [
    "* Is there a relationship between house sizes and house prices?\n",
    "* Is the relationship Linear? if yes then we assume : y = b0 + b1 * x"
   ]
  },
  {
   "cell_type": "code",
   "execution_count": 1,
   "metadata": {
    "collapsed": true
   },
   "outputs": [],
   "source": [
    "from scipy import stats\n",
    "from matplotlib import pyplot as plt\n",
    "import numpy as np\n",
    "\n",
    "houseSizes = np.array([122, 334,200,350,372,540,312,421,564]) # house sizes in square meters\n",
    "housePrices = np.array([]) # house prices in thousand $'s\n",
    "\n"
   ]
  },
  {
   "cell_type": "code",
   "execution_count": null,
   "metadata": {
    "collapsed": true
   },
   "outputs": [],
   "source": []
  }
 ],
 "metadata": {
  "kernelspec": {
   "display_name": "Python 3",
   "language": "python",
   "name": "python3"
  },
  "language_info": {
   "codemirror_mode": {
    "name": "ipython",
    "version": 3
   },
   "file_extension": ".py",
   "mimetype": "text/x-python",
   "name": "python",
   "nbconvert_exporter": "python",
   "pygments_lexer": "ipython3",
   "version": "3.6.0"
  }
 },
 "nbformat": 4,
 "nbformat_minor": 2
}
